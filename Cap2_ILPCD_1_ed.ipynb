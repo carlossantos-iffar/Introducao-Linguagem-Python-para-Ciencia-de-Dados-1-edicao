{
  "nbformat": 4,
  "nbformat_minor": 0,
  "metadata": {
    "colab": {
      "provenance": []
    },
    "kernelspec": {
      "name": "python3",
      "display_name": "Python 3"
    },
    "language_info": {
      "name": "python"
    }
  },
  "cells": [
    {
      "cell_type": "markdown",
      "source": [
        "**Capítulo 2 – Operadores e Expressões**"
      ],
      "metadata": {
        "id": "4Tohpu-zV4Fa"
      }
    },
    {
      "cell_type": "markdown",
      "source": [
        "_Este notebook contém todos os códigos de exemplo e soluções para os exercícios do Capítulo 1._"
      ],
      "metadata": {
        "id": "LW6frP1KWroi"
      }
    },
    {
      "cell_type": "markdown",
      "source": [
        "<table align=\"left\">\n",
        "  <td>\n",
        "    <a href=\"https://colab.research.google.com/drive/1KUNXcZCgcIYLK5qcdql9T3AH1YK-WIOP\" target=\"_parent\"><img src=\"https://colab.research.google.com/assets/colab-badge.svg\" alt=\"Open In Colab\"/></a>\n",
        "  </td>\n",
        "</table>"
      ],
      "metadata": {
        "id": "yBJquUYkWvIh"
      }
    },
    {
      "cell_type": "markdown",
      "source": [
        "# Configuração"
      ],
      "metadata": {
        "id": "f4U4EAwnXQDZ"
      }
    },
    {
      "cell_type": "markdown",
      "source": [
        "Este projeto requer Python 3.11 ou superior:"
      ],
      "metadata": {
        "id": "0Sl5DlgDXWQB"
      }
    },
    {
      "cell_type": "code",
      "source": [
        "import sys\n",
        "\n",
        "assert sys.version_info >= (3, 11)"
      ],
      "metadata": {
        "id": "3SNbtY_UXdQp"
      },
      "execution_count": 9,
      "outputs": []
    },
    {
      "cell_type": "markdown",
      "source": [
        "Verifique a versão do Python instalada no Colab:"
      ],
      "metadata": {
        "id": "5vQiQqOyZ7cH"
      }
    },
    {
      "cell_type": "code",
      "source": [
        "!python --version"
      ],
      "metadata": {
        "colab": {
          "base_uri": "https://localhost:8080/"
        },
        "id": "dT26LEsSZx1-",
        "outputId": "96daea37-196f-4778-87f3-e968e9890248"
      },
      "execution_count": 10,
      "outputs": [
        {
          "output_type": "stream",
          "name": "stdout",
          "text": [
            "Python 3.11.13\n"
          ]
        }
      ]
    },
    {
      "cell_type": "markdown",
      "source": [
        "Operadores Aritméticos"
      ],
      "metadata": {
        "id": "Yj27ncfwthmY"
      }
    },
    {
      "cell_type": "code",
      "source": [
        "# Adição\n",
        "resultado_soma = 25 + 10\n",
        "print(f\"25 + 10 = {resultado_soma}\") # Saída: 25 + 10 = 35\n",
        "\n",
        "# Subtração\n",
        "resultado_subtracao = 100 - 45\n",
        "print(f\"100 - 45 = {resultado_subtracao}\") # Saída: 100 - 45 = 55\n",
        "\n",
        "# Multiplicação\n",
        "resultado_multiplicacao = 12 * 5\n",
        "print(f\"12 * 5 = {resultado_multiplicacao}\") # Saída: 12 * 5 = 60\n",
        "\n",
        "# Divisão (sempre retorna um float)\n",
        "resultado_divisao = 20 / 4\n",
        "print(f\"20 / 4 = {resultado_divisao}\") # Saída: 20 / 4 = 5.0\n",
        "# Divisão Inteira (descarta a parte decimal)\n",
        "resultado_divisao_inteira = 20 // 6\n",
        "print(f\"20 // 6 = {resultado_divisao_inteira}\") # Saída: 20 // 6 = 3\n",
        "\n",
        "# Módulo (resto da divisão)\n",
        "resultado_modulo = 17 % 5\n",
        "print(f\"17 % 5 = {resultado_modulo}\") # Saída: 17 % 5 = 2\n",
        "\n",
        "# Potenciação\n",
        "resultado_potencia = 3 ** 4 # 3 elevado a 4\n",
        "print(f\"3 ** 4 = {resultado_potencia}\") # Saída: 3 ** 4 = 81"
      ],
      "metadata": {
        "colab": {
          "base_uri": "https://localhost:8080/"
        },
        "id": "nrHehsultisv",
        "outputId": "b2a1e772-93f6-4883-8a5f-1a59f7ee9919"
      },
      "execution_count": 11,
      "outputs": [
        {
          "output_type": "stream",
          "name": "stdout",
          "text": [
            "25 + 10 = 35\n",
            "100 - 45 = 55\n",
            "12 * 5 = 60\n",
            "20 / 4 = 5.0\n",
            "20 // 6 = 3\n",
            "17 % 5 = 2\n",
            "3 ** 4 = 81\n"
          ]
        }
      ]
    },
    {
      "cell_type": "markdown",
      "source": [
        "Operadores de Comparação"
      ],
      "metadata": {
        "id": "A8G7ekI-tyAA"
      }
    },
    {
      "cell_type": "code",
      "source": [
        "a = 15\n",
        "b = 20\n",
        "c = 15\n",
        "\n",
        "print(f\"a == c: {a == c}\")   # Saída: a == c: True\n",
        "print(f\"a != b: {a != b}\")   # Saída: a != b: True\n",
        "print(f\"a > b: {a > b}\")     # Saída: a > b: False\n",
        "\n",
        "print(f\"b < a: {b < a}\")     # Saída: b < a: False\n",
        "print(f\"a >= c: {a >= c}\")   # Saída: a >= c: True\n",
        "print(f\"b <= a: {b <= a}\")   # Saída: b <= a: False\n",
        "\n",
        "# Comparando strings (sensível a maiúsculas/minúsculas)\n",
        "palavra1 = \"Python\"\n",
        "palavra2 = \"python\"\n",
        "print(f\"palavra1 == palavra2: {palavra1 == palavra2}\") # Saída: palavra1 == palavra2: False"
      ],
      "metadata": {
        "colab": {
          "base_uri": "https://localhost:8080/"
        },
        "id": "s3LSuLt4ty6g",
        "outputId": "47f25c70-a599-4b0a-b262-f80c753271ea"
      },
      "execution_count": 12,
      "outputs": [
        {
          "output_type": "stream",
          "name": "stdout",
          "text": [
            "a == c: True\n",
            "a != b: True\n",
            "a > b: False\n",
            "b < a: False\n",
            "a >= c: True\n",
            "b <= a: False\n",
            "palavra1 == palavra2: False\n"
          ]
        }
      ]
    },
    {
      "cell_type": "markdown",
      "source": [
        "Operadores Lógicos"
      ],
      "metadata": {
        "id": "6B8v-A4At8Nn"
      }
    },
    {
      "cell_type": "code",
      "source": [
        "idade = 25\n",
        "tem_carteira = True\n",
        "\n",
        "# Usando 'and'\n",
        "pode_dirigir = (idade >= 18) and tem_carteira\n",
        "print(f\"Pode dirigir? {pode_dirigir}\") # Saída: Pode dirigir? True (25 >= 18 é True E True é True)\n",
        "\n",
        "idade_crianca = 10\n",
        "pode_dirigir_crianca = (idade_crianca >= 18) and tem_carteira\n",
        "print(f\"Criança pode dirigir? {pode_dirigir_crianca}\") # Saída: Criança pode dirigir? False (10 >= 18 é False)\n",
        "\n",
        "# Usando 'or'\n",
        "tem_desconto = (idade < 12) or (idade >= 60)\n",
        "print(f\"Tem desconto (criança ou idoso)? {tem_desconto}\") # Saída: Tem desconto (criança ou idoso)? False\n",
        "\n",
        "temperatura = 30\n",
        "clima_bom = (temperatura > 25) or (tem_carteira == False) # Exemplo de uso misturado\n",
        "print(f\"Clima bom ou sem carteira? {clima_bom}\") # Saída: Clima bom ou sem carteira? True (temperatura > 25 é True)\n",
        "\n",
        "# Usando 'not'\n",
        "esta_chovendo = False\n",
        "precisa_guarda_chuva = not esta_chovendo\n",
        "print(f\"Precisa de guarda-chuva? {precisa_guarda_chuva}\") # Saída: Precisa de guarda-chuva? True"
      ],
      "metadata": {
        "colab": {
          "base_uri": "https://localhost:8080/"
        },
        "id": "ew-WvErLt9EP",
        "outputId": "c5c89235-e2ed-49ee-db20-df57d0cb53a9"
      },
      "execution_count": 13,
      "outputs": [
        {
          "output_type": "stream",
          "name": "stdout",
          "text": [
            "Pode dirigir? True\n",
            "Criança pode dirigir? False\n",
            "Tem desconto (criança ou idoso)? False\n",
            "Clima bom ou sem carteira? True\n",
            "Precisa de guarda-chuva? True\n"
          ]
        }
      ]
    },
    {
      "cell_type": "markdown",
      "source": [
        "Precedência de Operadores"
      ],
      "metadata": {
        "id": "08HEd-FjuFbH"
      }
    },
    {
      "cell_type": "code",
      "source": [
        "expressao1 = 10 + 5 * 2 # Primeiro 5 * 2 = 10, depois 10 + 10 = 20\n",
        "print(f\"10 + 5 * 2 = {expressao1}\") # Saída: 10 + 5 * 2 = 20\n",
        "\n",
        "expressao2 = (10 + 5) * 2 # Primeiro (10 + 5) = 15, depois 15 * 2 = 30\n",
        "print(f\"(10 + 5) * 2 = {expressao2}\") # Saída: (10 + 5) * 2 = 30\n",
        "\n",
        "# Exemplo com operadores lógicos e de comparação\n",
        "condicao_complexa = (5 > 3 and 10 < 20) or (not True)\n",
        "print(f\"(5 > 3 and 10 < 20) or (not True) = {condicao_complexa}\")\n",
        "# Avaliação:\n",
        "# (True and True) or (False)\n",
        "# True or False\n",
        "# True"
      ],
      "metadata": {
        "colab": {
          "base_uri": "https://localhost:8080/"
        },
        "id": "vsYCxvNtuGFT",
        "outputId": "0de4d67e-8122-4398-8fbf-de708dec48ab"
      },
      "execution_count": 14,
      "outputs": [
        {
          "output_type": "stream",
          "name": "stdout",
          "text": [
            "10 + 5 * 2 = 20\n",
            "(10 + 5) * 2 = 30\n",
            "(5 > 3 and 10 < 20) or (not True) = True\n"
          ]
        }
      ]
    },
    {
      "cell_type": "markdown",
      "source": [
        "**Exercícios do Capítulo 2**\n",
        "\n",
        "1.\tCalcule a área de um círculo com raio r = 7.5. Use pi = 3.14159. A fórmula é Area = pi * $r^2$. Imprima o resultado formatado.\n",
        "2.\tVocê tem duas notas: nota_mat = 7.0 e nota_port = 8.5. Um aluno é aprovado se a média das duas notas for maior ou igual a 7.0 E se ele tiver frequência (frequencia = 0.75, ou seja, 75%) maior ou igual a 0.70 (70%).\n",
        "o\tCrie variáveis para as notas e frequência.\n",
        "o\tCalcule a média.\n",
        "o\tUse operadores de comparação e lógicos para determinar se o aluno foi aprovado e imprima True ou False.\n",
        "3.\tQual o resultado da seguinte expressão? (15 % 4) + (2 ** 3) * 2 - (10 / 5)? Tente resolver no papel primeiro e depois verifique no Python.\n",
        "4.\tConsidere as variáveis: x = 10, y = 4, z = 2. Avalie as seguintes expressões e preveja o resultado antes de executar o código:\n",
        "o\tx > y and y != z\n",
        "o\tnot (x < y or z == y)\n",
        "o\tx + y * z == 18\n",
        "\n",
        "Parabéns! Você concluiu o segundo capítulo. Agora você já sabe como armazenar dados e como realizar operações básicas e lógicas com eles. No próximo capítulo, vamos mergulhar nas estruturas de controle de fluxo, que permitirão que seus programas tomem decisões e repitam ações, tornando-os muito mais poderosos!"
      ],
      "metadata": {
        "id": "B-1qXOklcIQN"
      }
    },
    {
      "cell_type": "markdown",
      "source": [
        "Respostas dos Exercícios do Capítulo 2:"
      ],
      "metadata": {
        "id": "tAPbO_FIcrYM"
      }
    },
    {
      "cell_type": "code",
      "source": [
        "# Exercício 1: Área de um círculo\n",
        "pi = 3.14159\n",
        "r = 7.5\n",
        "area = pi * r**2\n",
        "print(f\"1. A área do círculo com raio {r} é {area:.2f}\")"
      ],
      "metadata": {
        "colab": {
          "base_uri": "https://localhost:8080/"
        },
        "id": "BKKLEIWVvav3",
        "outputId": "328814ef-61a0-4156-db0d-83d6ee1343e8"
      },
      "execution_count": 15,
      "outputs": [
        {
          "output_type": "stream",
          "name": "stdout",
          "text": [
            "1. A área do círculo com raio 7.5 é 176.71\n"
          ]
        }
      ]
    },
    {
      "cell_type": "code",
      "source": [
        "# Exercício 2: Média e aprovação\n",
        "nota_mat = 7.0\n",
        "nota_port = 8.5\n",
        "frequencia = 0.75\n",
        "\n",
        "media = (nota_mat + nota_port) / 2\n",
        "aprovado = media >= 7.0 and frequencia >= 0.70\n",
        "\n",
        "print(f\"\\n2. Média: {media:.2f}\")\n",
        "print(\"O aluno foi aprovado?\", aprovado)"
      ],
      "metadata": {
        "colab": {
          "base_uri": "https://localhost:8080/"
        },
        "id": "zG2P5E26veY-",
        "outputId": "4ba947b4-908e-42c7-8837-62f9d9ea075e"
      },
      "execution_count": 16,
      "outputs": [
        {
          "output_type": "stream",
          "name": "stdout",
          "text": [
            "\n",
            "2. Média: 7.75\n",
            "O aluno foi aprovado? True\n"
          ]
        }
      ]
    },
    {
      "cell_type": "code",
      "source": [
        "# Exercício 3: Expressão matemática\n",
        "resultado = (15 % 4) + (2 ** 3) * 2 - (10 / 5)\n",
        "print(f\"\\n3. Resultado da expressão: (15 % 4) + (2 ** 3) * 2 - (10 / 5) = {resultado}\")"
      ],
      "metadata": {
        "colab": {
          "base_uri": "https://localhost:8080/"
        },
        "id": "TZ7H1IVEvirX",
        "outputId": "1839ef0f-e8c6-4cce-d2ce-9b969456de92"
      },
      "execution_count": 17,
      "outputs": [
        {
          "output_type": "stream",
          "name": "stdout",
          "text": [
            "\n",
            "3. Resultado da expressão: (15 % 4) + (2 ** 3) * 2 - (10 / 5) = 17.0\n"
          ]
        }
      ]
    },
    {
      "cell_type": "code",
      "source": [
        "# Exercício 4: Expressões com operadores\n",
        "x = 10\n",
        "y = 4\n",
        "z = 2\n",
        "\n",
        "expr1 = x > y and y != z\n",
        "expr2 = not (x < y or z == y)\n",
        "expr3 = x + y * z == 18\n",
        "\n",
        "print(f\"\\n4. x > y and y != z → {expr1}\")       # True and True → True\n",
        "print(f\"   not (x < y or z == y) → {expr2}\")    # not (False or False) → not False → True\n",
        "print(f\"   x + y * z == 18 → {expr3}\")          # 10 + 4*2 == 18 → 10 + 8 == 18 → True"
      ],
      "metadata": {
        "colab": {
          "base_uri": "https://localhost:8080/"
        },
        "id": "StQq1PB1vmZ2",
        "outputId": "50968aac-3caf-4a8a-e290-17c8acfd826f"
      },
      "execution_count": 18,
      "outputs": [
        {
          "output_type": "stream",
          "name": "stdout",
          "text": [
            "\n",
            "4. x > y and y != z → True\n",
            "   not (x < y or z == y) → True\n",
            "   x + y * z == 18 → True\n"
          ]
        }
      ]
    }
  ]
}