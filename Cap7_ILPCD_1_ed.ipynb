{
  "nbformat": 4,
  "nbformat_minor": 0,
  "metadata": {
    "colab": {
      "provenance": []
    },
    "kernelspec": {
      "name": "python3",
      "display_name": "Python 3"
    },
    "language_info": {
      "name": "python"
    }
  },
  "cells": [
    {
      "cell_type": "markdown",
      "source": [
        "**Capítulo 7 – Manipulação de Strings e Arquivos**"
      ],
      "metadata": {
        "id": "4Tohpu-zV4Fa"
      }
    },
    {
      "cell_type": "markdown",
      "source": [
        "_Este notebook contém todos os códigos de exemplo e soluções para os exercícios do Capítulo 7._"
      ],
      "metadata": {
        "id": "LW6frP1KWroi"
      }
    },
    {
      "cell_type": "markdown",
      "source": [
        "<table align=\"left\">\n",
        "  <td>\n",
        "    <a href=\"https://colab.research.google.com/drive/1gbzewlV-bYRSoNYWi0UEf9LBFT1WQhj2?authuser=1#scrollTo=4Tohpu-zV4Fa\" target=\"_parent\"><img src=\"https://colab.research.google.com/assets/colab-badge.svg\" alt=\"Open In Colab\"/></a>\n",
        "  </td>\n",
        "</table>"
      ],
      "metadata": {
        "id": "yBJquUYkWvIh"
      }
    },
    {
      "cell_type": "markdown",
      "source": [
        "# Configuração"
      ],
      "metadata": {
        "id": "f4U4EAwnXQDZ"
      }
    },
    {
      "cell_type": "code",
      "source": [],
      "metadata": {
        "id": "u1HjhHybfLJG"
      },
      "execution_count": null,
      "outputs": []
    },
    {
      "cell_type": "markdown",
      "source": [
        "Este projeto requer Python 3.11 ou superior:"
      ],
      "metadata": {
        "id": "0Sl5DlgDXWQB"
      }
    },
    {
      "cell_type": "code",
      "source": [
        "import sys\n",
        "\n",
        "assert sys.version_info >= (3, 11)"
      ],
      "metadata": {
        "id": "3SNbtY_UXdQp"
      },
      "execution_count": null,
      "outputs": []
    },
    {
      "cell_type": "code",
      "source": [
        "!python --version"
      ],
      "metadata": {
        "colab": {
          "base_uri": "https://localhost:8080/"
        },
        "id": "dT26LEsSZx1-",
        "outputId": "c048351d-1720-4233-9538-9a709308dd20"
      },
      "execution_count": null,
      "outputs": [
        {
          "output_type": "stream",
          "name": "stdout",
          "text": [
            "Python 3.11.13\n"
          ]
        }
      ]
    },
    {
      "cell_type": "markdown",
      "source": [
        "Métodos de String"
      ],
      "metadata": {
        "id": "ITrx5oUJfT6t"
      }
    },
    {
      "cell_type": "code",
      "source": [
        "texto = \"  Olá, Mundo Python!  \"\n",
        "\n",
        "# Converter para maiúsculas e minúsculas\n",
        "print(f\"Maiúsculas: {texto.upper()}\") # Saída: Maiúsculas:   OLÁ, MUNDO PYTHON!\n",
        "print(f\"Minúsculas: {texto.lower()}\") # Saída: Minúsculas:   olá, mundo python!\n",
        "print(f\"Primeira letra maiúscula: {texto.capitalize()}\") # Saída: Primeira letra maiúscula:   olá, mundo python!\n",
        "print(f\"Cada palavra com primeira letra maiúscula: {texto.title()}\") # Saída: Cada palavra com primeira letra maiúscula:   Olá, Mundo Python!"
      ],
      "metadata": {
        "colab": {
          "base_uri": "https://localhost:8080/"
        },
        "id": "rRWtXXCGi-Ub",
        "outputId": "418f03e7-274f-4378-9df7-b5f26fc002c3"
      },
      "execution_count": 1,
      "outputs": [
        {
          "output_type": "stream",
          "name": "stdout",
          "text": [
            "Maiúsculas:   OLÁ, MUNDO PYTHON!  \n",
            "Minúsculas:   olá, mundo python!  \n",
            "Primeira letra maiúscula:   olá, mundo python!  \n",
            "Cada palavra com primeira letra maiúscula:   Olá, Mundo Python!  \n"
          ]
        }
      ]
    },
    {
      "cell_type": "code",
      "source": [
        "# Remover espaços em branco (whitespace)\n",
        "\n",
        "print(f\"Removendo espaços à esquerda e direita: '{texto.strip()}'\") # Saída: Removendo espaços à esquerda e direita: 'Olá, Mundo Python!'\n",
        "print(f\"Removendo espaços à esquerda: '{texto.lstrip()}'\") # Saída: Removendo espaços à esquerda: 'Olá, Mundo Python!  '\n",
        "print(f\"Removendo espaços à direita: '{texto.rstrip()}'\") # Saída: Removendo espaços à direita: '  Olá, Mundo Python!'"
      ],
      "metadata": {
        "colab": {
          "base_uri": "https://localhost:8080/"
        },
        "id": "WZihv7yPjCDS",
        "outputId": "eec65e4f-f977-4e00-c772-6f5a39c5e6e3"
      },
      "execution_count": 2,
      "outputs": [
        {
          "output_type": "stream",
          "name": "stdout",
          "text": [
            "Removendo espaços à esquerda e direita: 'Olá, Mundo Python!'\n",
            "Removendo espaços à esquerda: 'Olá, Mundo Python!  '\n",
            "Removendo espaços à direita: '  Olá, Mundo Python!'\n"
          ]
        }
      ]
    },
    {
      "cell_type": "code",
      "source": [
        "# Dividir strings\n",
        "frase = \"Python é uma linguagem poderosa para dados.\"\n",
        "palavras = frase.split(\" \") # Divide a string onde há espaços\n",
        "print(f\"Palavras da frase: {palavras}\") # Saída: Palavras da frase: ['Python', 'é', 'uma', 'linguagem', 'poderosa', 'para', 'dados.']\n",
        "\n",
        "data = \"2025-06-23\"\n",
        "partes_data = data.split(\"-\")\n",
        "print(f\"Partes da data: {partes_data}\") # Saída: Partes da data: ['2025', '06', '23']"
      ],
      "metadata": {
        "colab": {
          "base_uri": "https://localhost:8080/"
        },
        "id": "sOmZr4dwjbAz",
        "outputId": "c1ad198c-c77a-4912-bae2-45980d9c218f"
      },
      "execution_count": 3,
      "outputs": [
        {
          "output_type": "stream",
          "name": "stdout",
          "text": [
            "Palavras da frase: ['Python', 'é', 'uma', 'linguagem', 'poderosa', 'para', 'dados.']\n",
            "Partes da data: ['2025', '06', '23']\n"
          ]
        }
      ]
    },
    {
      "cell_type": "code",
      "source": [
        "# Juntar strings (usando o método join em uma string separadora)\n",
        "lista_palavras = [\"Olá\", \"Mundo\", \"Python\"]\n",
        "string_unida = \" \".join(lista_palavras) # Junta os elementos da lista com um espaço\n",
        "print(f\"String unida com espaço: {string_unida}\") # Saída: String unida com espaço: Olá Mundo Python"
      ],
      "metadata": {
        "colab": {
          "base_uri": "https://localhost:8080/"
        },
        "id": "NYylFn25jn5a",
        "outputId": "ae523e01-cd6f-4189-9b13-43e99d91799e"
      },
      "execution_count": 4,
      "outputs": [
        {
          "output_type": "stream",
          "name": "stdout",
          "text": [
            "String unida com espaço: Olá Mundo Python\n"
          ]
        }
      ]
    },
    {
      "cell_type": "code",
      "source": [
        "# Substituir partes de uma string\n",
        "texto_original = \"Eu amo JavaScript.\"\n",
        "texto_modificado = texto_original.replace(\"JavaScript\", \"Python\")\n",
        "print(f\"Texto modificado: {texto_modificado}\") # Saída: Texto modificado: Eu amo Python."
      ],
      "metadata": {
        "colab": {
          "base_uri": "https://localhost:8080/"
        },
        "id": "5m3Z-Z0LkG55",
        "outputId": "823b1b33-e141-414e-bffc-7b9d9412cc4d"
      },
      "execution_count": 5,
      "outputs": [
        {
          "output_type": "stream",
          "name": "stdout",
          "text": [
            "Texto modificado: Eu amo Python.\n"
          ]
        }
      ]
    },
    {
      "cell_type": "code",
      "source": [
        "# Verificar o início/fim de uma string\n",
        "arquivo_nome = \"relatorio_final.csv\"\n",
        "print(f\"Começa com 'relatorio'? {arquivo_nome.startswith('relatorio')}\") # Saída: Começa com 'relatorio'? True\n",
        "print(f\"Termina com '.txt'? {arquivo_nome.endswith('.txt')}\") # Saída: Termina com '.txt'? False"
      ],
      "metadata": {
        "colab": {
          "base_uri": "https://localhost:8080/"
        },
        "id": "Yma89Bh7kOIq",
        "outputId": "76c30b37-8f49-470d-9187-aa8346b19625"
      },
      "execution_count": 6,
      "outputs": [
        {
          "output_type": "stream",
          "name": "stdout",
          "text": [
            "Começa com 'relatorio'? True\n",
            "Termina com '.txt'? False\n"
          ]
        }
      ]
    },
    {
      "cell_type": "code",
      "source": [
        "# Encontrar a posição de uma substring\n",
        "posicao = frase.find(\"linguagem\") # Retorna o índice da primeira ocorrência, ou -1 se não encontrar\n",
        "print(f\"A palavra 'linguagem' começa no índice: {posicao}\") # Saída: A palavra 'linguagem' começa no índice: 10"
      ],
      "metadata": {
        "colab": {
          "base_uri": "https://localhost:8080/"
        },
        "id": "GDYBw1UAkWRS",
        "outputId": "5e7c8ef2-a7a0-4275-c160-50411543dac4"
      },
      "execution_count": 7,
      "outputs": [
        {
          "output_type": "stream",
          "name": "stdout",
          "text": [
            "A palavra 'linguagem' começa no índice: 13\n"
          ]
        }
      ]
    },
    {
      "cell_type": "code",
      "source": [
        "# Contar ocorrências de uma substring\n",
        "quantidade_a = \"banana\".count(\"a\")\n",
        "print(f\"Quantidade de 'a' em 'banana': {quantidade_a}\") # Saída: Quantidade de 'a' em 'banana': 3"
      ],
      "metadata": {
        "colab": {
          "base_uri": "https://localhost:8080/"
        },
        "id": "6AZFXOGBlYiq",
        "outputId": "d0961373-73cf-4c71-dcef-98bfcef4f835"
      },
      "execution_count": 8,
      "outputs": [
        {
          "output_type": "stream",
          "name": "stdout",
          "text": [
            "Quantidade de 'a' em 'banana': 3\n"
          ]
        }
      ]
    },
    {
      "cell_type": "markdown",
      "source": [
        "Formatação de Strings"
      ],
      "metadata": {
        "id": "4VdZ89dvlfYY"
      }
    },
    {
      "cell_type": "code",
      "source": [
        "nome = \"Alice\"\n",
        "idade = 30\n",
        "saldo = 1234.56789\n",
        "\n",
        "# Básico\n",
        "mensagem = f\"Olá, {nome}! Você tem {idade} anos.\"\n",
        "print(mensagem) # Saída: Olá, Alice! Você tem 30 anos.\n",
        "\n",
        "# Formatação de números (casas decimais, milhares, porcentagem)\n",
        "print(f\"Seu saldo é R$ {saldo:.2f}\") # .2f formata para 2 casas decimais\n",
        "# Saída: Seu saldo é R$ 1234.57\n",
        "\n",
        "temperatura = 23.45\n",
        "print(f\"A temperatura é {temperatura:.1f}°C\") # .1f formata para 1 casa decimal\n",
        "# Saída: A temperatura é 23.5°C\n",
        "\n",
        "percentual = 0.75\n",
        "print(f\"Concluído: {percentual:.0%}\") # .0% formata para porcentagem sem casas decimais\n",
        "# Saída: Concluído: 75%\n",
        "\n",
        "# Alinhamento e preenchimento\n",
        "item = \"Monitor\"\n",
        "preco = 899.99\n",
        "print(f\"{item:<10} | {preco:>10.2f}\") # < alinha à esquerda, > alinha à direita\n",
        "# Saída: Monitor    |     899.99"
      ],
      "metadata": {
        "colab": {
          "base_uri": "https://localhost:8080/"
        },
        "id": "7fR8MgcvlhyJ",
        "outputId": "c1fd6f41-33c1-4b69-fc17-05a9163f69e0"
      },
      "execution_count": 9,
      "outputs": [
        {
          "output_type": "stream",
          "name": "stdout",
          "text": [
            "Olá, Alice! Você tem 30 anos.\n",
            "Seu saldo é R$ 1234.57\n",
            "A temperatura é 23.4°C\n",
            "Concluído: 75%\n",
            "Monitor    |     899.99\n"
          ]
        }
      ]
    },
    {
      "cell_type": "markdown",
      "source": [
        "Abrindo e Fechando Arquivos"
      ],
      "metadata": {
        "id": "koJvb07FlpwQ"
      }
    },
    {
      "cell_type": "code",
      "source": [
        "# Exemplo de escrita em arquivo (modo \"w\")\n",
        "# Conteúdo do arquivo \"meu_arquivo.txt\" será sobrescrito\n",
        "with open(\"meu_arquivo.txt\", \"w\") as arquivo:\n",
        "    arquivo.write(\"Esta é a primeira linha.\\n\")\n",
        "    arquivo.write(\"Esta é a segunda linha.\\n\")\n",
        "    arquivo.write(\"E esta é a terceira.\\n\")\n",
        "\n",
        "print(\"Conteúdo escrito em meu_arquivo.txt\")"
      ],
      "metadata": {
        "colab": {
          "base_uri": "https://localhost:8080/"
        },
        "id": "bzYOv2oBlt-I",
        "outputId": "3844e8c5-58ee-43eb-e865-24665e2d2e9c"
      },
      "execution_count": 10,
      "outputs": [
        {
          "output_type": "stream",
          "name": "stdout",
          "text": [
            "Conteúdo escrito em meu_arquivo.txt\n"
          ]
        }
      ]
    },
    {
      "cell_type": "markdown",
      "source": [
        "Context Managers (with open(...))"
      ],
      "metadata": {
        "id": "Lh7Ieq5hl0AR"
      }
    },
    {
      "cell_type": "code",
      "source": [
        "# Exemplo de leitura de arquivo (modo \"r\")\n",
        "# Supondo que \"meu_arquivo.txt\" existe do exemplo anterior\n",
        "with open(\"meu_arquivo.txt\", \"r\") as arquivo:\n",
        "    conteudo_completo = arquivo.read() # Lê todo o conteúdo do arquivo como uma única string\n",
        "    print(\"\\nConteúdo completo do arquivo:\")\n",
        "    print(conteudo_completo)\n",
        "\n",
        "print(\"-\" * 30)\n",
        "\n",
        "with open(\"meu_arquivo.txt\", \"r\") as arquivo:\n",
        "    print(\"Lendo linha por linha:\")\n",
        "    for linha in arquivo: # Iterar sobre o objeto arquivo lê linha por linha\n",
        "        print(linha.strip()) # .strip() remove o caractere de nova linha (\\n) do final\n",
        "\n",
        "# Saída (após rodar os exemplos acima):\n",
        "# Conteúdo escrito em meu_arquivo.txt\n",
        "#\n",
        "# Conteúdo completo do arquivo:\n",
        "# Esta é a primeira linha.\n",
        "# Esta é a segunda linha.\n",
        "# E esta é a terceira.\n",
        "# ------------------------------\n",
        "# Lendo linha por linha:\n",
        "# Esta é a primeira linha.\n",
        "# Esta é a segunda linha.\n",
        "# E esta é a terceira."
      ],
      "metadata": {
        "colab": {
          "base_uri": "https://localhost:8080/"
        },
        "id": "ou4dvmF1mEHJ",
        "outputId": "3a8be2fd-9e47-4a16-85b2-4dc8fd423844"
      },
      "execution_count": 11,
      "outputs": [
        {
          "output_type": "stream",
          "name": "stdout",
          "text": [
            "\n",
            "Conteúdo completo do arquivo:\n",
            "Esta é a primeira linha.\n",
            "Esta é a segunda linha.\n",
            "E esta é a terceira.\n",
            "\n",
            "------------------------------\n",
            "Lendo linha por linha:\n",
            "Esta é a primeira linha.\n",
            "Esta é a segunda linha.\n",
            "E esta é a terceira.\n"
          ]
        }
      ]
    },
    {
      "cell_type": "code",
      "source": [
        "# Exemplo de escrita em arquivo (modo \"a\" - append)\n",
        "# Adiciona ao final de \"meu_arquivo.txt\"\n",
        "with open(\"meu_arquivo.txt\", \"a\") as arquivo:\n",
        "    arquivo.write(\"Mais uma linha adicionada.\\n\")\n",
        "\n",
        "print(\"\\nConteúdo adicionado a meu_arquivo.txt\")\n",
        "\n",
        "# Verificando o novo conteúdo\n",
        "with open(\"meu_arquivo.txt\", \"r\") as arquivo:\n",
        "    print(\"\\nConteúdo atualizado do arquivo:\")\n",
        "    print(arquivo.read())\n",
        "\n",
        "# Saída:\n",
        "# Conteúdo adicionado a meu_arquivo.txt\n",
        "#\n",
        "# Conteúdo atualizado do arquivo:\n",
        "# Esta é a primeira linha.\n",
        "# Esta é a segunda linha.\n",
        "# E esta é a terceira.\n",
        "# Mais uma linha adicionada."
      ],
      "metadata": {
        "colab": {
          "base_uri": "https://localhost:8080/"
        },
        "id": "oymo_4gcmGmo",
        "outputId": "a30c14bc-73d9-45de-ba86-70749bb71334"
      },
      "execution_count": 12,
      "outputs": [
        {
          "output_type": "stream",
          "name": "stdout",
          "text": [
            "\n",
            "Conteúdo adicionado a meu_arquivo.txt\n",
            "\n",
            "Conteúdo atualizado do arquivo:\n",
            "Esta é a primeira linha.\n",
            "Esta é a segunda linha.\n",
            "E esta é a terceira.\n",
            "Mais uma linha adicionada.\n",
            "\n"
          ]
        }
      ]
    },
    {
      "cell_type": "markdown",
      "source": [
        "**Exercícios do Capítulo 7**\n",
        "\n",
        "1.\tCrie uma string produto_nome = \" Teclado Mecânico RGB \".\n",
        "o\tRemova os espaços em branco extras do início e do fim.\n",
        "o\tConverte a string resultante para maiúsculas.\n",
        "o\tImprima a string final.\n",
        "2.\tDada a string caminho_arquivo = \"/home/usuario/documentos/relatorio.pdf\".\n",
        "o\tUse o método split() para extrair os componentes do caminho (separados por /).\n",
        "o\tImprima a lista de componentes.\n",
        "o\tUse um método de string para verificar se o nome do arquivo relatorio.pdf termina com .pdf. Imprima True ou False.\n",
        "3.\tCrie um novo arquivo de texto chamado minhas_tarefas.txt.\n",
        "o\tEscreva as seguintes linhas nele (cada uma em uma nova linha):\n",
        "\t\"Comprar pão\"\n",
        "\t\"Estudar Python\"\n",
        "\t\"Ligar para João\"\n",
        "o\tFeche o arquivo.\n",
        "4.\tAbra o arquivo minhas_tarefas.txt que você acabou de criar.\n",
        "o\tLeia o conteúdo linha por linha e imprima cada linha sem o caractere de nova linha (\\n) no final.\n",
        "o\tFeche o arquivo.\n",
        "5.\tAdicione a linha \"Pagar contas\" ao final do arquivo minhas_tarefas.txt sem apagar as linhas existentes.\n",
        "o\tVerifique o conteúdo do arquivo novamente para confirmar que a nova linha foi adicionada.\n",
        "\n",
        "Fantástico! Você agora possui as ferramentas para manipular texto de forma eficaz e, o que é mais importante, para ler e escrever dados em arquivos. Essa última habilidade é a porta de entrada para trabalhar com conjuntos de dados reais.\n",
        "No próximo capítulo, vamos abordar o tratamento de exceções, ensinando você a lidar com erros que podem ocorrer em seus programas, tornando-os mais robustos e \"à prova de falhas\". Prepare-se para tornar seu código mais resiliente!"
      ],
      "metadata": {
        "id": "B-1qXOklcIQN"
      }
    },
    {
      "cell_type": "markdown",
      "source": [
        "Respostas dos Exercícios do Capítulo 7:"
      ],
      "metadata": {
        "id": "tAPbO_FIcrYM"
      }
    },
    {
      "cell_type": "code",
      "source": [
        "# Exercício 1:\n",
        "\n",
        "produto_nome = \" Teclado Mecânico RGB \"\n",
        "produto_formatado = produto_nome.strip().upper()\n",
        "print(\"1. Produto formatado:\", produto_formatado)"
      ],
      "metadata": {
        "colab": {
          "base_uri": "https://localhost:8080/"
        },
        "id": "MgneIkMPmrBA",
        "outputId": "ffdcd549-ce75-44e8-8150-7cc0f05c9222"
      },
      "execution_count": 13,
      "outputs": [
        {
          "output_type": "stream",
          "name": "stdout",
          "text": [
            "1. Produto formatado: TECLADO MECÂNICO RGB\n"
          ]
        }
      ]
    },
    {
      "cell_type": "code",
      "source": [
        "# Exercício 2:\n",
        "\n",
        "caminho_arquivo = \"/home/usuario/documentos/relatorio.pdf\"\n",
        "componentes = caminho_arquivo.split(\"/\")\n",
        "print(\"\\n2. Componentes do caminho:\", componentes)\n",
        "\n",
        "termina_com_pdf = caminho_arquivo.endswith(\".pdf\")\n",
        "print(\"O arquivo termina com '.pdf'? ->\", termina_com_pdf)"
      ],
      "metadata": {
        "colab": {
          "base_uri": "https://localhost:8080/"
        },
        "id": "1jrGqg_5mwDf",
        "outputId": "e0f558de-ade5-4346-a958-e112cd7b74e0"
      },
      "execution_count": 14,
      "outputs": [
        {
          "output_type": "stream",
          "name": "stdout",
          "text": [
            "\n",
            "2. Componentes do caminho: ['', 'home', 'usuario', 'documentos', 'relatorio.pdf']\n",
            "O arquivo termina com '.pdf'? -> True\n"
          ]
        }
      ]
    },
    {
      "cell_type": "code",
      "source": [
        "# Exercício 3:\n",
        "\n",
        "with open(\"minhas_tarefas.txt\", \"w\", encoding=\"utf-8\") as arquivo:\n",
        "    arquivo.write(\"Comprar pão\\n\")\n",
        "    arquivo.write(\"Estudar Python\\n\")\n",
        "    arquivo.write(\"Ligar para João\\n\")\n",
        "\n",
        "print(\"\\n3. Arquivo 'minhas_tarefas.txt' criado com 3 tarefas.\")"
      ],
      "metadata": {
        "colab": {
          "base_uri": "https://localhost:8080/"
        },
        "id": "2IKlNzOtm4FI",
        "outputId": "c0049dc1-a823-4ab0-b547-df788cdceeb8"
      },
      "execution_count": 15,
      "outputs": [
        {
          "output_type": "stream",
          "name": "stdout",
          "text": [
            "\n",
            "3. Arquivo 'minhas_tarefas.txt' criado com 3 tarefas.\n"
          ]
        }
      ]
    },
    {
      "cell_type": "code",
      "source": [
        "# Exercício 4:\n",
        "\n",
        "print(\"\\n4. Conteúdo do arquivo sem quebras de linha:\")\n",
        "with open(\"minhas_tarefas.txt\", \"r\", encoding=\"utf-8\") as arquivo:\n",
        "    for linha in arquivo:\n",
        "        print(linha.strip())"
      ],
      "metadata": {
        "colab": {
          "base_uri": "https://localhost:8080/"
        },
        "id": "Qfa3fBXQm8Tg",
        "outputId": "68040ef3-b9f2-4788-ed2e-aa82ceae2a3d"
      },
      "execution_count": 16,
      "outputs": [
        {
          "output_type": "stream",
          "name": "stdout",
          "text": [
            "\n",
            "4. Conteúdo do arquivo sem quebras de linha:\n",
            "Comprar pão\n",
            "Estudar Python\n",
            "Ligar para João\n"
          ]
        }
      ]
    },
    {
      "cell_type": "code",
      "source": [
        "# Exercício 5:\n",
        "\n",
        "with open(\"minhas_tarefas.txt\", \"a\", encoding=\"utf-8\") as arquivo:\n",
        "    arquivo.write(\"Pagar contas\\n\")\n",
        "\n",
        "print(\"\\n5. Conteúdo final do arquivo atualizado:\")\n",
        "with open(\"minhas_tarefas.txt\", \"r\", encoding=\"utf-8\") as arquivo:\n",
        "    for linha in arquivo:\n",
        "        print(linha.strip())"
      ],
      "metadata": {
        "colab": {
          "base_uri": "https://localhost:8080/"
        },
        "id": "qdlZqS2DnFQY",
        "outputId": "c313f735-83cc-4150-b50c-3b62ed61b3a2"
      },
      "execution_count": 17,
      "outputs": [
        {
          "output_type": "stream",
          "name": "stdout",
          "text": [
            "\n",
            "5. Conteúdo final do arquivo atualizado:\n",
            "Comprar pão\n",
            "Estudar Python\n",
            "Ligar para João\n",
            "Pagar contas\n"
          ]
        }
      ]
    }
  ]
}