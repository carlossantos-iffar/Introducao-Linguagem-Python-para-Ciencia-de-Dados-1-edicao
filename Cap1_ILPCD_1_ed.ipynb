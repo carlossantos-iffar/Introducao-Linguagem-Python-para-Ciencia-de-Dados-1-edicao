{
  "nbformat": 4,
  "nbformat_minor": 0,
  "metadata": {
    "colab": {
      "provenance": []
    },
    "kernelspec": {
      "name": "python3",
      "display_name": "Python 3"
    },
    "language_info": {
      "name": "python"
    }
  },
  "cells": [
    {
      "cell_type": "markdown",
      "source": [
        "**Capítulo 1 – Introdução ao Python e Ambiente de Desenvolvimento**"
      ],
      "metadata": {
        "id": "4Tohpu-zV4Fa"
      }
    },
    {
      "cell_type": "markdown",
      "source": [
        "_Este notebook contém todos os códigos de exemplo e soluções para os exercícios do Capítulo 1._"
      ],
      "metadata": {
        "id": "LW6frP1KWroi"
      }
    },
    {
      "cell_type": "markdown",
      "source": [
        "<table align=\"left\">\n",
        "  <td>\n",
        "    <a href=\"https://colab.research.google.com/drive/1GtLfKgSpQmIUT84Rs3AfniCMGR3YlzTR?usp=sharing\" target=\"_parent\"><img src=\"https://colab.research.google.com/assets/colab-badge.svg\" alt=\"Open In Colab\"/></a>\n",
        "  </td>\n",
        "</table>"
      ],
      "metadata": {
        "id": "yBJquUYkWvIh"
      }
    },
    {
      "cell_type": "markdown",
      "source": [
        "# Configuração"
      ],
      "metadata": {
        "id": "f4U4EAwnXQDZ"
      }
    },
    {
      "cell_type": "markdown",
      "source": [
        "Este projeto requer Python 3.11 ou superior:"
      ],
      "metadata": {
        "id": "0Sl5DlgDXWQB"
      }
    },
    {
      "cell_type": "code",
      "source": [
        "import sys\n",
        "\n",
        "assert sys.version_info >= (3, 11)"
      ],
      "metadata": {
        "id": "3SNbtY_UXdQp"
      },
      "execution_count": 26,
      "outputs": []
    },
    {
      "cell_type": "markdown",
      "source": [
        "Verifique a versão do Python instalada no Colab:"
      ],
      "metadata": {
        "id": "5vQiQqOyZ7cH"
      }
    },
    {
      "cell_type": "code",
      "source": [
        "!python --version"
      ],
      "metadata": {
        "colab": {
          "base_uri": "https://localhost:8080/"
        },
        "id": "dT26LEsSZx1-",
        "outputId": "03aaf420-e378-4bba-e9b4-9c974f6b960e"
      },
      "execution_count": 27,
      "outputs": [
        {
          "output_type": "stream",
          "name": "stdout",
          "text": [
            "Python 3.11.13\n"
          ]
        }
      ]
    },
    {
      "cell_type": "markdown",
      "source": [
        "Escrevendo seu Primeiro Código:"
      ],
      "metadata": {
        "id": "MfCSMUi_auXH"
      }
    },
    {
      "cell_type": "code",
      "source": [
        "print(\"Olá, Mundo!\")"
      ],
      "metadata": {
        "colab": {
          "base_uri": "https://localhost:8080/"
        },
        "id": "_w1OqIoDawi2",
        "outputId": "de516f33-21c0-4665-c133-c4fffbd31220"
      },
      "execution_count": 28,
      "outputs": [
        {
          "output_type": "stream",
          "name": "stdout",
          "text": [
            "Olá, Mundo!\n"
          ]
        }
      ]
    },
    {
      "cell_type": "markdown",
      "source": [
        "**Variáveis**\n",
        "\n",
        "Para criar uma variável em Python, você simplesmente dá um nome a ela e usa o sinal de igual (=) para atribuir um valor."
      ],
      "metadata": {
        "id": "eir5VedUa8vm"
      }
    },
    {
      "cell_type": "code",
      "source": [
        "nome = \"Alice\"\n",
        "idade = 30\n",
        "altura = 1.75\n",
        "esta_chovendo = False"
      ],
      "metadata": {
        "id": "jBBPs3Rxa-NW"
      },
      "execution_count": 29,
      "outputs": []
    },
    {
      "cell_type": "markdown",
      "source": [
        "Inteiros (int): Números inteiros, positivos ou negativos, sem parte decimal."
      ],
      "metadata": {
        "id": "JALPQStNbNZl"
      }
    },
    {
      "cell_type": "code",
      "source": [
        "numero_inteiro = 10\n",
        "print(numero_inteiro)\n",
        "print(type(numero_inteiro)) # type() mostra o tipo da variável"
      ],
      "metadata": {
        "colab": {
          "base_uri": "https://localhost:8080/"
        },
        "id": "krXTlf3AbQXV",
        "outputId": "1e09e71c-96f5-4b6d-dedb-988bb8f6c54e"
      },
      "execution_count": 30,
      "outputs": [
        {
          "output_type": "stream",
          "name": "stdout",
          "text": [
            "10\n",
            "<class 'int'>\n"
          ]
        }
      ]
    },
    {
      "cell_type": "markdown",
      "source": [
        "Ponto Flutuante (float): Números com parte decimal."
      ],
      "metadata": {
        "id": "SqDTAH98bWwd"
      }
    },
    {
      "cell_type": "code",
      "source": [
        "numero_decimal = 3.14\n",
        "temperatura = -5.7\n",
        "print(numero_decimal)\n",
        "print(type(numero_decimal))\n",
        "print(temperatura)\n",
        "print(type(temperatura))"
      ],
      "metadata": {
        "colab": {
          "base_uri": "https://localhost:8080/"
        },
        "id": "GHkYoEK3bY6u",
        "outputId": "91889673-311d-4d3d-809e-c80ce694ac61"
      },
      "execution_count": 31,
      "outputs": [
        {
          "output_type": "stream",
          "name": "stdout",
          "text": [
            "3.14\n",
            "<class 'float'>\n",
            "-5.7\n",
            "<class 'float'>\n"
          ]
        }
      ]
    },
    {
      "cell_type": "markdown",
      "source": [
        "Strings (str): Sequências de caracteres, usadas para texto. Podem ser definidas com aspas simples (') ou duplas (\")."
      ],
      "metadata": {
        "id": "7Np-qkUubeiV"
      }
    },
    {
      "cell_type": "code",
      "source": [
        "saudacao = \"Olá, Python!\"\n",
        "frase = 'Esta é uma string.'\n",
        "nome_completo = \"João da Silva\"\n",
        "\n",
        "print(saudacao)\n",
        "print(type(saudacao))\n",
        "print(frase)\n",
        "print(type(frase))"
      ],
      "metadata": {
        "colab": {
          "base_uri": "https://localhost:8080/"
        },
        "id": "iszZvJXWbhj9",
        "outputId": "2dca63b3-f2f3-4d47-ec45-7ed1dd3fb9e4"
      },
      "execution_count": 32,
      "outputs": [
        {
          "output_type": "stream",
          "name": "stdout",
          "text": [
            "Olá, Python!\n",
            "<class 'str'>\n",
            "Esta é uma string.\n",
            "<class 'str'>\n"
          ]
        }
      ]
    },
    {
      "cell_type": "markdown",
      "source": [
        "Você pode até usar aspas triplas para strings que ocupam várias linhas:"
      ],
      "metadata": {
        "id": "1xMkbHm1bmHt"
      }
    },
    {
      "cell_type": "code",
      "source": [
        "paragrafo = \"\"\"Este é um\n",
        "parágrafo de\n",
        "várias linhas.\"\"\"\n",
        "print(paragrafo)"
      ],
      "metadata": {
        "colab": {
          "base_uri": "https://localhost:8080/"
        },
        "id": "I388_eRIbnFF",
        "outputId": "38cf769e-d510-4551-f02c-e6766ab26504"
      },
      "execution_count": 33,
      "outputs": [
        {
          "output_type": "stream",
          "name": "stdout",
          "text": [
            "Este é um\n",
            "parágrafo de\n",
            "várias linhas.\n"
          ]
        }
      ]
    },
    {
      "cell_type": "markdown",
      "source": [
        "Booleanos (bool): Representam valores lógicos de verdadeiro ou falso. São usados para decisões em seus programas."
      ],
      "metadata": {
        "id": "ovrEqh-TbsQt"
      }
    },
    {
      "cell_type": "code",
      "source": [
        "eh_verdadeiro = True\n",
        "eh_falso = False\n",
        "\n",
        "print(eh_verdadeiro)\n",
        "print(type(eh_verdadeiro))\n",
        "print(eh_falso)\n",
        "print(type(eh_falso))"
      ],
      "metadata": {
        "colab": {
          "base_uri": "https://localhost:8080/"
        },
        "id": "N7o1FAAlbu7t",
        "outputId": "27a3cd0b-00e1-420d-cb64-3467a976a125"
      },
      "execution_count": 34,
      "outputs": [
        {
          "output_type": "stream",
          "name": "stdout",
          "text": [
            "True\n",
            "<class 'bool'>\n",
            "False\n",
            "<class 'bool'>\n"
          ]
        }
      ]
    },
    {
      "cell_type": "markdown",
      "source": [
        "Conversão de Tipos (Type Casting)"
      ],
      "metadata": {
        "id": "-tHSgAXrb8UE"
      }
    },
    {
      "cell_type": "code",
      "source": [
        "numero_texto = \"123\"\n",
        "numero_inteiro_convertido = int(numero_texto)\n",
        "print(numero_inteiro_convertido)\n",
        "print(type(numero_inteiro_convertido))\n",
        "\n",
        "numero_inteiro = 42\n",
        "numero_float_convertido = float(numero_inteiro)\n",
        "print(numero_float_convertido)\n",
        "print(type(numero_float_convertido))\n",
        "\n",
        "valor_boolean = True\n",
        "texto_boolean = str(valor_boolean)\n",
        "print(texto_boolean)\n",
        "print(type(texto_boolean))\n",
        "\n",
        "# Cuidado ao converter para int/float: o texto deve ser numérico\n",
        "# texto_erro = \"abc\"\n",
        "# int(texto_erro) # Isso geraria um erro!"
      ],
      "metadata": {
        "colab": {
          "base_uri": "https://localhost:8080/"
        },
        "id": "mVwPdvRMb_Xl",
        "outputId": "36c4b8d1-3179-4087-f1f5-86aaf47f8347"
      },
      "execution_count": 35,
      "outputs": [
        {
          "output_type": "stream",
          "name": "stdout",
          "text": [
            "123\n",
            "<class 'int'>\n",
            "42.0\n",
            "<class 'float'>\n",
            "True\n",
            "<class 'str'>\n"
          ]
        }
      ]
    },
    {
      "cell_type": "markdown",
      "source": [
        "**Exercícios do Capítulo 1**\n",
        "\n",
        "1.\tCrie uma variável chamada cidade e atribua a ela o nome da sua cidade natal como uma string. Imprima o valor e o tipo dessa variável.\n",
        "2.\tCrie duas variáveis: idade_cachorro com o valor 5 (inteiro) e peso_cachorro com o valor 12.5 (float). Imprima o valor e o tipo de cada uma.\n",
        "3.\tConverta a variável idade_cachorro para um tipo float e a variável peso_cachorro para um tipo inteiro. Imprima os novos valores e seus tipos.\n",
        "4.\tNo Jupyter Notebook, crie uma nova célula e escreva um programa que:\n",
        "o\tCrie uma variável nome_aluno com seu nome.\n",
        "o\tCrie uma variável nota1 com um valor decimal (ex: 8.5).\n",
        "o\tCrie uma variável nota2 com outro valor decimal (ex: 9.0).\n",
        "o\tCalcule a media das duas notas.\n",
        "o\tImprima uma mensagem formatada como: \"Olá, [nome_aluno]! Sua média final é [media].\" (Substitua pelos valores das suas variáveis).\n",
        "\n",
        "Este é o primeiro capítulo do livro! No próximo, vamos explorar os operadores e expressões em Python, que são fundamentais para realizar cálculos e comparações."
      ],
      "metadata": {
        "id": "B-1qXOklcIQN"
      }
    },
    {
      "cell_type": "markdown",
      "source": [
        "Respostas dos Exercícios do Capítulo 1:"
      ],
      "metadata": {
        "id": "tAPbO_FIcrYM"
      }
    },
    {
      "cell_type": "code",
      "source": [
        "# Exercício 1: Crie uma variável chamada cidade\n",
        "cidade = \"Alegrete\"\n",
        "print(\"Valor da variável 'cidade':\", cidade)\n",
        "print(\"Tipo da variável 'cidade':\", type(cidade))"
      ],
      "metadata": {
        "colab": {
          "base_uri": "https://localhost:8080/"
        },
        "id": "zJU4JLj9cLG2",
        "outputId": "2834f5fc-cf79-48d2-e024-ca1bd3ec43c9"
      },
      "execution_count": 36,
      "outputs": [
        {
          "output_type": "stream",
          "name": "stdout",
          "text": [
            "Valor da variável 'cidade': Alegrete\n",
            "Tipo da variável 'cidade': <class 'str'>\n"
          ]
        }
      ]
    },
    {
      "cell_type": "code",
      "source": [
        "# Exercício 2: Variáveis de idade e peso do cachorro\n",
        "idade_cachorro = 5\n",
        "peso_cachorro = 12.5\n",
        "print(\"\\nValor da variável 'idade_cachorro':\", idade_cachorro)\n",
        "print(\"Tipo:\", type(idade_cachorro))\n",
        "print(\"Valor da variável 'peso_cachorro':\", peso_cachorro)\n",
        "print(\"Tipo:\", type(peso_cachorro))"
      ],
      "metadata": {
        "colab": {
          "base_uri": "https://localhost:8080/"
        },
        "id": "RQjq2iyWczX0",
        "outputId": "9f72f7d4-0436-442f-c013-9075745369f6"
      },
      "execution_count": 37,
      "outputs": [
        {
          "output_type": "stream",
          "name": "stdout",
          "text": [
            "\n",
            "Valor da variável 'idade_cachorro': 5\n",
            "Tipo: <class 'int'>\n",
            "Valor da variável 'peso_cachorro': 12.5\n",
            "Tipo: <class 'float'>\n"
          ]
        }
      ]
    },
    {
      "cell_type": "code",
      "source": [
        "# Exercício 3: Conversões de tipos\n",
        "idade_cachorro = float(idade_cachorro)\n",
        "peso_cachorro = int(peso_cachorro)\n",
        "print(\"\\nApós conversão:\")\n",
        "print(\"idade_cachorro (float):\", idade_cachorro, \"| Tipo:\", type(idade_cachorro))\n",
        "print(\"peso_cachorro (int):\", peso_cachorro, \"| Tipo:\", type(peso_cachorro))"
      ],
      "metadata": {
        "colab": {
          "base_uri": "https://localhost:8080/"
        },
        "id": "tVn2vL1bc2JU",
        "outputId": "5e28f674-c2fe-475b-f34f-74dbf06ded91"
      },
      "execution_count": 38,
      "outputs": [
        {
          "output_type": "stream",
          "name": "stdout",
          "text": [
            "\n",
            "Após conversão:\n",
            "idade_cachorro (float): 5.0 | Tipo: <class 'float'>\n",
            "peso_cachorro (int): 12 | Tipo: <class 'int'>\n"
          ]
        }
      ]
    },
    {
      "cell_type": "code",
      "source": [
        "# Exercício 4: Nome do aluno e cálculo de média\n",
        "nome_aluno = \"Carlos\"\n",
        "nota1 = 8.5\n",
        "nota2 = 9.0\n",
        "media = (nota1 + nota2) / 2\n",
        "print(f\"\\nOlá, {nome_aluno}! Sua média final é {media:.2f}.\")"
      ],
      "metadata": {
        "colab": {
          "base_uri": "https://localhost:8080/"
        },
        "id": "3zyNeNnvc41k",
        "outputId": "2a33febb-c8ee-41df-d561-c643804a07fe"
      },
      "execution_count": 39,
      "outputs": [
        {
          "output_type": "stream",
          "name": "stdout",
          "text": [
            "\n",
            "Olá, Carlos! Sua média final é 8.75.\n"
          ]
        }
      ]
    }
  ]
}