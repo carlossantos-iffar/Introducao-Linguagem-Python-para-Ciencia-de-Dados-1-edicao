{
  "nbformat": 4,
  "nbformat_minor": 0,
  "metadata": {
    "colab": {
      "provenance": []
    },
    "kernelspec": {
      "name": "python3",
      "display_name": "Python 3"
    },
    "language_info": {
      "name": "python"
    }
  },
  "cells": [
    {
      "cell_type": "markdown",
      "source": [
        "**Capítulo 9 – Introdução à Orientação a Objetos (OO)**"
      ],
      "metadata": {
        "id": "4Tohpu-zV4Fa"
      }
    },
    {
      "cell_type": "markdown",
      "source": [
        "_Este notebook contém todos os códigos de exemplo e soluções para os exercícios do Capítulo 9._"
      ],
      "metadata": {
        "id": "LW6frP1KWroi"
      }
    },
    {
      "cell_type": "markdown",
      "source": [
        "<table align=\"left\">\n",
        "  <td>\n",
        "    <a href=\"https://colab.research.google.com/drive/1YOQ5tDZmtMYLIx8x9yJvkrwE-KoKoeVU?authuser=1#scrollTo=4Tohpu-zV4Fa\" target=\"_parent\"><img src=\"https://colab.research.google.com/assets/colab-badge.svg\" alt=\"Open In Colab\"/></a>\n",
        "  </td>\n",
        "</table>"
      ],
      "metadata": {
        "id": "yBJquUYkWvIh"
      }
    },
    {
      "cell_type": "markdown",
      "source": [
        "# Configuração"
      ],
      "metadata": {
        "id": "f4U4EAwnXQDZ"
      }
    },
    {
      "cell_type": "markdown",
      "source": [
        "Este projeto requer Python 3.11 ou superior:"
      ],
      "metadata": {
        "id": "0Sl5DlgDXWQB"
      }
    },
    {
      "cell_type": "markdown",
      "source": [],
      "metadata": {
        "id": "LLj0un-WpoO2"
      }
    },
    {
      "cell_type": "code",
      "source": [
        "import sys\n",
        "\n",
        "assert sys.version_info >= (3, 11)"
      ],
      "metadata": {
        "id": "3SNbtY_UXdQp"
      },
      "execution_count": null,
      "outputs": []
    },
    {
      "cell_type": "code",
      "source": [
        "!python --version"
      ],
      "metadata": {
        "colab": {
          "base_uri": "https://localhost:8080/"
        },
        "id": "dT26LEsSZx1-",
        "outputId": "c048351d-1720-4233-9538-9a709308dd20"
      },
      "execution_count": null,
      "outputs": [
        {
          "output_type": "stream",
          "name": "stdout",
          "text": [
            "Python 3.11.13\n"
          ]
        }
      ]
    },
    {
      "cell_type": "markdown",
      "source": [
        "Definindo uma Classe"
      ],
      "metadata": {
        "id": "0btAm7KQqVOl"
      }
    },
    {
      "cell_type": "code",
      "source": [
        "class Carro:\n",
        "    # Atributo de classe (compartilhado por todas as instâncias)\n",
        "    rodas = 4\n",
        "\n",
        "    # Método construtor: '__init__'\n",
        "    # É chamado automaticamente quando um novo objeto é criado\n",
        "    def __init__(self, marca, modelo, cor):\n",
        "        # Atributos de instância (únicos para cada objeto)\n",
        "        self.marca = marca\n",
        "        self.modelo = modelo\n",
        "        self.cor = cor\n",
        "        self.velocidade = 0 # Um atributo inicial\n",
        "\n",
        "    # Métodos (comportamentos do objeto)\n",
        "    def acelerar(self, valor):\n",
        "        self.velocidade += valor\n",
        "        print(f\"O {self.modelo} acelerou para {self.velocidade} km/h.\")\n",
        "\n",
        "    def frear(self, valor):\n",
        "        self.velocidade -= valor\n",
        "        if self.velocidade < 0:\n",
        "            self.velocidade = 0\n",
        "        print(f\"O {self.modelo} freou. Velocidade atual: {self.velocidade} km/h.\")\n",
        "\n",
        "    def exibir_informacoes(self):\n",
        "        print(f\"Marca: {self.marca}, Modelo: {self.modelo}, Cor: {self.cor}, Rodas: {self.rodas}, Velocidade: {self.velocidade} km/h.\")"
      ],
      "metadata": {
        "id": "-4wdvDvSqbIV"
      },
      "execution_count": 1,
      "outputs": []
    },
    {
      "cell_type": "markdown",
      "source": [
        "Criando Objetos (Instanciando a Classe)"
      ],
      "metadata": {
        "id": "giljd5oNqhad"
      }
    },
    {
      "cell_type": "code",
      "source": [
        "# Criando objetos (instâncias da classe Carro)\n",
        "carro1 = Carro(\"Toyota\", \"Corolla\", \"prata\")\n",
        "carro2 = Carro(\"Honda\", \"Civic\", \"azul\")\n",
        "\n",
        "# Acessando atributos dos objetos\n",
        "print(f\"O carro1 é um {carro1.marca} {carro1.modelo}, cor {carro1.cor}.\")\n",
        "# Saída: O carro1 é um Toyota Corolla, cor prata.\n",
        "\n",
        "# Carro2 tem 4 rodas, um atributo de classe\n",
        "print(f\"O carro2 tem {carro2.rodas} rodas.\")\n",
        "# Saída: O carro2 tem 4 rodas.\n",
        "\n",
        "# Modificando um atributo de um objeto\n",
        "carro1.cor = \"vermelho\"\n",
        "print(f\"A nova cor do carro1 é: {carro1.cor}\")\n",
        "# Saída: A nova cor do carro1 é: vermelho"
      ],
      "metadata": {
        "colab": {
          "base_uri": "https://localhost:8080/"
        },
        "id": "a5URWeqHqkI9",
        "outputId": "a3e91d7e-9139-4da5-c97c-6a10120d76a7"
      },
      "execution_count": 2,
      "outputs": [
        {
          "output_type": "stream",
          "name": "stdout",
          "text": [
            "O carro1 é um Toyota Corolla, cor prata.\n",
            "O carro2 tem 4 rodas.\n",
            "A nova cor do carro1 é: vermelho\n"
          ]
        }
      ]
    },
    {
      "cell_type": "markdown",
      "source": [
        "Chamando Métodos dos Objetos"
      ],
      "metadata": {
        "id": "Dav28sVyqnX8"
      }
    },
    {
      "cell_type": "code",
      "source": [
        "# Chamando métodos dos objetos\n",
        "carro1.exibir_informacoes()\n",
        "# Saída: Marca: Toyota, Modelo: Corolla, Cor: vermelho, Rodas: 4, Velocidade: 0 km/h.\n",
        "\n",
        "carro1.acelerar(50)\n",
        "# Saída: O Corolla acelerou para 50 km/h.\n",
        "carro1.exibir_informacoes()\n",
        "# Saída: Marca: Toyota, Modelo: Corolla, Cor: vermelho, Rodas: 4, Velocidade: 50 km/h.\n",
        "\n",
        "carro2.acelerar(30)\n",
        "# Saída: O Civic acelerou para 30 km/h.\n",
        "\n",
        "carro2.frear(10)\n",
        "# Saída: O Civic freou. Velocidade atual: 20 km/h.\n",
        "\n",
        "carro2.exibir_informacoes()\n",
        "# Saída: Marca: Honda, Modelo: Civic, Cor: azul, Rodas: 4, Velocidade: 20 km/h."
      ],
      "metadata": {
        "colab": {
          "base_uri": "https://localhost:8080/"
        },
        "id": "pKww9Ibgqp7F",
        "outputId": "93107c93-09a4-4a5d-c7a0-3803e56480e7"
      },
      "execution_count": 4,
      "outputs": [
        {
          "output_type": "stream",
          "name": "stdout",
          "text": [
            "Marca: Toyota, Modelo: Corolla, Cor: vermelho, Rodas: 4, Velocidade: 50 km/h.\n",
            "O Corolla acelerou para 100 km/h.\n",
            "Marca: Toyota, Modelo: Corolla, Cor: vermelho, Rodas: 4, Velocidade: 100 km/h.\n",
            "O Civic acelerou para 50 km/h.\n",
            "O Civic freou. Velocidade atual: 40 km/h.\n",
            "Marca: Honda, Modelo: Civic, Cor: azul, Rodas: 4, Velocidade: 40 km/h.\n"
          ]
        }
      ]
    },
    {
      "cell_type": "markdown",
      "source": [
        "Herança (Conceitos Básicos)"
      ],
      "metadata": {
        "id": "XmuYDa1sq2Uk"
      }
    },
    {
      "cell_type": "code",
      "source": [
        "class Veiculo: # Superclasse\n",
        "    def __init__(self, tipo, rodas):\n",
        "        self.tipo = tipo\n",
        "        self.rodas = rodas\n",
        "\n",
        "    def descrever(self):\n",
        "        print(f\"Este é um veículo do tipo {self.tipo} com {self.rodas} rodas.\")\n",
        "\n",
        "class Moto(Veiculo): # Subclasse de Veiculo\n",
        "    def __init__(self, marca, modelo):\n",
        "        # Chama o construtor da superclasse para inicializar atributos herdados\n",
        "        super().__init__(\"moto\", 2)\n",
        "        self.marca = marca\n",
        "        self.modelo = modelo\n",
        "\n",
        "    # Sobrescrevendo o método descrever da superclasse\n",
        "    def descrever(self):\n",
        "        print(f\"Esta é uma moto {self.marca} {self.modelo} com {self.rodas} rodas.\")\n",
        "\n",
        "    def empinar(self):\n",
        "        print(f\"A {self.modelo} está empinando! Cuidado!\")"
      ],
      "metadata": {
        "id": "pb9uVt6BrKa9"
      },
      "execution_count": 5,
      "outputs": []
    },
    {
      "cell_type": "code",
      "source": [
        "# Criando objetos\n",
        "meu_veiculo = Veiculo(\"carro\", 4)\n",
        "minha_moto = Moto(\"Honda\", \"CBR 600\")\n",
        "\n",
        "meu_veiculo.descrever()\n",
        "# Saída: Este é um veículo do tipo carro com 4 rodas.\n",
        "\n",
        "minha_moto.descrever() # Usa o método sobrescrito da classe Moto\n",
        "# Saída: Esta é uma moto Honda CBR 600 com 2 rodas.\n",
        "\n",
        "minha_moto.empinar() # Método exclusivo da classe Moto\n",
        "# Saída: A CBR 600 está empinando! Cuidado!\n",
        "\n",
        "# Acessando atributos herdados\n",
        "print(f\"Tipo da minha moto: {minha_moto.tipo}\") # Saída: Tipo da minha moto: moto\n"
      ],
      "metadata": {
        "colab": {
          "base_uri": "https://localhost:8080/"
        },
        "id": "enmar5terOJU",
        "outputId": "3fcf3ea6-2c82-4cf2-a54d-15f92cc5a02e"
      },
      "execution_count": 6,
      "outputs": [
        {
          "output_type": "stream",
          "name": "stdout",
          "text": [
            "Este é um veículo do tipo carro com 4 rodas.\n",
            "Esta é uma moto Honda CBR 600 com 2 rodas.\n",
            "A CBR 600 está empinando! Cuidado!\n",
            "Tipo da minha moto: moto\n"
          ]
        }
      ]
    },
    {
      "cell_type": "markdown",
      "source": [
        "Polimorfismo (Conceito Básico)"
      ],
      "metadata": {
        "id": "GbQnPSFTrRD0"
      }
    },
    {
      "cell_type": "code",
      "source": [
        "def exibir_descricao(veiculo):\n",
        "    # Esta função não precisa saber se 'veiculo' é um Carro, Moto, ou Veiculo genérico\n",
        "    # Contanto que ele tenha o método 'descrever()', funcionará.\n",
        "    veiculo.descrever()\n",
        "\n",
        "# Reutilizando a classe Carro do exemplo anterior\n",
        "class Carro:\n",
        "    def __init__(self, marca, modelo):\n",
        "        self.marca = marca\n",
        "        self.modelo = modelo\n",
        "        self.rodas = 4 # Definindo rodas aqui para o exemplo de polimorfismo\n",
        "\n",
        "    def descrever(self): # Método com o mesmo nome\n",
        "        print(f\"Este é um carro {self.marca} {self.modelo} com {self.rodas} rodas.\")\n",
        "\n",
        "# Criando instâncias\n",
        "carro_generico = Carro(\"VW\", \"Gol\")\n",
        "moto_generica = Moto(\"Yamaha\", \"Fazer\") # Usando a classe Moto já definida\n",
        "\n",
        "exibir_descricao(carro_generico)\n",
        "# Saída: Este é um carro VW Gol com 4 rodas.\n",
        "\n",
        "exibir_descricao(moto_generica)\n",
        "# Saída: Esta é uma moto Yamaha Fazer com 2 rodas."
      ],
      "metadata": {
        "colab": {
          "base_uri": "https://localhost:8080/"
        },
        "id": "ks0zARLhrUtM",
        "outputId": "5ca7de86-ed27-4a39-eadf-3eea55fd9822"
      },
      "execution_count": 7,
      "outputs": [
        {
          "output_type": "stream",
          "name": "stdout",
          "text": [
            "Este é um carro VW Gol com 4 rodas.\n",
            "Esta é uma moto Yamaha Fazer com 2 rodas.\n"
          ]
        }
      ]
    },
    {
      "cell_type": "markdown",
      "source": [
        "**Exercícios do Capítulo 9**\n",
        "\n",
        "1.\tCrie uma classe chamada Pessoa com um construtor __init__ que recebe nome e idade como parâmetros. A classe deve ter um método apresentar() que imprime \"Olá, meu nome é [nome] e tenho [idade] anos.\".\n",
        "o\tCrie dois objetos (instâncias) da classe Pessoa com nomes e idades diferentes.\n",
        "o\tChame o método apresentar() para cada objeto.\n",
        "2.\tAdicione um método fazer_aniversario() à classe Pessoa que incrementa a idade da pessoa em 1 e imprime \"Feliz aniversário, [nome]! Agora você tem [nova_idade] anos.\".\n",
        "o\tChame este método para um dos objetos que você criou.\n",
        "3.\tCrie uma classe Aluno que herda da classe Pessoa. A classe Aluno deve ter um atributo adicional matricula e um método estudar() que imprime \"O aluno [nome] está estudando.\".\n",
        "o\tLembre-se de chamar o construtor da classe pai (super().__init__()) dentro do construtor de Aluno.\n",
        "o\tCrie um objeto da classe Aluno e chame seus métodos apresentar() (herdado) e estudar() (próprio).\n",
        "4.\tExplique em suas próprias palavras o que é uma classe e o que é um objeto (instância), e qual a relação entre eles. Dê um exemplo do mundo real (diferente de \"Carro\" ou \"Pessoa\").\n",
        "\n",
        "Parabéns! Você concluiu o segundo módulo do livro, mergulhando em tópicos intermediários e na fundamental Programação Orientada a Objetos.\n",
        "No próximo módulo, Módulo 3, vamos começar a aplicar tudo o que você aprendeu com as bibliotecas que são o cerne da análise de dados em Python: NumPy e Pandas. Este será um passo crucial para seus objetivos de Data Science e Machine Learning!"
      ],
      "metadata": {
        "id": "B-1qXOklcIQN"
      }
    },
    {
      "cell_type": "markdown",
      "source": [
        "Respostas dos Exercícios do Capítulo 9:"
      ],
      "metadata": {
        "id": "tAPbO_FIcrYM"
      }
    },
    {
      "cell_type": "code",
      "source": [
        "# Exercício 1:\n",
        "\n",
        "class Pessoa:\n",
        "    def __init__(self, nome, idade):\n",
        "        self.nome = nome\n",
        "        self.idade = idade\n",
        "\n",
        "    def apresentar(self):\n",
        "        print(f\"Olá, meu nome é {self.nome} e tenho {self.idade} anos.\")\n",
        "\n",
        "# Criando dois objetos\n",
        "pessoa1 = Pessoa(\"Carlos\", 35)\n",
        "pessoa2 = Pessoa(\"Ana\", 28)\n",
        "\n",
        "# Chamando o método apresentar para cada um\n",
        "print(\"1. Apresentações:\")\n",
        "pessoa1.apresentar()\n",
        "pessoa2.apresentar()"
      ],
      "metadata": {
        "colab": {
          "base_uri": "https://localhost:8080/"
        },
        "id": "VbC3OIo-rzM-",
        "outputId": "865fcaaf-37b4-4f8a-b6b8-843bd36de46b"
      },
      "execution_count": 8,
      "outputs": [
        {
          "output_type": "stream",
          "name": "stdout",
          "text": [
            "1. Apresentações:\n",
            "Olá, meu nome é Carlos e tenho 35 anos.\n",
            "Olá, meu nome é Ana e tenho 28 anos.\n"
          ]
        }
      ]
    },
    {
      "cell_type": "code",
      "source": [
        "# Exercício 2:\n",
        "\n",
        "class Pessoa:\n",
        "    def __init__(self, nome, idade):\n",
        "        self.nome = nome\n",
        "        self.idade = idade\n",
        "\n",
        "    def apresentar(self):\n",
        "        print(f\"Olá, meu nome é {self.nome} e tenho {self.idade} anos.\")\n",
        "\n",
        "    def fazer_aniversario(self):\n",
        "        self.idade += 1\n",
        "        print(f\"Feliz aniversário, {self.nome}! Agora você tem {self.idade} anos.\")\n",
        "\n",
        "# Recriando objetos com nova versão da classe\n",
        "pessoa1 = Pessoa(\"Carlos\", 35)\n",
        "pessoa2 = Pessoa(\"Ana\", 28)\n",
        "\n",
        "print(\"\\n2. Aniversário de Carlos:\")\n",
        "pessoa1.fazer_aniversario()"
      ],
      "metadata": {
        "colab": {
          "base_uri": "https://localhost:8080/"
        },
        "id": "Ox0SWGH2r2qc",
        "outputId": "ba6466cc-311f-4511-8973-5bbaf0756b27"
      },
      "execution_count": 9,
      "outputs": [
        {
          "output_type": "stream",
          "name": "stdout",
          "text": [
            "\n",
            "2. Aniversário de Carlos:\n",
            "Feliz aniversário, Carlos! Agora você tem 36 anos.\n"
          ]
        }
      ]
    },
    {
      "cell_type": "code",
      "source": [
        "# Exercício 3:\n",
        "\n",
        "class Aluno(Pessoa):\n",
        "    def __init__(self, nome, idade, matricula):\n",
        "        super().__init__(nome, idade)\n",
        "        self.matricula = matricula\n",
        "\n",
        "    def estudar(self):\n",
        "        print(f\"O aluno {self.nome} está estudando.\")\n",
        "\n",
        "# Criando objeto da classe Aluno\n",
        "aluno1 = Aluno(\"João\", 20, \"20251234\")\n",
        "\n",
        "print(\"\\n3. Aluno usando métodos herdados e próprios:\")\n",
        "aluno1.apresentar()  # herdado de Pessoa\n",
        "aluno1.estudar()     # próprio de Aluno"
      ],
      "metadata": {
        "colab": {
          "base_uri": "https://localhost:8080/"
        },
        "id": "Ehy1hTj1r61U",
        "outputId": "0cdd8067-599e-4050-97ce-75648e377487"
      },
      "execution_count": 10,
      "outputs": [
        {
          "output_type": "stream",
          "name": "stdout",
          "text": [
            "\n",
            "3. Aluno usando métodos herdados e próprios:\n",
            "Olá, meu nome é João e tenho 20 anos.\n",
            "O aluno João está estudando.\n"
          ]
        }
      ]
    },
    {
      "cell_type": "code",
      "source": [
        "# Exercício 4:\n",
        "\n",
        "print(\"\\n4. O que são classes e objetos:\")\n",
        "\n",
        "explicacao = \"\"\"\n",
        "Uma classe é como um molde ou modelo que define as características e comportamentos de um tipo de objeto.\n",
        "Um objeto (ou instância) é uma ocorrência concreta criada a partir dessa classe.\n",
        "\n",
        "Por exemplo, imagine uma classe chamada 'Livro':\n",
        "Ela define que todo livro tem título, autor e número de páginas, e pode ser lido.\n",
        "\n",
        "Cada objeto criado a partir dessa classe seria um livro específico, como:\n",
        "- Livro A: \"Dom Casmurro\", Machado de Assis, 300 páginas\n",
        "- Livro B: \"Python para Iniciantes\", Ana Silva, 250 páginas\n",
        "\n",
        "Assim, a classe define o que um 'livro' é e faz, e os objetos são livros reais com dados diferentes.\n",
        "\"\"\"\n",
        "\n",
        "print(explicacao)"
      ],
      "metadata": {
        "colab": {
          "base_uri": "https://localhost:8080/"
        },
        "id": "qpmdCJA0r-Tz",
        "outputId": "4f16114a-8db9-43fb-b6ca-db248ed8bf2d"
      },
      "execution_count": 11,
      "outputs": [
        {
          "output_type": "stream",
          "name": "stdout",
          "text": [
            "\n",
            "4. O que são classes e objetos:\n",
            "\n",
            "Uma classe é como um molde ou modelo que define as características e comportamentos de um tipo de objeto.\n",
            "Um objeto (ou instância) é uma ocorrência concreta criada a partir dessa classe.\n",
            "\n",
            "Por exemplo, imagine uma classe chamada 'Livro':\n",
            "Ela define que todo livro tem título, autor e número de páginas, e pode ser lido.\n",
            "\n",
            "Cada objeto criado a partir dessa classe seria um livro específico, como:\n",
            "- Livro A: \"Dom Casmurro\", Machado de Assis, 300 páginas\n",
            "- Livro B: \"Python para Iniciantes\", Ana Silva, 250 páginas\n",
            "\n",
            "Assim, a classe define o que um 'livro' é e faz, e os objetos são livros reais com dados diferentes.\n",
            "\n"
          ]
        }
      ]
    }
  ]
}