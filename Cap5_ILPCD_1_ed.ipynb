{
  "nbformat": 4,
  "nbformat_minor": 0,
  "metadata": {
    "colab": {
      "provenance": []
    },
    "kernelspec": {
      "name": "python3",
      "display_name": "Python 3"
    },
    "language_info": {
      "name": "python"
    }
  },
  "cells": [
    {
      "cell_type": "markdown",
      "source": [
        "**Capítulo 5 – Funções**"
      ],
      "metadata": {
        "id": "4Tohpu-zV4Fa"
      }
    },
    {
      "cell_type": "markdown",
      "source": [
        "_Este notebook contém todos os códigos de exemplo e soluções para os exercícios do Capítulo 5._"
      ],
      "metadata": {
        "id": "LW6frP1KWroi"
      }
    },
    {
      "cell_type": "markdown",
      "source": [
        "<table align=\"left\">\n",
        "  <td>\n",
        "    <a href=\"https://colab.research.google.com/drive/1tqBPWX2fNRLP92doxZxVSQqHejEF0HLv?authuser=1#scrollTo=4Tohpu-zV4Fa\" target=\"_parent\"><img src=\"https://colab.research.google.com/assets/colab-badge.svg\" alt=\"Open In Colab\"/></a>\n",
        "  </td>\n",
        "</table>"
      ],
      "metadata": {
        "id": "yBJquUYkWvIh"
      }
    },
    {
      "cell_type": "markdown",
      "source": [
        "# Configuração"
      ],
      "metadata": {
        "id": "f4U4EAwnXQDZ"
      }
    },
    {
      "cell_type": "markdown",
      "source": [
        "Este projeto requer Python 3.11 ou superior:"
      ],
      "metadata": {
        "id": "0Sl5DlgDXWQB"
      }
    },
    {
      "cell_type": "code",
      "source": [
        "import sys\n",
        "\n",
        "assert sys.version_info >= (3, 11)"
      ],
      "metadata": {
        "id": "3SNbtY_UXdQp"
      },
      "execution_count": null,
      "outputs": []
    },
    {
      "cell_type": "code",
      "source": [
        "!python --version"
      ],
      "metadata": {
        "colab": {
          "base_uri": "https://localhost:8080/"
        },
        "id": "dT26LEsSZx1-",
        "outputId": "c048351d-1720-4233-9538-9a709308dd20"
      },
      "execution_count": null,
      "outputs": [
        {
          "output_type": "stream",
          "name": "stdout",
          "text": [
            "Python 3.11.13\n"
          ]
        }
      ]
    },
    {
      "cell_type": "markdown",
      "source": [
        "Definindo e Chamando Funções"
      ],
      "metadata": {
        "id": "b4BBQcbhBbUS"
      }
    },
    {
      "cell_type": "code",
      "source": [
        "# Definindo uma função simples\n",
        "def saudar():\n",
        "    print(\"Olá! Seja bem-vindo(a) à função.\")\n",
        "\n",
        "# Chamando a função\n",
        "saudar() # Saída: Olá! Seja bem-vindo(a) à função."
      ],
      "metadata": {
        "colab": {
          "base_uri": "https://localhost:8080/"
        },
        "id": "ex_PywH7BeNZ",
        "outputId": "35a66ad0-40dd-4dba-dcbd-22462dc1f373"
      },
      "execution_count": 1,
      "outputs": [
        {
          "output_type": "stream",
          "name": "stdout",
          "text": [
            "Olá! Seja bem-vindo(a) à função.\n"
          ]
        }
      ]
    },
    {
      "cell_type": "markdown",
      "source": [
        "Parâmetros e Argumentos"
      ],
      "metadata": {
        "id": "n18dER-_Bm7w"
      }
    },
    {
      "cell_type": "code",
      "source": [
        "# Função com um parâmetro\n",
        "def saudar_nome(nome):\n",
        "    print(f\"Olá, {nome}! Como você está?\")\n",
        "\n",
        "saudar_nome(\"Alice\")   # Saída: Olá, Alice! Como você está?\n",
        "saudar_nome(\"Bob\")     # Saída: Olá, Bob! Como você está?\n",
        "\n",
        "# Função com múltiplos parâmetros\n",
        "def somar(numero1, numero2):\n",
        "    soma = numero1 + numero2\n",
        "    print(f\"A soma de {numero1} e {numero2} é: {soma}\")\n",
        "\n",
        "somar(10, 5)   # Saída: A soma de 10 e 5 é: 15\n",
        "somar(-3, 8)   # Saída: A soma de -3 e 8 é: 5"
      ],
      "metadata": {
        "colab": {
          "base_uri": "https://localhost:8080/"
        },
        "id": "Mx6A1lzPBs0H",
        "outputId": "e48a5cd2-f372-49c2-9189-3f72f2074c0d"
      },
      "execution_count": 2,
      "outputs": [
        {
          "output_type": "stream",
          "name": "stdout",
          "text": [
            "Olá, Alice! Como você está?\n",
            "Olá, Bob! Como você está?\n",
            "A soma de 10 e 5 é: 15\n",
            "A soma de -3 e 8 é: 5\n"
          ]
        }
      ]
    },
    {
      "cell_type": "markdown",
      "source": [
        "Argumentos Padrão (Default Arguments):"
      ],
      "metadata": {
        "id": "70wWro6IBz5N"
      }
    },
    {
      "cell_type": "code",
      "source": [
        "def apresentar_carro(modelo, cor=\"preto\"): # 'cor' tem um valor padrão\n",
        "    print(f\"Este é um carro {modelo} na cor {cor}.\")\n",
        "\n",
        "apresentar_carro(\"Ford Mustang\")         # Saída: Este é um carro Ford Mustang na cor preto.\n",
        "apresentar_carro(\"Chevrolet Camaro\", \"amarelo\") # Saída: Este é um carro Chevrolet Camaro na cor amarelo."
      ],
      "metadata": {
        "colab": {
          "base_uri": "https://localhost:8080/"
        },
        "id": "8U89JL0kB3vv",
        "outputId": "a5c99fef-b4f4-41b8-8888-f55fc902b473"
      },
      "execution_count": 3,
      "outputs": [
        {
          "output_type": "stream",
          "name": "stdout",
          "text": [
            "Este é um carro Ford Mustang na cor preto.\n",
            "Este é um carro Chevrolet Camaro na cor amarelo.\n"
          ]
        }
      ]
    },
    {
      "cell_type": "markdown",
      "source": [
        "Argumentos por Palavra-Chave (Keyword Arguments):"
      ],
      "metadata": {
        "id": "ykkF0KoFCD0Y"
      }
    },
    {
      "cell_type": "code",
      "source": [
        "def criar_perfil(nome, idade, cidade):\n",
        "    print(f\"Perfil: {nome}, {idade} anos, de {cidade}.\")\n",
        "\n",
        "# Chamada normal (posição importa)\n",
        "criar_perfil(\"Paula\", 30, \"Rio de Janeiro\")\n",
        "\n",
        "# Chamada com argumentos por palavra-chave (ordem não importa)\n",
        "criar_perfil(idade=25, cidade=\"São Paulo\", nome=\"João\")"
      ],
      "metadata": {
        "colab": {
          "base_uri": "https://localhost:8080/"
        },
        "id": "7wW8rU8SCIHa",
        "outputId": "1f81a645-9b02-4f69-a5bf-792ab4be6bf2"
      },
      "execution_count": 4,
      "outputs": [
        {
          "output_type": "stream",
          "name": "stdout",
          "text": [
            "Perfil: Paula, 30 anos, de Rio de Janeiro.\n",
            "Perfil: João, 25 anos, de São Paulo.\n"
          ]
        }
      ]
    },
    {
      "cell_type": "markdown",
      "source": [
        "O Retorno de Valores (return)"
      ],
      "metadata": {
        "id": "AhLf4JY5CNzz"
      }
    },
    {
      "cell_type": "code",
      "source": [
        "# Função que retorna um valor\n",
        "def calcular_media(nota1, nota2, nota3):\n",
        "    media = (nota1 + nota2 + nota3) / 3\n",
        "    return media # O resultado do cálculo é retornado\n",
        "\n",
        "# Chamando a função e armazenando o resultado em uma variável\n",
        "media_aluno1 = calcular_media(7.0, 8.5, 9.0)\n",
        "print(f\"A média do aluno 1 é: {media_aluno1:.2f}\") # Saída: A média do aluno 1 é: 8.17 (formatação para 2 casas decimais)\n",
        "\n",
        "# Você pode usar o valor retornado diretamente\n",
        "if calcular_media(5.0, 6.0, 7.0) >= 6.0:\n",
        "    print(\"O aluno 2 foi aprovado!\")\n",
        "else:\n",
        "    print(\"O aluno 2 foi reprovado.\")\n",
        "# Saída: O aluno 2 foi aprovado! (média é 6.0)\n",
        "\n",
        "# Função que retorna múltiplos valores (retorna uma tupla)\n",
        "def obter_nome_completo(primeiro_nome, sobrenome):\n",
        "    nome_completo = f\"{primeiro_nome} {sobrenome}\"\n",
        "    return primeiro_nome, sobrenome, nome_completo\n",
        "\n",
        "p_nome, s_nome, completo = obter_nome_completo(\"Ana\", \"Silva\")\n",
        "print(f\"Primeiro nome: {p_nome}, Sobrenome: {s_nome}, Completo: {completo}\")\n",
        "# Saída: Primeiro nome: Ana, Sobrenome: Silva, Completo: Ana Silva"
      ],
      "metadata": {
        "colab": {
          "base_uri": "https://localhost:8080/"
        },
        "id": "ez9syIIYCUQv",
        "outputId": "18f5af79-ffa1-480a-de0f-3e138c352298"
      },
      "execution_count": 5,
      "outputs": [
        {
          "output_type": "stream",
          "name": "stdout",
          "text": [
            "A média do aluno 1 é: 8.17\n",
            "O aluno 2 foi aprovado!\n",
            "Primeiro nome: Ana, Sobrenome: Silva, Completo: Ana Silva\n"
          ]
        }
      ]
    },
    {
      "cell_type": "markdown",
      "source": [
        "Escopo de Variáveis (Local e Global)"
      ],
      "metadata": {
        "id": "SNtssdN1Cce3"
      }
    },
    {
      "cell_type": "code",
      "source": [
        "# Variável global\n",
        "mensagem_global = \"Eu sou uma variável global.\"\n",
        "\n",
        "def minha_funcao():\n",
        "    # Variável local\n",
        "    mensagem_local = \"Eu sou uma variável local.\"\n",
        "    print(mensagem_local)\n",
        "    print(mensagem_global) # Acessando a variável global de dentro da função\n",
        "\n",
        "minha_funcao()\n",
        "# Saída:\n",
        "# Eu sou uma variável local.\n",
        "# Eu sou uma variável global.\n",
        "\n",
        "# Tentando acessar a variável local fora da função (isso causará um erro!)\n",
        "print(mensagem_local) # NameError: name 'mensagem_local' is not defined\n",
        "\n",
        "print(mensagem_global) # Saída: Eu sou uma variável global."
      ],
      "metadata": {
        "colab": {
          "base_uri": "https://localhost:8080/",
          "height": 245
        },
        "id": "uSIBsaioChUI",
        "outputId": "65b262c6-29af-4636-8bbb-8dadf5283d5c"
      },
      "execution_count": 7,
      "outputs": [
        {
          "output_type": "stream",
          "name": "stdout",
          "text": [
            "Eu sou uma variável local.\n",
            "Eu sou uma variável global.\n"
          ]
        },
        {
          "output_type": "error",
          "ename": "NameError",
          "evalue": "name 'mensagem_local' is not defined",
          "traceback": [
            "\u001b[0;31m---------------------------------------------------------------------------\u001b[0m",
            "\u001b[0;31mNameError\u001b[0m                                 Traceback (most recent call last)",
            "\u001b[0;32m/tmp/ipython-input-7-355981752.py\u001b[0m in \u001b[0;36m<cell line: 0>\u001b[0;34m()\u001b[0m\n\u001b[1;32m     14\u001b[0m \u001b[0;34m\u001b[0m\u001b[0m\n\u001b[1;32m     15\u001b[0m \u001b[0;31m# Tentando acessar a variável local fora da função (isso causará um erro!)\u001b[0m\u001b[0;34m\u001b[0m\u001b[0;34m\u001b[0m\u001b[0m\n\u001b[0;32m---> 16\u001b[0;31m \u001b[0mprint\u001b[0m\u001b[0;34m(\u001b[0m\u001b[0mmensagem_local\u001b[0m\u001b[0;34m)\u001b[0m \u001b[0;31m# NameError: name 'mensagem_local' is not defined\u001b[0m\u001b[0;34m\u001b[0m\u001b[0;34m\u001b[0m\u001b[0m\n\u001b[0m\u001b[1;32m     17\u001b[0m \u001b[0;34m\u001b[0m\u001b[0m\n\u001b[1;32m     18\u001b[0m \u001b[0mprint\u001b[0m\u001b[0;34m(\u001b[0m\u001b[0mmensagem_global\u001b[0m\u001b[0;34m)\u001b[0m \u001b[0;31m# Saída: Eu sou uma variável global.\u001b[0m\u001b[0;34m\u001b[0m\u001b[0;34m\u001b[0m\u001b[0m\n",
            "\u001b[0;31mNameError\u001b[0m: name 'mensagem_local' is not defined"
          ]
        }
      ]
    },
    {
      "cell_type": "markdown",
      "source": [
        "A palavra-chave global (usar com cautela!):"
      ],
      "metadata": {
        "id": "rAfOb46WC_0_"
      }
    },
    {
      "cell_type": "code",
      "source": [
        "contador = 0 # Variável global\n",
        "\n",
        "def incrementar_contador_incorreto():\n",
        "    contador = 1 # Isso cria uma NOVA variável local chamada 'contador'\n",
        "    print(f\"Dentro da função (local): {contador}\")\n",
        "\n",
        "def incrementar_contador_correto():\n",
        "    global contador # Indica que estamos nos referindo à variável global 'contador'\n",
        "    contador += 1\n",
        "    print(f\"Dentro da função (global): {contador}\")\n",
        "\n",
        "print(f\"Antes da chamada (global): {contador}\") # Saída: Antes da chamada (global): 0\n",
        "\n",
        "incrementar_contador_incorreto()\n",
        "print(f\"Após chamada incorreta (global): {contador}\") # Saída: Após chamada incorreta (global): 0 (não mudou!)\n",
        "\n",
        "incrementar_contador_correto()\n",
        "print(f\"Após chamada correta (global): {contador}\") # Saída: Após chamada correta (global): 1"
      ],
      "metadata": {
        "colab": {
          "base_uri": "https://localhost:8080/"
        },
        "id": "oM8UcQAMDFKv",
        "outputId": "b780fb36-3339-43f4-e326-471d9eee536c"
      },
      "execution_count": 8,
      "outputs": [
        {
          "output_type": "stream",
          "name": "stdout",
          "text": [
            "Antes da chamada (global): 0\n",
            "Dentro da função (local): 1\n",
            "Após chamada incorreta (global): 0\n",
            "Dentro da função (global): 1\n",
            "Após chamada correta (global): 1\n"
          ]
        }
      ]
    },
    {
      "cell_type": "markdown",
      "source": [
        "Funções Lambda (Funções Anônimas)"
      ],
      "metadata": {
        "id": "Y2Jl76sxDMNz"
      }
    },
    {
      "cell_type": "code",
      "source": [
        "# Função normal para somar dois números\n",
        "def soma_normal(a, b):\n",
        "    return a + b\n",
        "print(f\"Soma normal: {soma_normal(2, 3)}\") # Saída: Soma normal: 5\n",
        "\n",
        "# Função lambda equivalente\n",
        "soma_lambda = lambda a, b: a + b\n",
        "print(f\"Soma lambda: {soma_lambda(2, 3)}\") # Saída: Soma lambda: 5\n",
        "\n",
        "# Exemplo de uso comum: como argumento para a função sorted()\n",
        "# sorted() pode receber uma chave para ordenar\n",
        "pontos = [(1, 5), (3, 2), (2, 8)]\n",
        "# Ordenar pela segunda coordenada de cada tupla\n",
        "pontos_ordenados = sorted(pontos, key=lambda ponto: ponto[1])\n",
        "print(f\"Pontos ordenados pela segunda coordenada: {pontos_ordenados}\")\n",
        "# Saída: Pontos ordenados pela segunda coordenada: [(3, 2), (1, 5), (2, 8)]"
      ],
      "metadata": {
        "colab": {
          "base_uri": "https://localhost:8080/"
        },
        "id": "FvdALExjDSsj",
        "outputId": "8edec499-9aa3-4e2f-cfce-ed346770e0f7"
      },
      "execution_count": 9,
      "outputs": [
        {
          "output_type": "stream",
          "name": "stdout",
          "text": [
            "Soma normal: 5\n",
            "Soma lambda: 5\n",
            "Pontos ordenados pela segunda coordenada: [(3, 2), (1, 5), (2, 8)]\n"
          ]
        }
      ]
    },
    {
      "cell_type": "markdown",
      "source": [
        "**Exercícios do Capítulo 5**\n",
        "\n",
        "1.\tCrie uma função chamada calcular_imc que recebe dois parâmetros: peso (em kg) e altura (em metros). A função deve calcular o IMC (IMC=peso/(altura)$^2$) e retornar o valor. Teste a função com seus próprios valores e imprima o resultado.\n",
        "2.\tCrie uma função chamada verificar_idade_voto que recebe um parâmetro idade. Use condicionais dentro da função para imprimir:\n",
        "o\t\"Você ainda não pode votar.\" se idade for menor que 16.\n",
        "o\t\"Você pode votar (voto opcional).\" se idade for entre 16 e 17 ou maior que 70.\n",
        "o\t\"Você deve votar (voto obrigatório).\" se idade for entre 18 e 70. Teste a função com diferentes idades.\n",
        "3.\tCrie uma função gerar_tabuada que recebe um numero como parâmetro e um limite (com valor padrão 10). A função deve imprimir a tabuada desse número até o limite. Exemplo: gerar_tabuada(5, 3) deve imprimir 5x1=5, 5x2=10, 5x3=15.\n",
        "4.\tConsidere a lista de dicionários: produtos = [{\"nome\": \"Monitor\", \"preco\": 800}, {\"nome\": \"Teclado\", \"preco\": 150}, {\"nome\": \"Mouse\", \"preco\": 70}]. Use a função sorted() com uma função lambda como chave (key) para ordenar esta lista de produtos pelo preço, do mais barato para o mais caro. Imprima a lista ordenada.\n",
        "5.\tExplique em suas palavras a diferença entre o escopo local e global. Dê um exemplo de uma situação onde você usaria uma variável global e outra onde usaria uma local.\n",
        "\n",
        "Sensacional! Funções são a base da modularidade e organização em Python. Você agora tem ferramentas poderosas para construir programas mais estruturados. No próximo capítulo, vamos aprender sobre módulos e pacotes, que permitem que você reutilize código de outras pessoas e organize seu próprio código em estruturas maiores."
      ],
      "metadata": {
        "id": "B-1qXOklcIQN"
      }
    },
    {
      "cell_type": "markdown",
      "source": [
        "Respostas dos Exercícios do Capítulo 5:"
      ],
      "metadata": {
        "id": "tAPbO_FIcrYM"
      }
    },
    {
      "cell_type": "code",
      "source": [
        "# Exercício 1:\n",
        "\n",
        "def calcular_imc(peso, altura):\n",
        "    imc = peso / (altura ** 2)\n",
        "    return imc\n",
        "\n",
        "# Testando com valores próprios\n",
        "meu_peso = 70\n",
        "minha_altura = 1.75\n",
        "resultado = calcular_imc(meu_peso, minha_altura)\n",
        "print(f\"1. Seu IMC é: {resultado:.2f}\")"
      ],
      "metadata": {
        "colab": {
          "base_uri": "https://localhost:8080/"
        },
        "id": "cV-k9xtaEsjA",
        "outputId": "82eae6bd-bb90-4ec1-99ac-56b154630baf"
      },
      "execution_count": 10,
      "outputs": [
        {
          "output_type": "stream",
          "name": "stdout",
          "text": [
            "1. Seu IMC é: 22.86\n"
          ]
        }
      ]
    },
    {
      "cell_type": "code",
      "source": [
        "# Exercício 2:\n",
        "\n",
        "def verificar_idade_voto(idade):\n",
        "    if idade < 16:\n",
        "        print(\"Você ainda não pode votar.\")\n",
        "    elif 16 <= idade < 18 or idade > 70:\n",
        "        print(\"Você pode votar (voto opcional).\")\n",
        "    else:\n",
        "        print(\"Você deve votar (voto obrigatório).\")\n",
        "\n",
        "# Testando a função com diferentes idades\n",
        "print(\"\\n2. Testando verificação de idade para voto:\")\n",
        "verificar_idade_voto(14)\n",
        "verificar_idade_voto(16)\n",
        "verificar_idade_voto(25)\n",
        "verificar_idade_voto(72)"
      ],
      "metadata": {
        "colab": {
          "base_uri": "https://localhost:8080/"
        },
        "id": "EPd9_UfVE1Z_",
        "outputId": "74fd7497-1b91-4398-afa7-c060c3c04810"
      },
      "execution_count": 12,
      "outputs": [
        {
          "output_type": "stream",
          "name": "stdout",
          "text": [
            "\n",
            "2. Testando verificação de idade para voto:\n",
            "Você ainda não pode votar.\n",
            "Você pode votar (voto opcional).\n",
            "Você deve votar (voto obrigatório).\n",
            "Você pode votar (voto opcional).\n"
          ]
        }
      ]
    },
    {
      "cell_type": "code",
      "source": [
        "# Exercício 3:\n",
        "\n",
        "def gerar_tabuada(numero, limite=10):\n",
        "    print(f\"\\n3. Tabuada de {numero} até {limite}:\")\n",
        "    for i in range(1, limite + 1):\n",
        "        print(f\"{numero} x {i} = {numero * i}\")\n",
        "\n",
        "# Exemplo: gerar_tabuada(5, 3)\n",
        "gerar_tabuada(5, 3)\n",
        "gerar_tabuada(7)  # com limite padrão 10"
      ],
      "metadata": {
        "colab": {
          "base_uri": "https://localhost:8080/"
        },
        "id": "Oc-HO10iE-Gh",
        "outputId": "2719e3ba-5fcb-4a66-f2c1-85469a3bd742"
      },
      "execution_count": 13,
      "outputs": [
        {
          "output_type": "stream",
          "name": "stdout",
          "text": [
            "\n",
            "3. Tabuada de 5 até 3:\n",
            "5 x 1 = 5\n",
            "5 x 2 = 10\n",
            "5 x 3 = 15\n",
            "\n",
            "3. Tabuada de 7 até 10:\n",
            "7 x 1 = 7\n",
            "7 x 2 = 14\n",
            "7 x 3 = 21\n",
            "7 x 4 = 28\n",
            "7 x 5 = 35\n",
            "7 x 6 = 42\n",
            "7 x 7 = 49\n",
            "7 x 8 = 56\n",
            "7 x 9 = 63\n",
            "7 x 10 = 70\n"
          ]
        }
      ]
    },
    {
      "cell_type": "code",
      "source": [
        "# Exercício 4:\n",
        "\n",
        "produtos = [\n",
        "    {\"nome\": \"Monitor\", \"preco\": 800},\n",
        "    {\"nome\": \"Teclado\", \"preco\": 150},\n",
        "    {\"nome\": \"Mouse\", \"preco\": 70}\n",
        "]\n",
        "\n",
        "produtos_ordenados = sorted(produtos, key=lambda produto: produto[\"preco\"])\n",
        "print(\"\\n4. Produtos ordenados por preço (do mais barato ao mais caro):\")\n",
        "for p in produtos_ordenados:\n",
        "    print(f\"{p['nome']} - R$ {p['preco']}\")\n"
      ],
      "metadata": {
        "colab": {
          "base_uri": "https://localhost:8080/"
        },
        "id": "-slLtHAxFHK9",
        "outputId": "3c79f3c4-abbe-4d61-e2ef-5cdd6bd7a259"
      },
      "execution_count": 14,
      "outputs": [
        {
          "output_type": "stream",
          "name": "stdout",
          "text": [
            "\n",
            "4. Produtos ordenados por preço (do mais barato ao mais caro):\n",
            "Mouse - R$ 70\n",
            "Teclado - R$ 150\n",
            "Monitor - R$ 800\n"
          ]
        }
      ]
    },
    {
      "cell_type": "code",
      "source": [
        "# Exercício 5:\n",
        "\n",
        "print(\"\\n5. Diferença entre escopo local e global:\")\n",
        "\n",
        "# Explicação:\n",
        "# - Variável global é definida fora de qualquer função e pode ser usada em todo o programa.\n",
        "# - Variável local é definida dentro de uma função e só existe ali dentro.\n",
        "\n",
        "# Exemplo:\n",
        "\n",
        "# Variável global\n",
        "taxa_juros = 0.05  # disponível para todo o código\n",
        "\n",
        "def calcular_juros(valor):\n",
        "    # Variável local\n",
        "    juros = valor * taxa_juros\n",
        "    return juros\n",
        "\n",
        "resultado = calcular_juros(1000)\n",
        "print(f\"Juros calculado com variável global: R$ {resultado:.2f}\")\n",
        "\n",
        "def exemplo_local():\n",
        "    mensagem = \"Olá, sou local!\"  # variável local\n",
        "    print(mensagem)\n",
        "\n",
        "exemplo_local()\n",
        "\n",
        "# print(mensagem)  # Isto causaria erro, pois 'mensagem' é local à função acima."
      ],
      "metadata": {
        "colab": {
          "base_uri": "https://localhost:8080/"
        },
        "id": "8Igz6w67FNCc",
        "outputId": "3fd9c8b7-d606-4b02-89b7-e4091a90d35a"
      },
      "execution_count": 15,
      "outputs": [
        {
          "output_type": "stream",
          "name": "stdout",
          "text": [
            "\n",
            "5. Diferença entre escopo local e global:\n",
            "Juros calculado com variável global: R$ 50.00\n",
            "Olá, sou local!\n"
          ]
        }
      ]
    }
  ]
}