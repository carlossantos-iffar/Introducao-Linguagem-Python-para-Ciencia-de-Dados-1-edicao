{
  "nbformat": 4,
  "nbformat_minor": 0,
  "metadata": {
    "colab": {
      "provenance": []
    },
    "kernelspec": {
      "name": "python3",
      "display_name": "Python 3"
    },
    "language_info": {
      "name": "python"
    }
  },
  "cells": [
    {
      "cell_type": "markdown",
      "source": [
        "**Capítulo 11 – Pandas para Análise de Dados**"
      ],
      "metadata": {
        "id": "4Tohpu-zV4Fa"
      }
    },
    {
      "cell_type": "markdown",
      "source": [
        "_Este notebook contém todos os códigos de exemplo e soluções para os exercícios do Capítulo 11._"
      ],
      "metadata": {
        "id": "LW6frP1KWroi"
      }
    },
    {
      "cell_type": "markdown",
      "source": [
        "<table align=\"left\">\n",
        "  <td>\n",
        "    <a href=\"https://colab.research.google.com/drive/14aAOU32aoOP4U3xtW1h8eEtjfleQgkBh?authuser=1#scrollTo=B-1qXOklcIQN\" target=\"_parent\"><img src=\"https://colab.research.google.com/assets/colab-badge.svg\" alt=\"Open In Colab\"/></a>\n",
        "  </td>\n",
        "</table>"
      ],
      "metadata": {
        "id": "yBJquUYkWvIh"
      }
    },
    {
      "cell_type": "markdown",
      "source": [
        "# Configuração"
      ],
      "metadata": {
        "id": "f4U4EAwnXQDZ"
      }
    },
    {
      "cell_type": "markdown",
      "source": [
        "Este projeto requer Python 3.11 ou superior:"
      ],
      "metadata": {
        "id": "0Sl5DlgDXWQB"
      }
    },
    {
      "cell_type": "markdown",
      "source": [],
      "metadata": {
        "id": "LLj0un-WpoO2"
      }
    },
    {
      "cell_type": "code",
      "source": [
        "import sys\n",
        "\n",
        "assert sys.version_info >= (3, 11)"
      ],
      "metadata": {
        "id": "3SNbtY_UXdQp"
      },
      "execution_count": null,
      "outputs": []
    },
    {
      "cell_type": "code",
      "source": [
        "!python --version"
      ],
      "metadata": {
        "colab": {
          "base_uri": "https://localhost:8080/"
        },
        "id": "dT26LEsSZx1-",
        "outputId": "c048351d-1720-4233-9538-9a709308dd20"
      },
      "execution_count": null,
      "outputs": [
        {
          "output_type": "stream",
          "name": "stdout",
          "text": [
            "Python 3.11.13\n"
          ]
        }
      ]
    },
    {
      "cell_type": "markdown",
      "source": [
        "Criando Series"
      ],
      "metadata": {
        "id": "72tU4KFOw30g"
      }
    },
    {
      "cell_type": "code",
      "source": [
        "import pandas as pd\n",
        "import numpy as np\n",
        "\n",
        "# Criando Series a partir de uma lista\n",
        "idades = pd.Series([22, 25, 30, 28, 35])\n",
        "print(\"Series de Idades:\\n\", idades)\n",
        "print(f\"Tipo: {type(idades)}\")\n",
        "# Saída:\n",
        "# Series de Idades:\n",
        "\n",
        "# 0    22\n",
        "# 1    25\n",
        "# 2    30\n",
        "# 3    28\n",
        "# 4    35\n",
        "# dtype: int64\n",
        "# Tipo: <class 'pandas.core.series.Series'>\n",
        "\n",
        "# Criando Series com índices personalizados\n",
        "temperaturas = pd.Series([23, 25, 21, 28], index=['Seg', 'Ter', 'Qua', 'Qui'])\n",
        "print(\"\\nSeries de Temperaturas com índices:\\n\", temperaturas)\n",
        "# Saída:\n",
        "# Series de Temperaturas com índices:\n",
        "# Seg    23\n",
        "# Ter    25\n",
        "# Qua    21\n",
        "# Qui    28\n",
        "# dtype: int64\n",
        "\n",
        "# Criando Series a partir de um dicionário\n",
        "dados_dicionario = {'Maçã': 100, 'Banana': 150, 'Laranja': 75}\n",
        "estoque = pd.Series(dados_dicionario)\n",
        "print(\"\\nSeries de Estoque:\\n\", estoque)\n",
        "# Saída:\n",
        "# Series de Estoque:\n",
        "# Maçã      100\n",
        "# Banana    150\n",
        "# Laranja    75\n",
        "# dtype: int64"
      ],
      "metadata": {
        "colab": {
          "base_uri": "https://localhost:8080/"
        },
        "id": "RVgE6pRjxCHB",
        "outputId": "a9fb8a33-e8ed-415f-b007-7fc9cefb5ef3"
      },
      "execution_count": 1,
      "outputs": [
        {
          "output_type": "stream",
          "name": "stdout",
          "text": [
            "Series de Idades:\n",
            " 0    22\n",
            "1    25\n",
            "2    30\n",
            "3    28\n",
            "4    35\n",
            "dtype: int64\n",
            "Tipo: <class 'pandas.core.series.Series'>\n",
            "\n",
            "Series de Temperaturas com índices:\n",
            " Seg    23\n",
            "Ter    25\n",
            "Qua    21\n",
            "Qui    28\n",
            "dtype: int64\n",
            "\n",
            "Series de Estoque:\n",
            " Maçã       100\n",
            "Banana     150\n",
            "Laranja     75\n",
            "dtype: int64\n"
          ]
        }
      ]
    },
    {
      "cell_type": "markdown",
      "source": [
        "Criando DataFrames"
      ],
      "metadata": {
        "id": "aOjO7mMdxMxx"
      }
    },
    {
      "cell_type": "code",
      "source": [
        "# Criando DataFrame a partir de um dicionário de listas\n",
        "dados = {\n",
        "    'Nome': ['Alice', 'Bob', 'Carlos', 'Diana'],\n",
        "    'Idade': [25, 30, 22, 28],\n",
        "    'Cidade': ['São Paulo', 'Rio de Janeiro', 'Belo Horizonte', 'São Paulo']\n",
        "}\n",
        "df_pessoas = pd.DataFrame(dados)\n",
        "print(\"DataFrame de Pessoas:\\n\", df_pessoas)\n",
        "# Saída:\n",
        "# DataFrame de Pessoas:\n",
        "#      Nome  Idade          Cidade\n",
        "# 0   Alice     25       São Paulo\n",
        "# 1     Bob     30  Rio de Janeiro\n",
        "# 2  Carlos     22  Belo Horizonte\n",
        "# 3   Diana     28       São Paulo\n",
        "\n",
        "# Criando DataFrame com índices personalizados\n",
        "df_com_indice = pd.DataFrame(dados, index=['P1', 'P2', 'P3', 'P4'])\n",
        "print(\"\\nDataFrame com Índices Personalizados:\\n\", df_com_indice)\n",
        "# Saída:\n",
        "# DataFrame com Índices Personalizados:\n",
        "#    Nome  Idade          Cidade\n",
        "# P1  Alice     25       São Paulo\n",
        "# P2    Bob     30  Rio de Janeiro\n",
        "# P3 Carlos     22  Belo Horizonte\n",
        "# P4  Diana     28       São Paulo"
      ],
      "metadata": {
        "colab": {
          "base_uri": "https://localhost:8080/"
        },
        "id": "h7gnx4wzxPG4",
        "outputId": "696ad0a2-8100-4d4b-8d49-259c76c61b3a"
      },
      "execution_count": 2,
      "outputs": [
        {
          "output_type": "stream",
          "name": "stdout",
          "text": [
            "DataFrame de Pessoas:\n",
            "      Nome  Idade          Cidade\n",
            "0   Alice     25       São Paulo\n",
            "1     Bob     30  Rio de Janeiro\n",
            "2  Carlos     22  Belo Horizonte\n",
            "3   Diana     28       São Paulo\n",
            "\n",
            "DataFrame com Índices Personalizados:\n",
            "       Nome  Idade          Cidade\n",
            "P1   Alice     25       São Paulo\n",
            "P2     Bob     30  Rio de Janeiro\n",
            "P3  Carlos     22  Belo Horizonte\n",
            "P4   Diana     28       São Paulo\n"
          ]
        }
      ]
    },
    {
      "cell_type": "markdown",
      "source": [
        "Leitura de Dados de Arquivos (.csv, .xlsx)"
      ],
      "metadata": {
        "id": "GAiPDuA3xSbH"
      }
    },
    {
      "cell_type": "code",
      "source": [
        "# Cria um arquivo CSV de exemplo\n",
        "import os\n",
        "with open(\"clientes.csv\", \"w\") as f:\n",
        "    f.write(\"id,nome,idade,renda\\n\")\n",
        "    f.write(\"1,Maria,30,5000\\n\")\n",
        "    f.write(\"2,João,25,3500\\n\")\n",
        "    f.write(\"3,Ana,35,7000\\n\")\n",
        "    f.write(\"4,Pedro,40,6000\\n\")\n",
        "print(\"Arquivo clientes.csv criado para teste.\")"
      ],
      "metadata": {
        "colab": {
          "base_uri": "https://localhost:8080/"
        },
        "id": "tCZcW5ZLxVkn",
        "outputId": "f8772a6a-1c53-4a19-c0d7-6649ca063116"
      },
      "execution_count": 3,
      "outputs": [
        {
          "output_type": "stream",
          "name": "stdout",
          "text": [
            "Arquivo clientes.csv criado para teste.\n"
          ]
        }
      ]
    },
    {
      "cell_type": "code",
      "source": [
        "# Lendo um arquivo CSV\n",
        "df_clientes = pd.read_csv(\"clientes.csv\")\n",
        "print(\"\\nDataFrame lido de 'clientes.csv':\\n\", df_clientes)\n",
        "# Saída:\n",
        "# DataFrame lido de 'clientes.csv':\n",
        "#    id   nome  idade  renda\n",
        "# 0   1  Maria     30   5000\n",
        "# 1   2   João     25   3500\n",
        "# 2   3    Ana     35   7000\n",
        "# 3   4  Pedro     40   6000"
      ],
      "metadata": {
        "colab": {
          "base_uri": "https://localhost:8080/"
        },
        "id": "W3c0HwnZxmFw",
        "outputId": "277e9b2e-b4d1-448a-928d-6180fe670f35"
      },
      "execution_count": 4,
      "outputs": [
        {
          "output_type": "stream",
          "name": "stdout",
          "text": [
            "\n",
            "DataFrame lido de 'clientes.csv':\n",
            "    id   nome  idade  renda\n",
            "0   1  Maria     30   5000\n",
            "1   2   João     25   3500\n",
            "2   3    Ana     35   7000\n",
            "3   4  Pedro     40   6000\n"
          ]
        }
      ]
    },
    {
      "cell_type": "code",
      "source": [
        "# Verificando as primeiras linhas (muito útil para datasets grandes)\n",
        "print(\"\\nPrimeiras 2 linhas (head):\\n\", df_clientes.head(2))\n",
        "# Saída:\n",
        "# Primeiras 2 linhas (head):\n",
        "#    id   nome  idade  renda\n",
        "# 0   1  Maria     30   5000\n",
        "# 1   2   João     25   3500"
      ],
      "metadata": {
        "colab": {
          "base_uri": "https://localhost:8080/"
        },
        "id": "X0llRSZ7xvFo",
        "outputId": "5fa4401c-4ce0-4f5e-9e33-c982fd9c81ac"
      },
      "execution_count": 5,
      "outputs": [
        {
          "output_type": "stream",
          "name": "stdout",
          "text": [
            "\n",
            "Primeiras 2 linhas (head):\n",
            "    id   nome  idade  renda\n",
            "0   1  Maria     30   5000\n",
            "1   2   João     25   3500\n"
          ]
        }
      ]
    },
    {
      "cell_type": "code",
      "source": [
        "# Verificando as últimas linhas\n",
        "print(\"\\nÚltimas 2 linhas (tail):\\n\", df_clientes.tail(2))\n",
        "# Saída:\n",
        "# Últimas 2 linhas (tail):\n",
        "#    id   nome  idade  renda\n",
        "# 2   3    Ana     35   7000\n",
        "# 3   4  Pedro     40   6000"
      ],
      "metadata": {
        "colab": {
          "base_uri": "https://localhost:8080/"
        },
        "id": "mw8gmMIhx5ZI",
        "outputId": "75ce4c63-40ba-437c-8018-64ea6ae6aafb"
      },
      "execution_count": 6,
      "outputs": [
        {
          "output_type": "stream",
          "name": "stdout",
          "text": [
            "\n",
            "Últimas 2 linhas (tail):\n",
            "    id   nome  idade  renda\n",
            "2   3    Ana     35   7000\n",
            "3   4  Pedro     40   6000\n"
          ]
        }
      ]
    },
    {
      "cell_type": "code",
      "source": [
        "# Informações gerais sobre o DataFrame\n",
        "print(\"\\nInformações do DataFrame (info()):\")\n",
        "df_clientes.info()\n",
        "# Saída (exemplo parcial):\n",
        "# <class 'pandas.core.frame.DataFrame'>\n",
        "# RangeIndex: 4 entries, 0 to 3\n",
        "# Data columns (total 4 columns):\n",
        "#  #   Column  Non-Null Count  Dtype\n",
        "# ---  ------  --------------  -----\n",
        "#  0   id      4 non-null      int64\n",
        "#  1   nome    4 non-null      object\n",
        "#  2   idade   4 non-null      int64\n",
        "#  3   renda   4 non-null      int64\n",
        "# dtypes: int64(3), object(1)\n",
        "# memory usage: 200.0+ bytes"
      ],
      "metadata": {
        "colab": {
          "base_uri": "https://localhost:8080/"
        },
        "id": "STMQS8UCyHDX",
        "outputId": "822b10ee-e8ca-413e-e312-5631d22e6ad2"
      },
      "execution_count": 7,
      "outputs": [
        {
          "output_type": "stream",
          "name": "stdout",
          "text": [
            "\n",
            "Informações do DataFrame (info()):\n",
            "<class 'pandas.core.frame.DataFrame'>\n",
            "RangeIndex: 4 entries, 0 to 3\n",
            "Data columns (total 4 columns):\n",
            " #   Column  Non-Null Count  Dtype \n",
            "---  ------  --------------  ----- \n",
            " 0   id      4 non-null      int64 \n",
            " 1   nome    4 non-null      object\n",
            " 2   idade   4 non-null      int64 \n",
            " 3   renda   4 non-null      int64 \n",
            "dtypes: int64(3), object(1)\n",
            "memory usage: 260.0+ bytes\n"
          ]
        }
      ]
    },
    {
      "cell_type": "code",
      "source": [
        "# Estatísticas descritivas básicas (apenas para colunas numéricas)\n",
        "print(\"\\nEstatísticas descritivas (describe()):\\n\", df_clientes.describe())\n",
        "# Saída (exemplo parcial):\n",
        "# Estatísticas descritivas (describe()):\n",
        "#           id      idade        renda\n",
        "# count  4.000000   4.000000     4.000000\n",
        "# mean   2.500000  32.500000  5375.000000\n",
        "# std    1.290994   6.291529  1599.043468\n",
        "# min    1.000000  25.000000  3500.000000\n",
        "# ..."
      ],
      "metadata": {
        "colab": {
          "base_uri": "https://localhost:8080/"
        },
        "id": "pKHlLll0yLOn",
        "outputId": "9ecd0010-190a-403b-dc27-ba25ddad5d6f"
      },
      "execution_count": 8,
      "outputs": [
        {
          "output_type": "stream",
          "name": "stdout",
          "text": [
            "\n",
            "Estatísticas descritivas (describe()):\n",
            "              id      idade        renda\n",
            "count  4.000000   4.000000     4.000000\n",
            "mean   2.500000  32.500000  5375.000000\n",
            "std    1.290994   6.454972  1493.039406\n",
            "min    1.000000  25.000000  3500.000000\n",
            "25%    1.750000  28.750000  4625.000000\n",
            "50%    2.500000  32.500000  5500.000000\n",
            "75%    3.250000  36.250000  6250.000000\n",
            "max    4.000000  40.000000  7000.000000\n"
          ]
        }
      ]
    },
    {
      "cell_type": "markdown",
      "source": [
        "Selecionando Colunas"
      ],
      "metadata": {
        "id": "v5CY-DUcyRw_"
      }
    },
    {
      "cell_type": "code",
      "source": [
        "# Selecionar uma única coluna (retorna uma Series)\n",
        "nomes = df_clientes['nome']\n",
        "print(\"\\nColuna 'nome' (Series):\\n\", nomes)\n",
        "# Saída:\n",
        "# Coluna 'nome' (Series):\n",
        "# 0    Maria\n",
        "# 1     João\n",
        "# 2      Ana\n",
        "# 3    Pedro\n",
        "# Name: nome, dtype: object\n",
        "\n",
        "# Selecionar múltiplas colunas (retorna um DataFrame)\n",
        "colunas_selecionadas = df_clientes[['nome', 'renda']]\n",
        "print(\"\\nColunas 'nome' e 'renda' (DataFrame):\\n\", colunas_selecionadas)\n",
        "# Saída:\n",
        "# Colunas 'nome' e 'renda' (DataFrame):\n",
        "#     nome  renda\n",
        "# 0  Maria   5000\n",
        "# 1   João   3500\n",
        "# 2    Ana   7000\n",
        "# 3  Pedro   6000"
      ],
      "metadata": {
        "colab": {
          "base_uri": "https://localhost:8080/"
        },
        "id": "0pXKyYOwyUhP",
        "outputId": "d789371f-0cd2-4e0a-9a8c-b51538b89303"
      },
      "execution_count": 9,
      "outputs": [
        {
          "output_type": "stream",
          "name": "stdout",
          "text": [
            "\n",
            "Coluna 'nome' (Series):\n",
            " 0    Maria\n",
            "1     João\n",
            "2      Ana\n",
            "3    Pedro\n",
            "Name: nome, dtype: object\n",
            "\n",
            "Colunas 'nome' e 'renda' (DataFrame):\n",
            "     nome  renda\n",
            "0  Maria   5000\n",
            "1   João   3500\n",
            "2    Ana   7000\n",
            "3  Pedro   6000\n"
          ]
        }
      ]
    },
    {
      "cell_type": "markdown",
      "source": [
        "Selecionando Linhas (.loc e .iloc)"
      ],
      "metadata": {
        "id": "blV5sLtRybcX"
      }
    },
    {
      "cell_type": "code",
      "source": [
        "# Usando .loc (baseado em rótulos)\n",
        "df_custom_index = pd.DataFrame(dados, index=['P1', 'P2', 'P3', 'P4'])\n",
        "print(\"\\nDataFrame com índice customizado:\\n\", df_custom_index)"
      ],
      "metadata": {
        "colab": {
          "base_uri": "https://localhost:8080/"
        },
        "id": "Mo-bmsTOycBP",
        "outputId": "b870e5bd-2d55-4e57-ad66-0fdfdd295aed"
      },
      "execution_count": 10,
      "outputs": [
        {
          "output_type": "stream",
          "name": "stdout",
          "text": [
            "\n",
            "DataFrame com índice customizado:\n",
            "       Nome  Idade          Cidade\n",
            "P1   Alice     25       São Paulo\n",
            "P2     Bob     30  Rio de Janeiro\n",
            "P3  Carlos     22  Belo Horizonte\n",
            "P4   Diana     28       São Paulo\n"
          ]
        }
      ]
    },
    {
      "cell_type": "code",
      "source": [
        "# Selecionar linha pelo rótulo do índice\n",
        "linha_p2 = df_custom_index.loc['P2']\n",
        "print(\"\\nLinha 'P2' com .loc:\\n\", linha_p2)\n",
        "# Saída:\n",
        "# Linha 'P2' com .loc:\n",
        "# Nome        Bob\n",
        "# Idade        30\n",
        "# Cidade    Rio de Janeiro\n",
        "# Name: P2, dtype: object"
      ],
      "metadata": {
        "colab": {
          "base_uri": "https://localhost:8080/"
        },
        "id": "9BCHaGILyrlf",
        "outputId": "9edbe97f-62d9-4546-8357-c26ce7787a7a"
      },
      "execution_count": 11,
      "outputs": [
        {
          "output_type": "stream",
          "name": "stdout",
          "text": [
            "\n",
            "Linha 'P2' com .loc:\n",
            " Nome                 Bob\n",
            "Idade                 30\n",
            "Cidade    Rio de Janeiro\n",
            "Name: P2, dtype: object\n"
          ]
        }
      ]
    },
    {
      "cell_type": "code",
      "source": [
        "# Selecionar linha e coluna específicas por rótulo\n",
        "idade_p3 = df_custom_index.loc['P3', 'Idade']\n",
        "print(f\"Idade de P3 (usando .loc): {idade_p3}\") # Saída: Idade de P3 (usando .loc): 22"
      ],
      "metadata": {
        "colab": {
          "base_uri": "https://localhost:8080/"
        },
        "id": "CUIMZ_-Oy2Bn",
        "outputId": "3fac942a-7052-41a5-df48-b0b17ce4bea5"
      },
      "execution_count": 12,
      "outputs": [
        {
          "output_type": "stream",
          "name": "stdout",
          "text": [
            "Idade de P3 (usando .loc): 22\n"
          ]
        }
      ]
    },
    {
      "cell_type": "code",
      "source": [
        "# Fatiamento de linhas e seleção de colunas por rótulo\n",
        "intervalo_linhas_colunas = df_custom_index.loc['P1':'P3', ['Nome', 'Idade']]\n",
        "print(\"\\nFatiamento com .loc (linhas P1 a P3, colunas Nome e Idade):\\n\", intervalo_linhas_colunas)\n",
        "\n",
        "# Saída:\n",
        "# Fatiamento com .loc (linhas P1 a P3, colunas Nome e Idade):\n",
        "#    Nome  Idade\n",
        "# P1  Alice     25\n",
        "# P2    Bob     30\n",
        "# P3 Carlos     22"
      ],
      "metadata": {
        "colab": {
          "base_uri": "https://localhost:8080/"
        },
        "id": "Og6D0ptny9hQ",
        "outputId": "f624de36-b5ab-417e-9dad-7a5666bb9c22"
      },
      "execution_count": 13,
      "outputs": [
        {
          "output_type": "stream",
          "name": "stdout",
          "text": [
            "\n",
            "Fatiamento com .loc (linhas P1 a P3, colunas Nome e Idade):\n",
            "       Nome  Idade\n",
            "P1   Alice     25\n",
            "P2     Bob     30\n",
            "P3  Carlos     22\n"
          ]
        }
      ]
    },
    {
      "cell_type": "code",
      "source": [
        "# Usando .iloc (baseado em posição inteira)\n",
        "print(\"\\nDataFrame original (df_pessoas):\\n\", df_pessoas)\n",
        "\n",
        "# Selecionar a primeira linha (índice 0)\n",
        "primeira_linha = df_pessoas.iloc[0]\n",
        "print(\"\\nPrimeira linha com .iloc:\\n\", primeira_linha)\n",
        "# Saída:\n",
        "# Primeira linha com .iloc:\n",
        "# Nome       Alice\n",
        "# Idade         25\n",
        "# Cidade    São Paulo\n",
        "# Name: 0, dtype: object"
      ],
      "metadata": {
        "colab": {
          "base_uri": "https://localhost:8080/"
        },
        "id": "q6wG5I0qzLrO",
        "outputId": "15b62d03-8952-4059-e4c2-9b475d6db902"
      },
      "execution_count": 14,
      "outputs": [
        {
          "output_type": "stream",
          "name": "stdout",
          "text": [
            "\n",
            "DataFrame original (df_pessoas):\n",
            "      Nome  Idade          Cidade\n",
            "0   Alice     25       São Paulo\n",
            "1     Bob     30  Rio de Janeiro\n",
            "2  Carlos     22  Belo Horizonte\n",
            "3   Diana     28       São Paulo\n",
            "\n",
            "Primeira linha com .iloc:\n",
            " Nome          Alice\n",
            "Idade            25\n",
            "Cidade    São Paulo\n",
            "Name: 0, dtype: object\n"
          ]
        }
      ]
    },
    {
      "cell_type": "code",
      "source": [
        "# Selecionar elemento na posição [linha 1, coluna 2]\n",
        "elemento = df_pessoas.iloc[1, 2]\n",
        "print(f\"Elemento na linha 1, coluna 2 (usando .iloc): {elemento}\") # Saída: Elemento na linha 1, coluna 2 (usando .iloc): Rio de Janeiro"
      ],
      "metadata": {
        "colab": {
          "base_uri": "https://localhost:8080/"
        },
        "id": "HTKhapmczSvn",
        "outputId": "d9b2a4a4-ff6f-4277-c53d-35245f299132"
      },
      "execution_count": 15,
      "outputs": [
        {
          "output_type": "stream",
          "name": "stdout",
          "text": [
            "Elemento na linha 1, coluna 2 (usando .iloc): Rio de Janeiro\n"
          ]
        }
      ]
    },
    {
      "cell_type": "code",
      "source": [
        "# Fatiamento de linhas e colunas por posição\n",
        "sub_df = df_pessoas.iloc[0:2, 0:2] # Linhas 0 e 1, Colunas 0 e 1\n",
        "print(\"\\nSub-DataFrame com .iloc (linhas 0-1, colunas 0-1):\\n\", sub_df)\n",
        "# Saída:\n",
        "# Sub-DataFrame com .iloc (linhas 0-1, colunas 0-1):\n",
        "#     Nome  Idade\n",
        "# 0  Alice     25\n",
        "# 1    Bob     30"
      ],
      "metadata": {
        "colab": {
          "base_uri": "https://localhost:8080/"
        },
        "id": "bLoF11bvzV22",
        "outputId": "86e726f2-4d47-430e-a840-038504d9c4eb"
      },
      "execution_count": 16,
      "outputs": [
        {
          "output_type": "stream",
          "name": "stdout",
          "text": [
            "\n",
            "Sub-DataFrame com .iloc (linhas 0-1, colunas 0-1):\n",
            "     Nome  Idade\n",
            "0  Alice     25\n",
            "1    Bob     30\n"
          ]
        }
      ]
    },
    {
      "cell_type": "markdown",
      "source": [
        "Filtragem Condicional"
      ],
      "metadata": {
        "id": "U5YMr97ozaIW"
      }
    },
    {
      "cell_type": "code",
      "source": [
        "# Filtrar pessoas com idade maior que 25\n",
        "pessoas_maiores_25 = df_pessoas[df_pessoas['Idade'] > 25]\n",
        "print(\"\\nPessoas com idade > 25:\\n\", pessoas_maiores_25)\n",
        "# Saída:\n",
        "# Pessoas com idade > 25:\n",
        "#      Nome  Idade          Cidade\n",
        "# 1     Bob     30  Rio de Janeiro\n",
        "# 3   Diana     28       São Paulo"
      ],
      "metadata": {
        "colab": {
          "base_uri": "https://localhost:8080/"
        },
        "id": "1RAOcSL4zZcu",
        "outputId": "738343f2-e17d-4395-9975-2ddcb4be00ae"
      },
      "execution_count": 17,
      "outputs": [
        {
          "output_type": "stream",
          "name": "stdout",
          "text": [
            "\n",
            "Pessoas com idade > 25:\n",
            "     Nome  Idade          Cidade\n",
            "1    Bob     30  Rio de Janeiro\n",
            "3  Diana     28       São Paulo\n"
          ]
        }
      ]
    },
    {
      "cell_type": "code",
      "source": [
        "# Filtrar pessoas de \"São Paulo\"\n",
        "pessoas_sp = df_pessoas[df_pessoas['Cidade'] == 'São Paulo']\n",
        "print(\"\\nPessoas de São Paulo:\\n\", pessoas_sp)\n",
        "# Saída:\n",
        "# Pessoas de São Paulo:\n",
        "#      Nome  Idade     Cidade\n",
        "# 0   Alice     25  São Paulo\n",
        "# 3   Diana     28  São Paulo"
      ],
      "metadata": {
        "colab": {
          "base_uri": "https://localhost:8080/"
        },
        "id": "S3TcHYq6zyDW",
        "outputId": "073bc753-eaa3-4da6-a657-de34d1562117"
      },
      "execution_count": 18,
      "outputs": [
        {
          "output_type": "stream",
          "name": "stdout",
          "text": [
            "\n",
            "Pessoas de São Paulo:\n",
            "     Nome  Idade     Cidade\n",
            "0  Alice     25  São Paulo\n",
            "3  Diana     28  São Paulo\n"
          ]
        }
      ]
    },
    {
      "cell_type": "code",
      "source": [
        "# Combinar múltiplas condições (use parênteses para cada condição)\n",
        "# Pessoas de São Paulo E com idade maior que 25\n",
        "condicao_composta = (df_pessoas['Cidade'] == 'São Paulo') & (df_pessoas['Idade'] > 25)\n",
        "pessoas_sp_mais_velhas = df_pessoas[condicao_composta]\n",
        "print(\"\\nPessoas de São Paulo com idade > 25:\\n\", pessoas_sp_mais_velhas)\n",
        "# Saída:\n",
        "# Pessoas de São Paulo com idade > 25:\n",
        "#     Nome  Idade     Cidade\n",
        "# 3  Diana     28  São Paulo"
      ],
      "metadata": {
        "colab": {
          "base_uri": "https://localhost:8080/"
        },
        "id": "YxhUrxHRz7ve",
        "outputId": "94ad3246-02b4-4452-b102-c31f90c955d1"
      },
      "execution_count": 19,
      "outputs": [
        {
          "output_type": "stream",
          "name": "stdout",
          "text": [
            "\n",
            "Pessoas de São Paulo com idade > 25:\n",
            "     Nome  Idade     Cidade\n",
            "3  Diana     28  São Paulo\n"
          ]
        }
      ]
    },
    {
      "cell_type": "code",
      "source": [
        "# Operador OR (|)\n",
        "condicao_or = (df_pessoas['Cidade'] == 'São Paulo') | (df_pessoas['Idade'] < 25)\n",
        "pessoas_sp_ou_jovens = df_pessoas[condicao_or]\n",
        "print(\"\\nPessoas de São Paulo OU com idade < 25:\\n\", pessoas_sp_ou_jovens)\n",
        "\n",
        "# Saída:\n",
        "# Pessoas de São Paulo OU com idade < 25:\n",
        "#      Nome  Idade          Cidade\n",
        "# 0   Alice     25       São Paulo\n",
        "# 2  Carlos     22  Belo Horizonte\n",
        "# 3   Diana     28       São Paulo"
      ],
      "metadata": {
        "colab": {
          "base_uri": "https://localhost:8080/"
        },
        "id": "jplJ7V01z_gt",
        "outputId": "9a090982-129b-4511-997a-a4dafb5b7da7"
      },
      "execution_count": 20,
      "outputs": [
        {
          "output_type": "stream",
          "name": "stdout",
          "text": [
            "\n",
            "Pessoas de São Paulo OU com idade < 25:\n",
            "      Nome  Idade          Cidade\n",
            "0   Alice     25       São Paulo\n",
            "2  Carlos     22  Belo Horizonte\n",
            "3   Diana     28       São Paulo\n"
          ]
        }
      ]
    },
    {
      "cell_type": "markdown",
      "source": [
        "Adicionar/Modificar Colunas"
      ],
      "metadata": {
        "id": "vW-UxFB20HnG"
      }
    },
    {
      "cell_type": "code",
      "source": [
        "# Adicionar uma nova coluna\n",
        "df_pessoas['Status'] = 'Ativo'\n",
        "print(\"\\nDataFrame com coluna 'Status' adicionada:\\n\", df_pessoas)\n",
        "# Saída:\n",
        "# DataFrame com coluna 'Status' adicionada:\n",
        "#      Nome  Idade          Cidade  Status\n",
        "# 0   Alice     25       São Paulo  Ativo\n",
        "# 1     Bob     30  Rio de Janeiro  Ativo\n",
        "# 2  Carlos     22  Belo Horizonte  Ativo\n",
        "# 3   Diana     28       São Paulo  Ativo\n",
        "\n",
        "# Modificar uma coluna existente\n",
        "df_pessoas['Idade'] = df_pessoas['Idade'] + 1 # Aumentar a idade de todos em 1 ano\n",
        "print(\"\\nDataFrame com idades incrementadas:\\n\", df_pessoas)\n",
        "# Saída:\n",
        "\n",
        "# DataFrame com idades incrementadas:\n",
        "#      Nome  Idade          Cidade  Status\n",
        "# 0   Alice     26       São Paulo  Ativo\n",
        "# 1     Bob     31  Rio de Janeiro  Ativo\n",
        "# 2  Carlos     23  Belo Horizonte  Ativo\n",
        "# 3   Diana     29       São Paulo  Ativo\n",
        "\n",
        "# Adicionar uma coluna baseada em outras colunas (ex: idade em dias)\n",
        "df_pessoas['Idade_Dias'] = df_pessoas['Idade'] * 365\n",
        "print(\"\\nDataFrame com 'Idade_Dias':\\n\", df_pessoas)\n",
        "# Saída:\n",
        "# DataFrame com 'Idade_Dias':\n",
        "#      Nome  Idade          Cidade  Status  Idade_Dias\n",
        "# 0   Alice     26       São Paulo  Ativo        9490\n",
        "# 1     Bob     31  Rio de Janeiro  Ativo       11315\n",
        "# 2  Carlos     23  Belo Horizonte  Ativo        8395\n",
        "# 3   Diana     29       São Paulo  Ativo       10585"
      ],
      "metadata": {
        "colab": {
          "base_uri": "https://localhost:8080/"
        },
        "id": "3OhfVN040IMP",
        "outputId": "84b5a0e7-2e13-4eab-8757-c408d7799b27"
      },
      "execution_count": 21,
      "outputs": [
        {
          "output_type": "stream",
          "name": "stdout",
          "text": [
            "\n",
            "DataFrame com coluna 'Status' adicionada:\n",
            "      Nome  Idade          Cidade Status\n",
            "0   Alice     25       São Paulo  Ativo\n",
            "1     Bob     30  Rio de Janeiro  Ativo\n",
            "2  Carlos     22  Belo Horizonte  Ativo\n",
            "3   Diana     28       São Paulo  Ativo\n",
            "\n",
            "DataFrame com idades incrementadas:\n",
            "      Nome  Idade          Cidade Status\n",
            "0   Alice     26       São Paulo  Ativo\n",
            "1     Bob     31  Rio de Janeiro  Ativo\n",
            "2  Carlos     23  Belo Horizonte  Ativo\n",
            "3   Diana     29       São Paulo  Ativo\n",
            "\n",
            "DataFrame com 'Idade_Dias':\n",
            "      Nome  Idade          Cidade Status  Idade_Dias\n",
            "0   Alice     26       São Paulo  Ativo        9490\n",
            "1     Bob     31  Rio de Janeiro  Ativo       11315\n",
            "2  Carlos     23  Belo Horizonte  Ativo        8395\n",
            "3   Diana     29       São Paulo  Ativo       10585\n"
          ]
        }
      ]
    },
    {
      "cell_type": "markdown",
      "source": [
        "Remover Colunas/Linhas"
      ],
      "metadata": {
        "id": "qnTqMGER0OU-"
      }
    },
    {
      "cell_type": "code",
      "source": [
        "# Remover uma coluna (axis=1 indica coluna, inplace=False retorna uma cópia)\n",
        "df_sem_status = df_pessoas.drop('Status', axis=1)\n",
        "print(\"\\nDataFrame sem a coluna 'Status':\\n\", df_sem_status)\n",
        "# Saída:\n",
        "# DataFrame sem a coluna 'Status':\n",
        "#      Nome  Idade          Cidade  Idade_Dias\n",
        "# 0   Alice     26       São Paulo        9490\n",
        "# 1     Bob     31  Rio de Janeiro       11315\n",
        "# 2  Carlos     23  Belo Horizonte        8395\n",
        "# 3   Diana     29       São Paulo       10585\n",
        "\n",
        "# Remover linhas por índice (axis=0 indica linha)\n",
        "df_sem_primeira_linha = df_pessoas.drop(0, axis=0) # Remove a linha com índice 0\n",
        "print(\"\\nDataFrame sem a primeira linha:\\n\", df_sem_primeira_linha)\n",
        "# Saída:\n",
        "# DataFrame sem a primeira linha:\n",
        "#      Nome  Idade          Cidade  Status  Idade_Dias\n",
        "# 1     Bob     31  Rio de Janeiro  Ativo       11315\n",
        "# 2  Carlos     23  Belo Horizonte  Ativo        8395\n",
        "# 3   Diana     29       São Paulo  Ativo       10585"
      ],
      "metadata": {
        "colab": {
          "base_uri": "https://localhost:8080/"
        },
        "id": "IYPGADsW0RJ1",
        "outputId": "b64dd795-f68a-4dd6-95b4-063ae79df8a2"
      },
      "execution_count": 22,
      "outputs": [
        {
          "output_type": "stream",
          "name": "stdout",
          "text": [
            "\n",
            "DataFrame sem a coluna 'Status':\n",
            "      Nome  Idade          Cidade  Idade_Dias\n",
            "0   Alice     26       São Paulo        9490\n",
            "1     Bob     31  Rio de Janeiro       11315\n",
            "2  Carlos     23  Belo Horizonte        8395\n",
            "3   Diana     29       São Paulo       10585\n",
            "\n",
            "DataFrame sem a primeira linha:\n",
            "      Nome  Idade          Cidade Status  Idade_Dias\n",
            "1     Bob     31  Rio de Janeiro  Ativo       11315\n",
            "2  Carlos     23  Belo Horizonte  Ativo        8395\n",
            "3   Diana     29       São Paulo  Ativo       10585\n"
          ]
        }
      ]
    },
    {
      "cell_type": "markdown",
      "source": [
        "Valores Ausentes (NaN)"
      ],
      "metadata": {
        "id": "nkAnuRL60VnV"
      }
    },
    {
      "cell_type": "code",
      "source": [
        "# Criando um DataFrame com valores ausentes\n",
        "df_missing = pd.DataFrame({\n",
        "    'A': [1, 2, np.nan, 4],\n",
        "    'B': [5, np.nan, 7, 8],\n",
        "    'C': [9, 10, 11, np.nan]\n",
        "})\n",
        "print(\"\\nDataFrame com valores ausentes:\\n\", df_missing)\n",
        "\n",
        "# Saída:\n",
        "# DataFrame com valores ausentes:\n",
        "#      A    B     C\n",
        "# 0  1.0  5.0   9.0\n",
        "# 1  2.0  NaN  10.0\n",
        "# 2  NaN  7.0  11.0\n",
        "# 3  4.0  8.0   NaN"
      ],
      "metadata": {
        "colab": {
          "base_uri": "https://localhost:8080/"
        },
        "id": "kCqtMkSJ0XEO",
        "outputId": "6af531e2-183e-4e93-bb4d-a5ed0e26a467"
      },
      "execution_count": 23,
      "outputs": [
        {
          "output_type": "stream",
          "name": "stdout",
          "text": [
            "\n",
            "DataFrame com valores ausentes:\n",
            "      A    B     C\n",
            "0  1.0  5.0   9.0\n",
            "1  2.0  NaN  10.0\n",
            "2  NaN  7.0  11.0\n",
            "3  4.0  8.0   NaN\n"
          ]
        }
      ]
    },
    {
      "cell_type": "code",
      "source": [
        "# Verificar valores ausentes (retorna um DataFrame booleano)\n",
        "print(\"\\nVerificando valores ausentes (isnull()):\\n\", df_missing.isnull())\n",
        "# Saída:\n",
        "# Verificando valores ausentes (isnull()):\n",
        "#        A      B      C\n",
        "# 0  False  False  False\n",
        "# 1  False   True  False\n",
        "# 2   True  False  False\n",
        "# 3  False  False   True"
      ],
      "metadata": {
        "colab": {
          "base_uri": "https://localhost:8080/"
        },
        "id": "G7NKC9Jq0s_t",
        "outputId": "c6ec015e-b1c1-413e-d9d4-87aee12c4ee8"
      },
      "execution_count": 24,
      "outputs": [
        {
          "output_type": "stream",
          "name": "stdout",
          "text": [
            "\n",
            "Verificando valores ausentes (isnull()):\n",
            "        A      B      C\n",
            "0  False  False  False\n",
            "1  False   True  False\n",
            "2   True  False  False\n",
            "3  False  False   True\n"
          ]
        }
      ]
    },
    {
      "cell_type": "code",
      "source": [
        "# Contar valores ausentes por coluna\n",
        "print(\"\\nContagem de valores ausentes por coluna:\\n\", df_missing.isnull().sum())\n",
        "\n",
        "# Saída:\n",
        "# Contagem de valores ausentes por coluna:\n",
        "# A    1\n",
        "# B    1\n",
        "# C    1\n",
        "# dtype: int64"
      ],
      "metadata": {
        "colab": {
          "base_uri": "https://localhost:8080/"
        },
        "id": "UPL7U15O04GN",
        "outputId": "420f38f8-8962-4062-d9e2-117d9b22f881"
      },
      "execution_count": 27,
      "outputs": [
        {
          "output_type": "stream",
          "name": "stdout",
          "text": [
            "\n",
            "Contagem de valores ausentes por coluna:\n",
            " A    1\n",
            "B    1\n",
            "C    1\n",
            "dtype: int64\n"
          ]
        }
      ]
    },
    {
      "cell_type": "code",
      "source": [
        "# Remover linhas com valores ausentes (drop all rows with NaN)\n",
        "df_sem_nan_linhas = df_missing.dropna()\n",
        "print(\"\\nDataFrame após remover linhas com NaN (dropna()):\\n\", df_sem_nan_linhas)\n",
        "\n",
        "# Saída:\n",
        "# DataFrame após remover linhas com NaN (dropna()):\n",
        "#      A    B    C\n",
        "# 0  1.0  5.0  9.0"
      ],
      "metadata": {
        "colab": {
          "base_uri": "https://localhost:8080/"
        },
        "id": "kNgJXU_10-Cl",
        "outputId": "61bdbb29-8bac-4bac-ee25-30eff51dfe88"
      },
      "execution_count": 29,
      "outputs": [
        {
          "output_type": "stream",
          "name": "stdout",
          "text": [
            "\n",
            "DataFrame após remover linhas com NaN (dropna()):\n",
            "      A    B    C\n",
            "0  1.0  5.0  9.0\n"
          ]
        }
      ]
    },
    {
      "cell_type": "code",
      "source": [
        "# Preencher valores ausentes (fillna)\n",
        "df_preenchido = df_missing.fillna(0) # Preenche todos os NaN com 0\n",
        "print(\"\\nDataFrame após preencher NaN com 0 (fillna(0)):\\n\", df_preenchido)\n",
        "\n",
        "# Saída:\n",
        "# DataFrame após preencher NaN com 0 (fillna(0)):\n",
        "#      A    B     C\n",
        "# 0  1.0  5.0   9.0\n",
        "# 1  2.0  0.0  10.0\n",
        "# 2  0.0  7.0  11.0\n",
        "# 3  4.0  8.0   0.0"
      ],
      "metadata": {
        "colab": {
          "base_uri": "https://localhost:8080/"
        },
        "id": "YuSREQbe1Rg9",
        "outputId": "a273116c-db5b-4af4-80c5-92ff8c0bd39a"
      },
      "execution_count": 30,
      "outputs": [
        {
          "output_type": "stream",
          "name": "stdout",
          "text": [
            "\n",
            "DataFrame após preencher NaN com 0 (fillna(0)):\n",
            "      A    B     C\n",
            "0  1.0  5.0   9.0\n",
            "1  2.0  0.0  10.0\n",
            "2  0.0  7.0  11.0\n",
            "3  4.0  8.0   0.0\n"
          ]
        }
      ]
    },
    {
      "cell_type": "code",
      "source": [
        "# Preencher com a média da coluna (comum em análise de dados)\n",
        "df_preenchido_media = df_missing.fillna(df_missing.mean())\n",
        "print(\"\\nDataFrame após preencher NaN com a média da coluna:\\n\", df_preenchido_media)\n",
        "\n",
        "# Saída:\n",
        "# DataFrame após preencher NaN com a média da coluna:\n",
        "#          A    B          C\n",
        "# 0  1.000000  5.0   9.000000\n",
        "# 1  2.000000  NaN  10.000000\n",
        "# 2  2.333333  7.0  11.000000\n",
        "# 3  4.000000  8.0          NaN\n",
        "# (Note que o NaN em B ainda existe porque mean() para B é 6.666..., e o NaN em C também porque mean() para C é 10.0)\n",
        "\n",
        "# Vamos tentar um exemplo mais claro de preenchimento com média\n",
        "\n",
        "df_missing_2 = pd.DataFrame({'A': [1, 2, np.nan, 4], 'B': [5, np.nan, 7, 8]})\n",
        "df_preenchido_media_2 = df_missing_2.fillna(df_missing_2.mean())\n",
        "print(\"\\nDataFrame com preenchimento da média por coluna (exemplo 2):\\n\", df_preenchido_media_2)\n",
        "\n",
        "# Saída:\n",
        "# DataFrame com preenchimento da média por coluna (exemplo 2):\n",
        "#          A         B\n",
        "# 0  1.000000  5.000000\n",
        "# 1  2.000000  6.666667\n",
        "# 2  2.333333  7.000000\n",
        "# 3  4.000000  8.000000"
      ],
      "metadata": {
        "colab": {
          "base_uri": "https://localhost:8080/"
        },
        "id": "sjMRkxxe1aDE",
        "outputId": "7434dcb6-4b90-4cff-82c6-9f074c3b5fb3"
      },
      "execution_count": 32,
      "outputs": [
        {
          "output_type": "stream",
          "name": "stdout",
          "text": [
            "\n",
            "DataFrame após preencher NaN com a média da coluna:\n",
            "           A         B     C\n",
            "0  1.000000  5.000000   9.0\n",
            "1  2.000000  6.666667  10.0\n",
            "2  2.333333  7.000000  11.0\n",
            "3  4.000000  8.000000  10.0\n",
            "\n",
            "DataFrame com preenchimento da média por coluna (exemplo 2):\n",
            "           A         B\n",
            "0  1.000000  5.000000\n",
            "1  2.000000  6.666667\n",
            "2  2.333333  7.000000\n",
            "3  4.000000  8.000000\n"
          ]
        }
      ]
    },
    {
      "cell_type": "markdown",
      "source": [
        "Agrupamento (groupby) e Agregação"
      ],
      "metadata": {
        "id": "T0nFCm251leN"
      }
    },
    {
      "cell_type": "code",
      "source": [
        "dados_vendas = {\n",
        "    'Produto': ['A', 'B', 'A', 'C', 'B', 'A', 'C'],\n",
        "    'Vendedor': ['João', 'Maria', 'João', 'Maria', 'Pedro', 'Ana', 'João'],\n",
        "    'Valor': [100, 150, 200, 50, 120, 300, 80]\n",
        "}\n",
        "\n",
        "df_vendas = pd.DataFrame(dados_vendas)\n",
        "print(\"\\nDataFrame de Vendas:\\n\", df_vendas)\n",
        "\n",
        "# Saída:\n",
        "# DataFrame de Vendas:\n",
        "#   Produto Vendedor  Valor\n",
        "# 0       A     João    100\n",
        "# 1       B    Maria    150\n",
        "# 2       A     João    200\n",
        "# 3       C    Maria     50\n",
        "# 4       B    Pedro    120\n",
        "# 5       A      Ana    300\n",
        "# 6       C     João     80"
      ],
      "metadata": {
        "colab": {
          "base_uri": "https://localhost:8080/"
        },
        "id": "7EPezmhb1oD0",
        "outputId": "7c1d3105-db31-41b0-8801-22e9bb97f47b"
      },
      "execution_count": 33,
      "outputs": [
        {
          "output_type": "stream",
          "name": "stdout",
          "text": [
            "\n",
            "DataFrame de Vendas:\n",
            "   Produto Vendedor  Valor\n",
            "0       A     João    100\n",
            "1       B    Maria    150\n",
            "2       A     João    200\n",
            "3       C    Maria     50\n",
            "4       B    Pedro    120\n",
            "5       A      Ana    300\n",
            "6       C     João     80\n"
          ]
        }
      ]
    },
    {
      "cell_type": "code",
      "source": [
        "# Agrupar por 'Produto' e calcular a soma dos 'Valor'\n",
        "vendas_por_produto = df_vendas.groupby('Produto')['Valor'].sum()\n",
        "print(\"\\nVendas totais por produto:\\n\", vendas_por_produto)\n",
        "\n",
        "# Saída:\n",
        "# Vendas totais por produto:\n",
        "# Produto\n",
        "# A    600\n",
        "# B    270\n",
        "# C    130\n",
        "# Name: Valor, dtype: int64"
      ],
      "metadata": {
        "colab": {
          "base_uri": "https://localhost:8080/"
        },
        "id": "UlEdQ7ek17CU",
        "outputId": "d1b0af75-ad94-40b1-99b9-e03b50ff646a"
      },
      "execution_count": 34,
      "outputs": [
        {
          "output_type": "stream",
          "name": "stdout",
          "text": [
            "\n",
            "Vendas totais por produto:\n",
            " Produto\n",
            "A    600\n",
            "B    270\n",
            "C    130\n",
            "Name: Valor, dtype: int64\n"
          ]
        }
      ]
    },
    {
      "cell_type": "code",
      "source": [
        "# Agrupar por 'Vendedor' e calcular a média dos 'Valor'\n",
        "media_por_vendedor = df_vendas.groupby('Vendedor')['Valor'].mean()\n",
        "print(\"\\nMédia de vendas por vendedor:\\n\", media_por_vendedor)\n",
        "\n",
        "# Saída:\n",
        "# Média de vendas por vendedor:\n",
        "# Vendedor\n",
        "# Ana      300.0\n",
        "# João     193.333333\n",
        "# Maria    100.0\n",
        "# Pedro    120.0\n",
        "# Name: Valor, dtype: float64"
      ],
      "metadata": {
        "colab": {
          "base_uri": "https://localhost:8080/"
        },
        "id": "Cnf4n1e72H6U",
        "outputId": "67f0e851-566c-4405-98fa-7d2bc2739a81"
      },
      "execution_count": 35,
      "outputs": [
        {
          "output_type": "stream",
          "name": "stdout",
          "text": [
            "\n",
            "Média de vendas por vendedor:\n",
            " Vendedor\n",
            "Ana      300.000000\n",
            "João     126.666667\n",
            "Maria    100.000000\n",
            "Pedro    120.000000\n",
            "Name: Valor, dtype: float64\n"
          ]
        }
      ]
    },
    {
      "cell_type": "code",
      "source": [
        "# Agrupar por múltiplas colunas e aplicar várias agregações\n",
        "# Contagem de vendas e soma dos valores por Produto e Vendedor\n",
        "resumo_vendas = df_vendas.groupby(['Produto', 'Vendedor']).agg(\n",
        "    total_vendas=('Valor', 'sum'),\n",
        "    contagem_vendas=('Valor', 'count')\n",
        ")\n",
        "\n",
        "print(\"\\nResumo de vendas por produto e vendedor:\\n\", resumo_vendas)\n",
        "\n",
        "# Saída:\n",
        "# Resumo de vendas por produto e vendedor:\n",
        "#                    total_vendas  contagem_vendas\n",
        "# Produto Vendedor\n",
        "# A       Ana               300                1\n",
        "#         João              300                2\n",
        "# B       Maria             150                1\n",
        "#         Pedro             120                1\n",
        "# C       João               80                1\n",
        "#         Maria              50                1"
      ],
      "metadata": {
        "colab": {
          "base_uri": "https://localhost:8080/"
        },
        "id": "JMKbk7N-2Pas",
        "outputId": "9c7f0016-b1c9-4219-de86-efcf40cf07ae"
      },
      "execution_count": 36,
      "outputs": [
        {
          "output_type": "stream",
          "name": "stdout",
          "text": [
            "\n",
            "Resumo de vendas por produto e vendedor:\n",
            "                   total_vendas  contagem_vendas\n",
            "Produto Vendedor                               \n",
            "A       Ana                300                1\n",
            "        João               300                2\n",
            "B       Maria              150                1\n",
            "        Pedro              120                1\n",
            "C       João                80                1\n",
            "        Maria               50                1\n"
          ]
        }
      ]
    },
    {
      "cell_type": "markdown",
      "source": [
        "Gravar Dados em Arquivos"
      ],
      "metadata": {
        "id": "UAMvjO9A2d9d"
      }
    },
    {
      "cell_type": "code",
      "source": [
        "# Salvando o DataFrame de clientes modificado para um novo CSV\n",
        "df_pessoas.to_csv(\"pessoas_modificadas.csv\", index=False) # index=False para não salvar o índice do DataFrame como uma coluna\n",
        "print(\"\\nDataFrame salvo em 'pessoas_modificadas.csv'\")\n",
        "\n",
        "# Salvando o resumo de vendas para Excel\n",
        "resumo_vendas.to_excel(\"resumo_vendas.xlsx\", sheet_name='VendasAgrupadas')\n",
        "print(\"Resumo de vendas salvo em 'resumo_vendas.xlsx'\")"
      ],
      "metadata": {
        "colab": {
          "base_uri": "https://localhost:8080/"
        },
        "id": "WmlelRBT2iG0",
        "outputId": "d785e876-0ad7-47a5-e358-877020362f21"
      },
      "execution_count": 37,
      "outputs": [
        {
          "output_type": "stream",
          "name": "stdout",
          "text": [
            "\n",
            "DataFrame salvo em 'pessoas_modificadas.csv'\n",
            "Resumo de vendas salvo em 'resumo_vendas.xlsx'\n"
          ]
        }
      ]
    },
    {
      "cell_type": "markdown",
      "source": [
        "**Exercícios do Capítulo 11**\n",
        "\n",
        "1.\tCriação de DataFrame:\n",
        "o\tCrie um DataFrame chamado alunos com as seguintes colunas e dados:\n",
        "\tNome: ['Alice', 'Bruno', 'Carla', 'David', 'Eva']\n",
        "\tIdade: [20, 22, 21, 23, 20]\n",
        "\tCurso: ['Engenharia', 'Medicina', 'Direito', 'Engenharia', 'Medicina']\n",
        "\tNota_Final: [8.5, 7.0, 9.2, 6.8, 7.5]\n",
        "o\tImprima o DataFrame completo.\n",
        "2.\tSeleção e Filtragem:\n",
        "o\tSelecione e imprima apenas a coluna Nome.\n",
        "o\tSelecione e imprima as colunas Nome e Nota_Final.\n",
        "o\tFiltre e imprima os alunos que têm Idade igual a 20.\n",
        "o\tFiltre e imprima os alunos que estão no curso de 'Engenharia' e têm Nota_Final maior que 8.0.\n",
        "3.\tManipulação de Dados:\n",
        "o\tAdicione uma nova coluna ao DataFrame alunos chamada Status. Defina Status como 'Aprovado' se Nota_Final for maior ou igual a 7.0, e 'Reprovado' caso contrário. (Dica: você pode usar um loop com loc ou, de forma mais eficiente, np.where).\n",
        "o\tCalcule e imprima a média da Nota_Final de todos os alunos.\n",
        "4.\tAgrupamento e Agregação:\n",
        "o\tAgrupe o DataFrame alunos pelo Curso e calcule a média da Nota_Final para cada curso. Imprima o resultado.\n",
        "o\tAgrupe por Curso e Status, e conte quantos alunos estão em cada combinação. Imprima o resultado.\n",
        "5.\tValores Ausentes (Opcional - Avançado):\n",
        "o\tCrie uma cópia do seu DataFrame alunos. Aleatoriamente, substitua 2-3 valores de Nota_Final por np.nan (use np.random.choice para selecionar índices aleatórios, ou faça manualmente).\n",
        "o\tImprima o DataFrame com NaNs.\n",
        "o\tUse fillna() para preencher os valores NaN na coluna Nota_Final com a média da Nota_Final dos alunos (apenas os não-NaN). Imprima o DataFrame resultante.\n",
        "\n",
        "Parabéns! Você concluiu o terceiro módulo e deu um salto gigantesco na sua jornada em Data Science! Dominar o NumPy e, especialmente, o Pandas, é o que o capacita a manipular, explorar e preparar dados para qualquer análise ou modelo.\n",
        "No próximo módulo, vamos focar na visualização de dados com Matplotlib e Seaborn, transformando seus dados em insights visuais poderosos!"
      ],
      "metadata": {
        "id": "B-1qXOklcIQN"
      }
    },
    {
      "cell_type": "markdown",
      "source": [
        "Respostas dos Exercícios do Capítulo 11:"
      ],
      "metadata": {
        "id": "tAPbO_FIcrYM"
      }
    },
    {
      "cell_type": "code",
      "source": [
        "# Exercício 1:\n",
        "\n",
        "# Importações necessárias\n",
        "import pandas as pd\n",
        "import numpy as np\n",
        "\n",
        "# Criando os dados\n",
        "dados = {\n",
        "    'Nome': ['Alice', 'Bruno', 'Carla', 'David', 'Eva'],\n",
        "    'Idade': [20, 22, 21, 23, 20],\n",
        "    'Curso': ['Engenharia', 'Medicina', 'Direito', 'Engenharia', 'Medicina'],\n",
        "    'Nota_Final': [8.5, 7.0, 9.2, 6.8, 7.5]\n",
        "}\n",
        "\n",
        "# Criando o DataFrame\n",
        "alunos = pd.DataFrame(dados)\n",
        "\n",
        "# Imprimindo o DataFrame completo\n",
        "print(\"Exercício 1 — DataFrame completo:\")\n",
        "print(alunos)"
      ],
      "metadata": {
        "colab": {
          "base_uri": "https://localhost:8080/"
        },
        "id": "SIv-See13X97",
        "outputId": "8ecb2656-3823-4a1a-cb47-2613475b6652"
      },
      "execution_count": 38,
      "outputs": [
        {
          "output_type": "stream",
          "name": "stdout",
          "text": [
            "Exercício 1 — DataFrame completo:\n",
            "    Nome  Idade       Curso  Nota_Final\n",
            "0  Alice     20  Engenharia         8.5\n",
            "1  Bruno     22    Medicina         7.0\n",
            "2  Carla     21     Direito         9.2\n",
            "3  David     23  Engenharia         6.8\n",
            "4    Eva     20    Medicina         7.5\n"
          ]
        }
      ]
    },
    {
      "cell_type": "code",
      "source": [
        "# Exercício 2:\n",
        "\n",
        "# a) Selecionar e imprimir apenas a coluna Nome\n",
        "print(\"\\nExercício 2a — Coluna 'Nome':\")\n",
        "print(alunos['Nome'])\n",
        "\n",
        "# b) Selecionar e imprimir as colunas Nome e Nota_Final\n",
        "print(\"\\nExercício 2b — Colunas 'Nome' e 'Nota_Final':\")\n",
        "print(alunos[['Nome', 'Nota_Final']])\n",
        "\n",
        "# c) Filtrar e imprimir os alunos com idade igual a 20\n",
        "print(\"\\nExercício 2c — Alunos com idade == 20:\")\n",
        "print(alunos[alunos['Idade'] == 20])\n",
        "\n",
        "# d) Filtrar alunos do curso de Engenharia com nota final > 8.0\n",
        "filtro = (alunos['Curso'] == 'Engenharia') & (alunos['Nota_Final'] > 8.0)\n",
        "print(\"\\nExercício 2d — Engenharia com Nota > 8.0:\")\n",
        "print(alunos[filtro])"
      ],
      "metadata": {
        "colab": {
          "base_uri": "https://localhost:8080/"
        },
        "id": "jlZOAZmR3aoz",
        "outputId": "e60c325a-ca8e-4b2e-d3a3-c8634a858518"
      },
      "execution_count": 39,
      "outputs": [
        {
          "output_type": "stream",
          "name": "stdout",
          "text": [
            "\n",
            "Exercício 2a — Coluna 'Nome':\n",
            "0    Alice\n",
            "1    Bruno\n",
            "2    Carla\n",
            "3    David\n",
            "4      Eva\n",
            "Name: Nome, dtype: object\n",
            "\n",
            "Exercício 2b — Colunas 'Nome' e 'Nota_Final':\n",
            "    Nome  Nota_Final\n",
            "0  Alice         8.5\n",
            "1  Bruno         7.0\n",
            "2  Carla         9.2\n",
            "3  David         6.8\n",
            "4    Eva         7.5\n",
            "\n",
            "Exercício 2c — Alunos com idade == 20:\n",
            "    Nome  Idade       Curso  Nota_Final\n",
            "0  Alice     20  Engenharia         8.5\n",
            "4    Eva     20    Medicina         7.5\n",
            "\n",
            "Exercício 2d — Engenharia com Nota > 8.0:\n",
            "    Nome  Idade       Curso  Nota_Final\n",
            "0  Alice     20  Engenharia         8.5\n"
          ]
        }
      ]
    },
    {
      "cell_type": "code",
      "source": [
        "# Exercício 3:\n",
        "\n",
        "# a) Adicionar coluna 'Status' com base na Nota_Final\n",
        "alunos['Status'] = np.where(alunos['Nota_Final'] >= 7.0, 'Aprovado', 'Reprovado')\n",
        "\n",
        "print(\"\\nExercício 3a — DataFrame com nova coluna 'Status':\")\n",
        "print(alunos)\n",
        "\n",
        "# b) Calcular e imprimir a média da Nota_Final\n",
        "media_notas = alunos['Nota_Final'].mean()\n",
        "print(\"\\nExercício 3b — Média da Nota_Final dos alunos:\")\n",
        "print(media_notas)"
      ],
      "metadata": {
        "colab": {
          "base_uri": "https://localhost:8080/"
        },
        "id": "UF45aYTU3i2U",
        "outputId": "84815aec-cf6b-42ff-eb3e-1b6ed831b0cb"
      },
      "execution_count": 40,
      "outputs": [
        {
          "output_type": "stream",
          "name": "stdout",
          "text": [
            "\n",
            "Exercício 3a — DataFrame com nova coluna 'Status':\n",
            "    Nome  Idade       Curso  Nota_Final     Status\n",
            "0  Alice     20  Engenharia         8.5   Aprovado\n",
            "1  Bruno     22    Medicina         7.0   Aprovado\n",
            "2  Carla     21     Direito         9.2   Aprovado\n",
            "3  David     23  Engenharia         6.8  Reprovado\n",
            "4    Eva     20    Medicina         7.5   Aprovado\n",
            "\n",
            "Exercício 3b — Média da Nota_Final dos alunos:\n",
            "7.8\n"
          ]
        }
      ]
    },
    {
      "cell_type": "code",
      "source": [
        "# Exercício 4:\n",
        "\n",
        "# a) Agrupar por Curso e calcular média da Nota_Final\n",
        "media_por_curso = alunos.groupby('Curso')['Nota_Final'].mean()\n",
        "\n",
        "print(\"\\nExercício 4a — Média da Nota_Final por Curso:\")\n",
        "print(media_por_curso)\n",
        "\n",
        "# b) Agrupar por Curso e Status, contando alunos em cada grupo\n",
        "contagem = alunos.groupby(['Curso', 'Status'])['Nome'].count()\n",
        "\n",
        "print(\"\\nExercício 4b — Contagem por Curso e Status:\")\n",
        "print(contagem)"
      ],
      "metadata": {
        "colab": {
          "base_uri": "https://localhost:8080/"
        },
        "id": "jSpClbyQ3pBj",
        "outputId": "92e988b9-a097-4de6-ff45-efbeb8aa8ac4"
      },
      "execution_count": 41,
      "outputs": [
        {
          "output_type": "stream",
          "name": "stdout",
          "text": [
            "\n",
            "Exercício 4a — Média da Nota_Final por Curso:\n",
            "Curso\n",
            "Direito       9.20\n",
            "Engenharia    7.65\n",
            "Medicina      7.25\n",
            "Name: Nota_Final, dtype: float64\n",
            "\n",
            "Exercício 4b — Contagem por Curso e Status:\n",
            "Curso       Status   \n",
            "Direito     Aprovado     1\n",
            "Engenharia  Aprovado     1\n",
            "            Reprovado    1\n",
            "Medicina    Aprovado     2\n",
            "Name: Nome, dtype: int64\n"
          ]
        }
      ]
    },
    {
      "cell_type": "code",
      "source": [
        "# Exercício 5:\n",
        "\n",
        "# a) Criar cópia e inserir NaNs manualmente em Nota_Final\n",
        "alunos_nan = alunos.copy()\n",
        "alunos_nan.loc[1, 'Nota_Final'] = np.nan\n",
        "alunos_nan.loc[3, 'Nota_Final'] = np.nan\n",
        "\n",
        "print(\"\\nExercício 5a — DataFrame com valores ausentes:\")\n",
        "print(alunos_nan)\n",
        "\n",
        "# b) Preencher NaNs com a média dos valores válidos\n",
        "media_sem_nan = alunos_nan['Nota_Final'].mean(skipna=True)\n",
        "alunos_nan['Nota_Final'] = alunos_nan['Nota_Final'].fillna(media_sem_nan)\n",
        "\n",
        "print(\"\\nExercício 5b — DataFrame após preencher NaNs com a média:\")\n",
        "print(alunos_nan)"
      ],
      "metadata": {
        "colab": {
          "base_uri": "https://localhost:8080/"
        },
        "id": "rcWsyB_x3u97",
        "outputId": "4f951b93-4464-4442-bfbc-96460a0f3e01"
      },
      "execution_count": 42,
      "outputs": [
        {
          "output_type": "stream",
          "name": "stdout",
          "text": [
            "\n",
            "Exercício 5a — DataFrame com valores ausentes:\n",
            "    Nome  Idade       Curso  Nota_Final     Status\n",
            "0  Alice     20  Engenharia         8.5   Aprovado\n",
            "1  Bruno     22    Medicina         NaN   Aprovado\n",
            "2  Carla     21     Direito         9.2   Aprovado\n",
            "3  David     23  Engenharia         NaN  Reprovado\n",
            "4    Eva     20    Medicina         7.5   Aprovado\n",
            "\n",
            "Exercício 5b — DataFrame após preencher NaNs com a média:\n",
            "    Nome  Idade       Curso  Nota_Final     Status\n",
            "0  Alice     20  Engenharia         8.5   Aprovado\n",
            "1  Bruno     22    Medicina         8.4   Aprovado\n",
            "2  Carla     21     Direito         9.2   Aprovado\n",
            "3  David     23  Engenharia         8.4  Reprovado\n",
            "4    Eva     20    Medicina         7.5   Aprovado\n"
          ]
        }
      ]
    }
  ]
}