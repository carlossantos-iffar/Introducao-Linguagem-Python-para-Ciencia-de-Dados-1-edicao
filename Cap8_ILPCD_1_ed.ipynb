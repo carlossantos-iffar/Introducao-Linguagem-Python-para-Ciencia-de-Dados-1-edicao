{
  "nbformat": 4,
  "nbformat_minor": 0,
  "metadata": {
    "colab": {
      "provenance": []
    },
    "kernelspec": {
      "name": "python3",
      "display_name": "Python 3"
    },
    "language_info": {
      "name": "python"
    }
  },
  "cells": [
    {
      "cell_type": "markdown",
      "source": [
        "**Capítulo 8 – Tratamento de Exceções**"
      ],
      "metadata": {
        "id": "4Tohpu-zV4Fa"
      }
    },
    {
      "cell_type": "markdown",
      "source": [
        "_Este notebook contém todos os códigos de exemplo e soluções para os exercícios do Capítulo 8._"
      ],
      "metadata": {
        "id": "LW6frP1KWroi"
      }
    },
    {
      "cell_type": "markdown",
      "source": [
        "<table align=\"left\">\n",
        "  <td>\n",
        "    <a href=\"https://colab.research.google.com/drive/1xkDXitO0kg2cVgXXXJms6_ofqhFVfgkv?authuser=1#scrollTo=f4U4EAwnXQDZ\" target=\"_parent\"><img src=\"https://colab.research.google.com/assets/colab-badge.svg\" alt=\"Open In Colab\"/></a>\n",
        "  </td>\n",
        "</table>"
      ],
      "metadata": {
        "id": "yBJquUYkWvIh"
      }
    },
    {
      "cell_type": "markdown",
      "source": [
        "# Configuração"
      ],
      "metadata": {
        "id": "f4U4EAwnXQDZ"
      }
    },
    {
      "cell_type": "code",
      "source": [],
      "metadata": {
        "id": "u1HjhHybfLJG"
      },
      "execution_count": null,
      "outputs": []
    },
    {
      "cell_type": "markdown",
      "source": [
        "Este projeto requer Python 3.11 ou superior:"
      ],
      "metadata": {
        "id": "0Sl5DlgDXWQB"
      }
    },
    {
      "cell_type": "markdown",
      "source": [],
      "metadata": {
        "id": "LLj0un-WpoO2"
      }
    },
    {
      "cell_type": "code",
      "source": [
        "import sys\n",
        "\n",
        "assert sys.version_info >= (3, 11)"
      ],
      "metadata": {
        "id": "3SNbtY_UXdQp"
      },
      "execution_count": null,
      "outputs": []
    },
    {
      "cell_type": "code",
      "source": [
        "!python --version"
      ],
      "metadata": {
        "colab": {
          "base_uri": "https://localhost:8080/"
        },
        "id": "dT26LEsSZx1-",
        "outputId": "c048351d-1720-4233-9538-9a709308dd20"
      },
      "execution_count": null,
      "outputs": [
        {
          "output_type": "stream",
          "name": "stdout",
          "text": [
            "Python 3.11.13\n"
          ]
        }
      ]
    },
    {
      "cell_type": "markdown",
      "source": [
        "try-except Básico"
      ],
      "metadata": {
        "id": "T_XpPYwCoFZH"
      }
    },
    {
      "cell_type": "code",
      "source": [
        "try:\n",
        "    # Este código pode gerar um erro\n",
        "    numero = int(input(\"Digite um número inteiro: \"))\n",
        "    resultado = 10 / numero\n",
        "    print(f\"O resultado é: {resultado}\")\n",
        "except ValueError:\n",
        "    # Este bloco é executado se um ValueError ocorrer\n",
        "    print(\"Entrada inválida. Por favor, digite um número inteiro válido.\")\n",
        "except ZeroDivisionError:\n",
        "    # Este bloco é executado se um ZeroDivisionError ocorrer\n",
        "    print(\"Erro: Não é possível dividir por zero.\")"
      ],
      "metadata": {
        "colab": {
          "base_uri": "https://localhost:8080/"
        },
        "id": "DDXgncKDoKge",
        "outputId": "c029d525-00d9-4ab2-9490-2173124b26fd"
      },
      "execution_count": 2,
      "outputs": [
        {
          "output_type": "stream",
          "name": "stdout",
          "text": [
            "Digite um número inteiro: 0\n",
            "Erro: Não é possível dividir por zero.\n"
          ]
        }
      ]
    },
    {
      "cell_type": "markdown",
      "source": [
        "Capturando Múltiplas Exceções"
      ],
      "metadata": {
        "id": "okIJUzDgobVX"
      }
    },
    {
      "cell_type": "code",
      "source": [
        "try:\n",
        "    valor = int(input(\"Digite um valor: \"))\n",
        "    divisor = int(input(\"Digite um divisor: \"))\n",
        "    resultado = valor / divisor\n",
        "    print(f\"Resultado da divisão: {resultado}\")\n",
        "except (ValueError, ZeroDivisionError) as e: # Captura ValueError OU ZeroDivisionError\n",
        "    print(f\"Ocorreu um erro de entrada ou divisão: {e}\") # 'e' contém a mensagem de erro\n",
        "except Exception as e: # Captura qualquer outra exceção não especificada (genérico)\n",
        "    print(f\"Ocorreu um erro inesperado: {e}\")"
      ],
      "metadata": {
        "colab": {
          "base_uri": "https://localhost:8080/"
        },
        "id": "8wTcyA6voa5-",
        "outputId": "c88b1477-6e2b-4ea3-b142-71d393e9feee"
      },
      "execution_count": 3,
      "outputs": [
        {
          "output_type": "stream",
          "name": "stdout",
          "text": [
            "Digite um valor: 0\n",
            "Digite um divisor: 7\n",
            "Resultado da divisão: 0.0\n"
          ]
        }
      ]
    },
    {
      "cell_type": "markdown",
      "source": [
        "Usando else e finally"
      ],
      "metadata": {
        "id": "YmZDi_QComUe"
      }
    },
    {
      "cell_type": "code",
      "source": [
        "try:\n",
        "    arquivo = open(\"dados.txt\", \"r\")\n",
        "    conteudo = arquivo.read()\n",
        "    print(\"Arquivo lido com sucesso!\")\n",
        "except FileNotFoundError:\n",
        "    print(\"Erro: O arquivo 'dados.txt' não foi encontrado.\")\n",
        "except Exception as e:\n",
        "    print(f\"Ocorreu um erro inesperado: {e}\")\n",
        "else:\n",
        "\n",
        "   # Este bloco executa SOMENTE se o 'try' for bem-sucedido (sem exceções)\n",
        "    print(\"Nenhuma exceção ocorreu. Processamento adicional do arquivo...\")\n",
        "    # Aqui você poderia processar 'conteudo'\n",
        "finally:\n",
        "    # Este bloco SEMPRE executa\n",
        "    if 'arquivo' in locals() and not arquivo.closed: # Verifica se 'arquivo' foi definido e não está fechado\n",
        "        arquivo.close()\n",
        "        print(\"Arquivo fechado (bloco finally).\")\n",
        "    else:\n",
        "        print(\"Operação com arquivo finalizada (bloco finally).\")\n",
        "\n",
        "# Para testar:\n",
        "# 1. Remova \"dados.txt\" e execute para ver FileNotFoundError\n",
        "# 2. Crie um arquivo \"dados.txt\" (pode ser vazio) e execute para ver o else"
      ],
      "metadata": {
        "colab": {
          "base_uri": "https://localhost:8080/"
        },
        "id": "awRyJqHeopjX",
        "outputId": "47c7c6db-86e1-42de-8a9b-6b11ca11af4e"
      },
      "execution_count": 4,
      "outputs": [
        {
          "output_type": "stream",
          "name": "stdout",
          "text": [
            "Erro: O arquivo 'dados.txt' não foi encontrado.\n",
            "Operação com arquivo finalizada (bloco finally).\n"
          ]
        }
      ]
    },
    {
      "cell_type": "markdown",
      "source": [
        "Levantando Exceções (raise)"
      ],
      "metadata": {
        "id": "aBOgKEmKozxn"
      }
    },
    {
      "cell_type": "code",
      "source": [
        "def calcular_idade_futura(nome, idade_atual, anos_futuros):\n",
        "    if idade_atual < 0 or anos_futuros < 0:\n",
        "        raise ValueError(\"Idade e anos futuros não podem ser negativos.\")\n",
        "    if idade_atual > 150: # Exemplo de validação arbitrária\n",
        "        raise ValueError(\"Idade atual parece irrealista.\")\n",
        "\n",
        "    idade_futura = idade_atual + anos_futuros\n",
        "    print(f\"{nome} terá {idade_futura} anos em {anos_futuros} anos.\")\n",
        "\n",
        "try:\n",
        "    calcular_idade_futura(\"Pedro\", 30, 5) # Saída: Pedro terá 35 anos em 5 anos.\n",
        "    calcular_idade_futura(\"Ana\", -5, 10)  # Gerará um ValueError\n",
        "except ValueError as e:\n",
        "    print(f\"Erro ao calcular idade: {e}\")\n",
        "\n",
        "try:\n",
        "    calcular_idade_futura(\"Matusalém\", 200, 10) # Gerará outro ValueError\n",
        "except ValueError as e:\n",
        "    print(f\"Erro ao calcular idade: {e}\")"
      ],
      "metadata": {
        "colab": {
          "base_uri": "https://localhost:8080/"
        },
        "id": "ArdJ9PhDozfW",
        "outputId": "78faea0f-7f3c-449a-971f-a0206b5f1404"
      },
      "execution_count": 5,
      "outputs": [
        {
          "output_type": "stream",
          "name": "stdout",
          "text": [
            "Pedro terá 35 anos em 5 anos.\n",
            "Erro ao calcular idade: Idade e anos futuros não podem ser negativos.\n",
            "Erro ao calcular idade: Idade atual parece irrealista.\n"
          ]
        }
      ]
    },
    {
      "cell_type": "markdown",
      "source": [
        "**Exercícios do Capítulo 8**\n",
        "\n",
        "1.\tEscreva um programa que peça ao usuário para digitar dois números. Tente dividir o primeiro pelo segundo. Use um bloco try-except para capturar ValueError (se a entrada não for um número) e ZeroDivisionError (se o segundo número for zero). Em cada except, imprima uma mensagem amigável explicando o erro.\n",
        "2.\tCrie uma função chamada ler_arquivo_seguro(nome_arquivo) que tenta abrir e ler o conteúdo de um arquivo.\n",
        "o\tUse um bloco try-except para capturar FileNotFoundError se o arquivo não existir.\n",
        "o\tUse um bloco else para imprimir o conteúdo do arquivo se ele for lido com sucesso.\n",
        "o\tUse um bloco finally para imprimir \"Tentativa de leitura do arquivo concluída.\"\n",
        "o\tTeste a função com um nome de arquivo que existe e um que não existe.\n",
        "3.\tModifique a função do exercício 1 para que, se ocorrer um ValueError ou ZeroDivisionError, o programa peça ao usuário para tentar novamente até que ele forneça entradas válidas e a divisão seja bem-sucedida. (Dica: use um loop while em conjunto com try-except).\n",
        "4.\tCrie uma função processar_dicionario(dicionario, chave) que tenta acessar uma chave em um dicionario. Se a chave não existir, a função deve levantar (raise) um KeyError personalizado com a mensagem \"Chave '{chave}' não encontrada no dicionário.\". Teste a função capturando esse KeyError.\n",
        "\n",
        "Parabéns! Você dominou o tratamento de exceções, uma habilidade crucial para escrever código robusto e confiável. Seus programas agora podem lidar com imprevistos de forma elegante.\n",
        "No próximo e último capítulo deste módulo, faremos uma introdução à Orientação a Objetos (OO). Embora seja um tópico mais avançado, entender os conceitos básicos de classes e objetos é fundamental para compreender como muitas das bibliotecas Python, especialmente as de dados e machine learning, são estruturadas."
      ],
      "metadata": {
        "id": "B-1qXOklcIQN"
      }
    },
    {
      "cell_type": "markdown",
      "source": [
        "Respostas dos Exercícios do Capítulo 8:"
      ],
      "metadata": {
        "id": "tAPbO_FIcrYM"
      }
    },
    {
      "cell_type": "code",
      "source": [
        "# Exercício 1:\n",
        "\n",
        "try:\n",
        "    num1 = float(input(\"Digite o primeiro número: \"))\n",
        "    num2 = float(input(\"Digite o segundo número: \"))\n",
        "    resultado = num1 / num2\n",
        "    print(f\"Resultado da divisão: {resultado}\")\n",
        "except ValueError:\n",
        "    print(\"Erro: Por favor, digite apenas números válidos.\")\n",
        "except ZeroDivisionError:\n",
        "    print(\"Erro: Divisão por zero não é permitida.\")"
      ],
      "metadata": {
        "colab": {
          "base_uri": "https://localhost:8080/"
        },
        "id": "cuhybmWepKk3",
        "outputId": "32987e9e-a173-4392-ceb3-1b2a6bb142c9"
      },
      "execution_count": 6,
      "outputs": [
        {
          "output_type": "stream",
          "name": "stdout",
          "text": [
            "Digite o primeiro número: 2\n",
            "Digite o segundo número: 4\n",
            "Resultado da divisão: 0.5\n"
          ]
        }
      ]
    },
    {
      "cell_type": "code",
      "source": [
        "# Exercício 2:\n",
        "\n",
        "def ler_arquivo_seguro(nome_arquivo):\n",
        "    try:\n",
        "        with open(nome_arquivo, \"r\", encoding=\"utf-8\") as arquivo:\n",
        "            conteudo = arquivo.read()\n",
        "    except FileNotFoundError:\n",
        "        print(f\"Erro: Arquivo '{nome_arquivo}' não encontrado.\")\n",
        "    else:\n",
        "        print(\"Conteúdo do arquivo:\")\n",
        "        print(conteudo)\n",
        "    finally:\n",
        "        print(\"Tentativa de leitura do arquivo concluída.\")\n",
        "\n",
        "# Teste com um arquivo que existe\n",
        "with open(\"exemplo.txt\", \"w\", encoding=\"utf-8\") as f:\n",
        "    f.write(\"Exemplo de conteúdo para teste.\")\n",
        "\n",
        "print(\"\\nTeste com arquivo existente:\")\n",
        "ler_arquivo_seguro(\"exemplo.txt\")\n",
        "\n",
        "print(\"\\nTeste com arquivo inexistente:\")\n",
        "ler_arquivo_seguro(\"nao_existe.txt\")"
      ],
      "metadata": {
        "colab": {
          "base_uri": "https://localhost:8080/"
        },
        "id": "vkIjyU3ypX5u",
        "outputId": "021d0bf8-17d9-41c8-931f-ae0dfffe49ae"
      },
      "execution_count": 7,
      "outputs": [
        {
          "output_type": "stream",
          "name": "stdout",
          "text": [
            "\n",
            "Teste com arquivo existente:\n",
            "Conteúdo do arquivo:\n",
            "Exemplo de conteúdo para teste.\n",
            "Tentativa de leitura do arquivo concluída.\n",
            "\n",
            "Teste com arquivo inexistente:\n",
            "Erro: Arquivo 'nao_existe.txt' não encontrado.\n",
            "Tentativa de leitura do arquivo concluída.\n"
          ]
        }
      ]
    },
    {
      "cell_type": "code",
      "source": [
        "# Exercício 3:\n",
        "\n",
        "while True:\n",
        "    try:\n",
        "        num1 = float(input(\"Digite o primeiro número: \"))\n",
        "        num2 = float(input(\"Digite o segundo número: \"))\n",
        "        resultado = num1 / num2\n",
        "    except ValueError:\n",
        "        print(\"Erro: Digite apenas números.\")\n",
        "    except ZeroDivisionError:\n",
        "        print(\"Erro: O segundo número não pode ser zero.\")\n",
        "    else:\n",
        "        print(f\"Resultado da divisão: {resultado}\")\n",
        "        break  # Sai do loop após sucesso"
      ],
      "metadata": {
        "colab": {
          "base_uri": "https://localhost:8080/"
        },
        "id": "VKrrOZW6pcEO",
        "outputId": "1efb90d7-4a42-45a3-9c7b-64b599b6765c"
      },
      "execution_count": 8,
      "outputs": [
        {
          "output_type": "stream",
          "name": "stdout",
          "text": [
            "Digite o primeiro número: 4\n",
            "Digite o segundo número: 5\n",
            "Resultado da divisão: 0.8\n"
          ]
        }
      ]
    },
    {
      "cell_type": "code",
      "source": [
        "# Exercício 4:\n",
        "\n",
        "def processar_dicionario(dicionario, chave):\n",
        "    if chave not in dicionario:\n",
        "        raise KeyError(f\"Chave '{chave}' não encontrada no dicionário.\")\n",
        "    return dicionario[chave]\n",
        "\n",
        "# Testando a função\n",
        "meu_dicionario = {\"nome\": \"Carlos\", \"idade\": 30}\n",
        "\n",
        "print(\"\\nTeste com chave existente:\")\n",
        "try:\n",
        "    valor = processar_dicionario(meu_dicionario, \"nome\")\n",
        "    print(\"Valor encontrado:\", valor)\n",
        "except KeyError as e:\n",
        "    print(e)\n",
        "\n",
        "print(\"\\nTeste com chave inexistente:\")\n",
        "try:\n",
        "    valor = processar_dicionario(meu_dicionario, \"email\")\n",
        "    print(\"Valor encontrado:\", valor)\n",
        "except KeyError as e:\n",
        "    print(\"Erro:\", e)"
      ],
      "metadata": {
        "colab": {
          "base_uri": "https://localhost:8080/"
        },
        "id": "i8vXSovWpgbt",
        "outputId": "7ff0ec90-4ec9-4680-c41b-e6d43fd9fcb4"
      },
      "execution_count": 9,
      "outputs": [
        {
          "output_type": "stream",
          "name": "stdout",
          "text": [
            "\n",
            "Teste com chave existente:\n",
            "Valor encontrado: Carlos\n",
            "\n",
            "Teste com chave inexistente:\n",
            "Erro: \"Chave 'email' não encontrada no dicionário.\"\n"
          ]
        }
      ]
    }
  ]
}