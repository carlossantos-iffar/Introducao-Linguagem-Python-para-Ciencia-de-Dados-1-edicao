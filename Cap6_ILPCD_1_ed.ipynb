{
  "nbformat": 4,
  "nbformat_minor": 0,
  "metadata": {
    "colab": {
      "provenance": []
    },
    "kernelspec": {
      "name": "python3",
      "display_name": "Python 3"
    },
    "language_info": {
      "name": "python"
    }
  },
  "cells": [
    {
      "cell_type": "markdown",
      "source": [
        "**Capítulo 6 – Módulos e Pacotes**"
      ],
      "metadata": {
        "id": "4Tohpu-zV4Fa"
      }
    },
    {
      "cell_type": "markdown",
      "source": [
        "_Este notebook contém todos os códigos de exemplo e soluções para os exercícios do Capítulo 6._"
      ],
      "metadata": {
        "id": "LW6frP1KWroi"
      }
    },
    {
      "cell_type": "markdown",
      "source": [
        "<table align=\"left\">\n",
        "  <td>\n",
        "    <a href=\"https://colab.research.google.com/drive/1taWNfjPrVwVKQzf2UyCADOUgwvqwH8nZ?authuser=1#scrollTo=4Tohpu-zV4Fa\" target=\"_parent\"><img src=\"https://colab.research.google.com/assets/colab-badge.svg\" alt=\"Open In Colab\"/></a>\n",
        "  </td>\n",
        "</table>"
      ],
      "metadata": {
        "id": "yBJquUYkWvIh"
      }
    },
    {
      "cell_type": "markdown",
      "source": [
        "# Configuração"
      ],
      "metadata": {
        "id": "f4U4EAwnXQDZ"
      }
    },
    {
      "cell_type": "markdown",
      "source": [
        "Este projeto requer Python 3.11 ou superior:"
      ],
      "metadata": {
        "id": "0Sl5DlgDXWQB"
      }
    },
    {
      "cell_type": "code",
      "source": [
        "import sys\n",
        "\n",
        "assert sys.version_info >= (3, 11)"
      ],
      "metadata": {
        "id": "3SNbtY_UXdQp"
      },
      "execution_count": null,
      "outputs": []
    },
    {
      "cell_type": "code",
      "source": [
        "!python --version"
      ],
      "metadata": {
        "colab": {
          "base_uri": "https://localhost:8080/"
        },
        "id": "dT26LEsSZx1-",
        "outputId": "c048351d-1720-4233-9538-9a709308dd20"
      },
      "execution_count": null,
      "outputs": [
        {
          "output_type": "stream",
          "name": "stdout",
          "text": [
            "Python 3.11.13\n"
          ]
        }
      ]
    },
    {
      "cell_type": "markdown",
      "source": [
        "import nome_do_modulo"
      ],
      "metadata": {
        "id": "jEXrUwMHG18v"
      }
    },
    {
      "cell_type": "code",
      "source": [
        "# Exemplo com o módulo math\n",
        "import math\n",
        "\n",
        "raio = 5\n",
        "area_circulo = math.pi * (raio ** 2)\n",
        "print(f\"A área do círculo com raio {raio} é: {area_circulo:.2f}\")\n",
        "\n",
        "# Calcular raiz quadrada\n",
        "numero = 16\n",
        "raiz = math.sqrt(numero)\n",
        "print(f\"A raiz quadrada de {numero} é: {raiz}\")\n",
        "\n",
        "# Saída:\n",
        "# A área do círculo com raio 5 é: 78.54\n",
        "# A raiz quadrada de 16 é: 4.0"
      ],
      "metadata": {
        "colab": {
          "base_uri": "https://localhost:8080/"
        },
        "id": "vGIVH6ESHAIF",
        "outputId": "babc327e-b45d-498f-cf32-9dc24ee4da6d"
      },
      "execution_count": 2,
      "outputs": [
        {
          "output_type": "stream",
          "name": "stdout",
          "text": [
            "A área do círculo com raio 5 é: 78.54\n",
            "A raiz quadrada de 16 é: 4.0\n"
          ]
        }
      ]
    },
    {
      "cell_type": "code",
      "source": [
        "# Exemplo com o módulo random\n",
        "import random\n",
        "\n",
        "# Gerar um número inteiro aleatório entre 1 e 10\n",
        "dado = random.randint(1, 6)\n",
        "print(f\"Você tirou: {dado} no dado.\")\n",
        "\n",
        "# Escolher um item aleatório de uma lista\n",
        "frutas = [\"maçã\", \"banana\", \"cereja\", \"uva\"]\n",
        "fruta_sorteada = random.choice(frutas)\n",
        "print(f\"A fruta sorteada é: {fruta_sorteada}\")"
      ],
      "metadata": {
        "colab": {
          "base_uri": "https://localhost:8080/"
        },
        "id": "SlVOV_GxHZbp",
        "outputId": "56bbac97-56f0-49a1-da97-e4f4821ee43d"
      },
      "execution_count": 3,
      "outputs": [
        {
          "output_type": "stream",
          "name": "stdout",
          "text": [
            "Você tirou: 5 no dado.\n",
            "A fruta sorteada é: maçã\n"
          ]
        }
      ]
    },
    {
      "cell_type": "markdown",
      "source": [
        "import nome_do_modulo as alias"
      ],
      "metadata": {
        "id": "ne9sakz4Hiq-"
      }
    },
    {
      "cell_type": "code",
      "source": [
        "import math as m\n",
        "\n",
        "angulo_graus = 45\n",
        "# math.radians() converte graus para radianos, pois math.sin() espera radianos\n",
        "seno_angulo = m.sin(m.radians(angulo_graus))\n",
        "print(f\"O seno de {angulo_graus} graus é: {seno_angulo:.2f}\")\n",
        "\n",
        "# Saída: O seno de 45 graus é: 0.71"
      ],
      "metadata": {
        "colab": {
          "base_uri": "https://localhost:8080/"
        },
        "id": "C3umEup9HlYO",
        "outputId": "3325235e-fb3c-45ab-d15a-5af29154bd58"
      },
      "execution_count": 4,
      "outputs": [
        {
          "output_type": "stream",
          "name": "stdout",
          "text": [
            "O seno de 45 graus é: 0.71\n"
          ]
        }
      ]
    },
    {
      "cell_type": "markdown",
      "source": [
        "from nome_do_modulo import item1, item2"
      ],
      "metadata": {
        "id": "lkgUkMyeHqwS"
      }
    },
    {
      "cell_type": "code",
      "source": [
        "from random import randint, choice\n",
        "\n",
        "dado = randint(1, 6)\n",
        "print(f\"Você tirou: {dado} (usando importação direta).\")\n",
        "\n",
        "frutas = [\"maçã\", \"banana\", \"cereja\", \"uva\"]\n",
        "fruta_sorteada = choice(frutas)\n",
        "print(f\"A fruta sorteada é: {fruta_sorteada} (usando importação direta).\")"
      ],
      "metadata": {
        "colab": {
          "base_uri": "https://localhost:8080/"
        },
        "id": "RnJ7Gva6HtZW",
        "outputId": "f60c873b-3838-48c5-9b0f-608d93a63904"
      },
      "execution_count": 5,
      "outputs": [
        {
          "output_type": "stream",
          "name": "stdout",
          "text": [
            "Você tirou: 2 (usando importação direta).\n",
            "A fruta sorteada é: uva (usando importação direta).\n"
          ]
        }
      ]
    },
    {
      "cell_type": "markdown",
      "source": [
        "from nome_do_modulo import * (Evitar!)"
      ],
      "metadata": {
        "id": "RUb5yKFgHzZy"
      }
    },
    {
      "cell_type": "code",
      "source": [
        "# EVITE USAR ESTA FORMA NA MAIORIA DOS CASOS!\n",
        "from math import * # Agora pi e sqrt estão disponíveis diretamente\n",
        "\n",
        "print(f\"Valor de pi: {pi}\")\n",
        "print(f\"Raiz quadrada de 25: {sqrt(25)}\")"
      ],
      "metadata": {
        "colab": {
          "base_uri": "https://localhost:8080/"
        },
        "id": "4TVveoRaH5TJ",
        "outputId": "b038f2e2-3814-4fbd-cc22-77428c15a867"
      },
      "execution_count": 6,
      "outputs": [
        {
          "output_type": "stream",
          "name": "stdout",
          "text": [
            "Valor de pi: 3.141592653589793\n",
            "Raiz quadrada de 25: 5.0\n"
          ]
        }
      ]
    },
    {
      "cell_type": "markdown",
      "source": [
        "**Exercícios do Capítulo 6**\n",
        "\n",
        "1.\tMódulo math:\n",
        "o\tImporte o módulo math.\n",
        "o\tCalcule o valor de e3 (e elevado à potência de 3) usando math.exp().\n",
        "o\tCalcule o logaritmo natural de 100 usando math.log().\n",
        "o\tImprima ambos os resultados.\n",
        "2.\tMódulo random:\n",
        "o\tImporte a função uniform diretamente do módulo random.\n",
        "o\tGere um número aleatório de ponto flutuante entre 0.0 e 1.0 (inclusive) usando uniform().\n",
        "o\tGere um número aleatório de ponto flutuante entre 10.0 e 20.0 (inclusive).\n",
        "o\tImprima ambos os números.\n",
        "\n",
        "Excelente! Agora você entende como Python é extensível através de módulos e pacotes, e como gerenciar essas dependências. Isso é crucial para qualquer projeto real, especialmente em análise de dados e machine learning, onde você usará muitas bibliotecas externas."
      ],
      "metadata": {
        "id": "B-1qXOklcIQN"
      }
    },
    {
      "cell_type": "markdown",
      "source": [
        "Respostas dos Exercícios do Capítulo 6:"
      ],
      "metadata": {
        "id": "tAPbO_FIcrYM"
      }
    },
    {
      "cell_type": "code",
      "source": [
        "# Exercício 1: Módulo math\n",
        "\n",
        "import math\n",
        "\n",
        "e_ao_cubo = math.exp(3)\n",
        "log_natural_100 = math.log(100)\n",
        "\n",
        "print(\"1. Módulo math:\")\n",
        "print(f\"e^3 = {e_ao_cubo:.4f}\")\n",
        "print(f\"log(100) = {log_natural_100:.4f}\")\n"
      ],
      "metadata": {
        "colab": {
          "base_uri": "https://localhost:8080/"
        },
        "id": "wVVULfqpJY4i",
        "outputId": "bb3dd74a-b170-4723-8d58-7c05bd482938"
      },
      "execution_count": 9,
      "outputs": [
        {
          "output_type": "stream",
          "name": "stdout",
          "text": [
            "1. Módulo math:\n",
            "e^3 = 20.0855\n",
            "log(100) = 4.6052\n"
          ]
        }
      ]
    },
    {
      "cell_type": "code",
      "source": [
        "# Exercício 2: Módulo random\n",
        "\n",
        "from random import uniform\n",
        "\n",
        "aleatorio_0_1 = uniform(0.0, 1.0)\n",
        "aleatorio_10_20 = uniform(10.0, 20.0)\n",
        "\n",
        "print(\"\\n2. Módulo random:\")\n",
        "print(f\"Número aleatório entre 0.0 e 1.0: {aleatorio_0_1:.4f}\")\n",
        "print(f\"Número aleatório entre 10.0 e 20.0: {aleatorio_10_20:.4f}\")\n"
      ],
      "metadata": {
        "colab": {
          "base_uri": "https://localhost:8080/"
        },
        "id": "m-yFqkhjJfPO",
        "outputId": "35f9b44c-251d-4f9d-c022-2f3394e823ab"
      },
      "execution_count": 10,
      "outputs": [
        {
          "output_type": "stream",
          "name": "stdout",
          "text": [
            "\n",
            "2. Módulo random:\n",
            "Número aleatório entre 0.0 e 1.0: 0.9251\n",
            "Número aleatório entre 10.0 e 20.0: 13.7236\n"
          ]
        }
      ]
    }
  ]
}