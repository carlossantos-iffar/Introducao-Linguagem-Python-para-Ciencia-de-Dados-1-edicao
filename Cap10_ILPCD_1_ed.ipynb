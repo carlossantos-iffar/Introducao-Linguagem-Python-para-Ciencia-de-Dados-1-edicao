{
  "nbformat": 4,
  "nbformat_minor": 0,
  "metadata": {
    "colab": {
      "provenance": []
    },
    "kernelspec": {
      "name": "python3",
      "display_name": "Python 3"
    },
    "language_info": {
      "name": "python"
    }
  },
  "cells": [
    {
      "cell_type": "markdown",
      "source": [
        "**Capítulo 10 – NumPy para Computação Numérica**"
      ],
      "metadata": {
        "id": "4Tohpu-zV4Fa"
      }
    },
    {
      "cell_type": "markdown",
      "source": [
        "_Este notebook contém todos os códigos de exemplo e soluções para os exercícios do Capítulo 10._"
      ],
      "metadata": {
        "id": "LW6frP1KWroi"
      }
    },
    {
      "cell_type": "markdown",
      "source": [
        "<table align=\"left\">\n",
        "  <td>\n",
        "    <a href=\"https://colab.research.google.com/drive/1UEc5hntE2I14BRW-HNhRii5nTDhACLJc?authuser=1#scrollTo=3SNbtY_UXdQp\" target=\"_parent\"><img src=\"https://colab.research.google.com/assets/colab-badge.svg\" alt=\"Open In Colab\"/></a>\n",
        "  </td>\n",
        "</table>"
      ],
      "metadata": {
        "id": "yBJquUYkWvIh"
      }
    },
    {
      "cell_type": "markdown",
      "source": [
        "# Configuração"
      ],
      "metadata": {
        "id": "f4U4EAwnXQDZ"
      }
    },
    {
      "cell_type": "markdown",
      "source": [
        "Este projeto requer Python 3.11 ou superior:"
      ],
      "metadata": {
        "id": "0Sl5DlgDXWQB"
      }
    },
    {
      "cell_type": "markdown",
      "source": [],
      "metadata": {
        "id": "LLj0un-WpoO2"
      }
    },
    {
      "cell_type": "code",
      "source": [
        "import sys\n",
        "\n",
        "assert sys.version_info >= (3, 11)"
      ],
      "metadata": {
        "id": "3SNbtY_UXdQp"
      },
      "execution_count": null,
      "outputs": []
    },
    {
      "cell_type": "code",
      "source": [
        "!python --version"
      ],
      "metadata": {
        "colab": {
          "base_uri": "https://localhost:8080/"
        },
        "id": "dT26LEsSZx1-",
        "outputId": "c048351d-1720-4233-9538-9a709308dd20"
      },
      "execution_count": null,
      "outputs": [
        {
          "output_type": "stream",
          "name": "stdout",
          "text": [
            "Python 3.11.13\n"
          ]
        }
      ]
    },
    {
      "cell_type": "markdown",
      "source": [
        "Criando Arrays"
      ],
      "metadata": {
        "id": "jFwqcPb0s2sD"
      }
    },
    {
      "cell_type": "code",
      "source": [
        "import numpy as np\n",
        "\n",
        "# Criando arrays a partir de listas Python\n",
        "lista_simples = [1, 2, 3, 4, 5]\n",
        "array_simples = np.array(lista_simples)\n",
        "print(f\"Array simples: {array_simples}\")\n",
        "print(f\"Tipo do array: {type(array_simples)}\")\n",
        "print(f\"Tipo dos elementos do array (dtype): {array_simples.dtype}\")\n",
        "# Saída:\n",
        "# Array simples: [1 2 3 4 5]\n",
        "# Tipo do array: <class 'numpy.ndarray'>\n",
        "# Tipo dos elementos do array (dtype): int64"
      ],
      "metadata": {
        "colab": {
          "base_uri": "https://localhost:8080/"
        },
        "id": "bbv60k6rtF00",
        "outputId": "4d4879da-6fbc-437b-c2a7-e701d40babe0"
      },
      "execution_count": 1,
      "outputs": [
        {
          "output_type": "stream",
          "name": "stdout",
          "text": [
            "Array simples: [1 2 3 4 5]\n",
            "Tipo do array: <class 'numpy.ndarray'>\n",
            "Tipo dos elementos do array (dtype): int64\n"
          ]
        }
      ]
    },
    {
      "cell_type": "code",
      "source": [
        "# Criando array 2D (matriz) a partir de uma lista de listas\n",
        "lista_de_listas = [[1, 2, 3], [4, 5, 6]]\n",
        "array_2d = np.array(lista_de_listas)\n",
        "print(f\"\\nArray 2D:\\n{array_2d}\")\n",
        "print(f\"Dimensões do array (shape): {array_2d.shape}\") # (linhas, colunas)\n",
        "print(f\"Número de dimensões (ndim): {array_2d.ndim}\")\n",
        "# Saída:\n",
        "# Array 2D:\n",
        "# [[1 2 3]\n",
        "#  [4 5 6]]\n",
        "# Dimensões do array (shape): (2, 3)\n",
        "# Número de dimensões (ndim): 2"
      ],
      "metadata": {
        "colab": {
          "base_uri": "https://localhost:8080/"
        },
        "id": "bByAOMqBtQaz",
        "outputId": "3ba4f6a8-c2b6-4dc2-d1a6-255ad27d4154"
      },
      "execution_count": 2,
      "outputs": [
        {
          "output_type": "stream",
          "name": "stdout",
          "text": [
            "\n",
            "Array 2D:\n",
            "[[1 2 3]\n",
            " [4 5 6]]\n",
            "Dimensões do array (shape): (2, 3)\n",
            "Número de dimensões (ndim): 2\n"
          ]
        }
      ]
    },
    {
      "cell_type": "markdown",
      "source": [
        "Funções para Criar Arrays Comuns"
      ],
      "metadata": {
        "id": "UvbYkk2AtbaD"
      }
    },
    {
      "cell_type": "code",
      "source": [
        "# Array de zeros\n",
        "array_zeros = np.zeros((3, 4)) # 3 linhas, 4 colunas de zeros\n",
        "print(f\"\\nArray de zeros:\\n{array_zeros}\")\n",
        "\n",
        "# Array de uns\n",
        "array_uns = np.ones((2, 3)) # 2 linhas, 3 colunas de uns\n",
        "print(f\"\\nArray de uns:\\n{array_uns}\")\n",
        "\n",
        "# Array com valores em um determinado intervalo (similar a range())\n",
        "array_intervalo = np.arange(0, 10, 2) # Início, Fim (exclusivo), Passo\n",
        "print(f\"\\nArray de intervalo: {array_intervalo}\")\n",
        "\n",
        "# Array com espaçamento linear (linspace)\n",
        "# Cria N números igualmente espaçados entre dois limites (inclusive)\n",
        "array_linspace = np.linspace(0, 10, 5) # 5 números entre 0 e 10\n",
        "print(f\"\\nArray linspace: {array_linspace}\")\n",
        "\n",
        "# Array com números aleatórios\n",
        "array_aleatorio_inteiro = np.random.randint(0, 10, size=(2, 3)) # Inteiros entre 0 (inc) e 10 (exc), shape 2x3\n",
        "print(f\"\\nArray aleatório de inteiros:\\n{array_aleatorio_inteiro}\")\n",
        "\n",
        "array_aleatorio_float = np.random.rand(3, 2) # Floats entre 0 e 1, shape 3x2\n",
        "print(f\"\\nArray aleatório de floats:\\n{array_aleatorio_float}\")"
      ],
      "metadata": {
        "colab": {
          "base_uri": "https://localhost:8080/"
        },
        "id": "E2sJlWHPtgTj",
        "outputId": "73cd0ecb-0f7a-4f02-a597-33b37c4d1e62"
      },
      "execution_count": 3,
      "outputs": [
        {
          "output_type": "stream",
          "name": "stdout",
          "text": [
            "\n",
            "Array de zeros:\n",
            "[[0. 0. 0. 0.]\n",
            " [0. 0. 0. 0.]\n",
            " [0. 0. 0. 0.]]\n",
            "\n",
            "Array de uns:\n",
            "[[1. 1. 1.]\n",
            " [1. 1. 1.]]\n",
            "\n",
            "Array de intervalo: [0 2 4 6 8]\n",
            "\n",
            "Array linspace: [ 0.   2.5  5.   7.5 10. ]\n",
            "\n",
            "Array aleatório de inteiros:\n",
            "[[9 6 6]\n",
            " [4 3 6]]\n",
            "\n",
            "Array aleatório de floats:\n",
            "[[0.51948437 0.37011616]\n",
            " [0.76734266 0.307988  ]\n",
            " [0.25508233 0.74032385]]\n"
          ]
        }
      ]
    },
    {
      "cell_type": "markdown",
      "source": [
        "Indexação e Fatiamento (Slicing) de Arrays"
      ],
      "metadata": {
        "id": "o9-9E2nItlRy"
      }
    },
    {
      "cell_type": "code",
      "source": [
        "array_1d = np.array([10, 20, 30, 40, 50, 60, 70])\n",
        "\n",
        "# Acessando elementos (indexação começa em 0)\n",
        "print(f\"\\nPrimeiro elemento: {array_1d[0]}\")     # Saída: Primeiro elemento: 10\n",
        "print(f\"Terceiro elemento: {array_1d[2]}\")     # Saída: Terceiro elemento: 30\n",
        "print(f\"Último elemento: {array_1d[-1]}\")      # Saída: Último elemento: 70\n",
        "\n",
        "# Fatiamento (slicing)\n",
        "print(f\"Do índice 1 ao 4 (exclusivo): {array_1d[1:4]}\") # Saída: Do índice 1 ao 4 (exclusivo): [20 30 40]\n",
        "print(f\"Do início ao índice 3 (exclusivo): {array_1d[:4]}\") # Saída: Do início ao índice 3 (exclusivo): [10 20 30 40]\n",
        "print(f\"Do índice 4 ao final: {array_1d[4:]}\")   # Saída: Do índice 4 ao final: [50 60 70]\n",
        "print(f\"Todos os elementos: {array_1d[:]}\")    # Saída: Todos os elementos: [10 20 30 40 50 60 70]"
      ],
      "metadata": {
        "colab": {
          "base_uri": "https://localhost:8080/"
        },
        "id": "kuMahrBqto2i",
        "outputId": "84e7f4f6-0ead-40e1-b7a6-d10b11eebf62"
      },
      "execution_count": 4,
      "outputs": [
        {
          "output_type": "stream",
          "name": "stdout",
          "text": [
            "\n",
            "Primeiro elemento: 10\n",
            "Terceiro elemento: 30\n",
            "Último elemento: 70\n",
            "Do índice 1 ao 4 (exclusivo): [20 30 40]\n",
            "Do início ao índice 3 (exclusivo): [10 20 30 40]\n",
            "Do índice 4 ao final: [50 60 70]\n",
            "Todos os elementos: [10 20 30 40 50 60 70]\n"
          ]
        }
      ]
    },
    {
      "cell_type": "markdown",
      "source": [
        "Indexação em Arrays 2D (Matrizes)"
      ],
      "metadata": {
        "id": "A_i41xZGttcD"
      }
    },
    {
      "cell_type": "code",
      "source": [
        "matriz = np.array([\n",
        "    [1, 2, 3],\n",
        "    [4, 5, 6],\n",
        "    [7, 8, 9]\n",
        "])\n",
        "print(f\"\\nMatriz:\\n{matriz}\")\n",
        "\n",
        "# Acessando um elemento específico\n",
        "print(f\"Elemento na linha 0, coluna 1: {matriz[0, 1]}\") # Saída: Elemento na linha 0, coluna 1: 2\n",
        "\n",
        "# Acessando uma linha inteira\n",
        "print(f\"Primeira linha: {matriz[0, :]}\") # Saída: Primeira linha: [1 2 3]\n",
        "print(f\"Segunda linha: {matriz[1]}\")     # Também funciona para linhas inteiras\n",
        "# Saída: Segunda linha: [4 5 6]\n",
        "\n",
        "# Acessando uma coluna inteira\n",
        "print(f\"Segunda coluna: {matriz[:, 1]}\") # Saída: Segunda coluna: [2 5 8]\n",
        "\n",
        "# Fatiamento em 2D\n",
        "print(f\"Sub-matriz (linhas 0 a 1, colunas 1 a 2):\\n{matriz[0:2, 1:3]}\")\n",
        "# Saída:\n",
        "# Sub-matriz (linhas 0 a 1, colunas 1 a 2):\n",
        "# [[2 3]\n",
        "#  [5 6]]"
      ],
      "metadata": {
        "colab": {
          "base_uri": "https://localhost:8080/"
        },
        "id": "rfIBfAKCtxbz",
        "outputId": "a973ab3a-89ba-4ade-e001-40c49592aee4"
      },
      "execution_count": 5,
      "outputs": [
        {
          "output_type": "stream",
          "name": "stdout",
          "text": [
            "\n",
            "Matriz:\n",
            "[[1 2 3]\n",
            " [4 5 6]\n",
            " [7 8 9]]\n",
            "Elemento na linha 0, coluna 1: 2\n",
            "Primeira linha: [1 2 3]\n",
            "Segunda linha: [4 5 6]\n",
            "Segunda coluna: [2 5 8]\n",
            "Sub-matriz (linhas 0 a 1, colunas 1 a 2):\n",
            "[[2 3]\n",
            " [5 6]]\n"
          ]
        }
      ]
    },
    {
      "cell_type": "markdown",
      "source": [
        "Indexação Booleana (Muito Poderoso para Dados!)"
      ],
      "metadata": {
        "id": "ruthG0_Ut1VC"
      }
    },
    {
      "cell_type": "code",
      "source": [
        "dados = np.array([10, 15, 20, 25, 30, 35, 40])\n",
        "\n",
        "# Selecionar elementos maiores que 20\n",
        "condicao = dados > 20\n",
        "print(f\"\\nCondição (booleana): {condicao}\")\n",
        "# Saída: Condição (booleana): [False False False  True  True  True  True]\n",
        "\n",
        "elementos_filtrados = dados[condicao] # ou dados[dados > 20]\n",
        "print(f\"Elementos maiores que 20: {elementos_filtrados}\")\n",
        "# Saída: Elementos maiores que 20: [25 30 35 40]\n",
        "\n",
        "# Selecionar elementos pares\n",
        "pares = dados[dados % 2 == 0]\n",
        "print(f\"Elementos pares: {pares}\")\n",
        "# Saída: Elementos pares: [10 20 30 40]"
      ],
      "metadata": {
        "colab": {
          "base_uri": "https://localhost:8080/"
        },
        "id": "miMatEcft3oy",
        "outputId": "aafda62f-8d35-4e39-b7cc-2c68305921c7"
      },
      "execution_count": 6,
      "outputs": [
        {
          "output_type": "stream",
          "name": "stdout",
          "text": [
            "\n",
            "Condição (booleana): [False False False  True  True  True  True]\n",
            "Elementos maiores que 20: [25 30 35 40]\n",
            "Elementos pares: [10 20 30 40]\n"
          ]
        }
      ]
    },
    {
      "cell_type": "markdown",
      "source": [
        "Operações Vetorizadas (Ganho de Performance)"
      ],
      "metadata": {
        "id": "m8IF2qItt77S"
      }
    },
    {
      "cell_type": "code",
      "source": [
        "array_a = np.array([1, 2, 3, 4])\n",
        "array_b = np.array([5, 6, 7, 8])\n",
        "\n",
        "# Adição elemento por elemento\n",
        "soma = array_a + array_b\n",
        "print(f\"\\nSoma de arrays: {soma}\") # Saída: Soma de arrays: [ 6  8 10 12]\n",
        "\n",
        "# Multiplicação escalar\n",
        "multiplicacao_escalar = array_a * 2\n",
        "print(f\"Multiplicação escalar: {multiplicacao_escalar}\") # Saída: Multiplicação escalar: [2 4 6 8]\n",
        "\n",
        "# Potência elemento por elemento\n",
        "potencia = array_a ** 2\n",
        "print(f\"Potência de array: {potencia}\") # Saída: Potência de array: [ 1  4  9 16]\n",
        "\n",
        "# Operações de comparação também são vetorizadas\n",
        "comparacao = array_a > array_b\n",
        "print(f\"Comparação (A > B): {comparacao}\") # Saída: Comparação (A > B): [False False False False]"
      ],
      "metadata": {
        "colab": {
          "base_uri": "https://localhost:8080/"
        },
        "id": "e2oqOPt7t-y6",
        "outputId": "4cd80624-7704-4ec4-a08a-5fa32f167508"
      },
      "execution_count": 7,
      "outputs": [
        {
          "output_type": "stream",
          "name": "stdout",
          "text": [
            "\n",
            "Soma de arrays: [ 6  8 10 12]\n",
            "Multiplicação escalar: [2 4 6 8]\n",
            "Potência de array: [ 1  4  9 16]\n",
            "Comparação (A > B): [False False False False]\n"
          ]
        }
      ]
    },
    {
      "cell_type": "markdown",
      "source": [
        "Funções Matemáticas com NumPy"
      ],
      "metadata": {
        "id": "oOWnbGx7uCrC"
      }
    },
    {
      "cell_type": "code",
      "source": [
        "dados = np.array([1, 4, 9, 16, 25])\n",
        "\n",
        "# Raiz quadrada\n",
        "raiz_quadrada = np.sqrt(dados)\n",
        "print(f\"\\nRaiz quadrada: {raiz_quadrada}\") # Saída: Raiz quadrada: [1. 2. 3. 4. 5.]\n",
        "\n",
        "# Logaritmo natural\n",
        "logaritmo = np.log(dados)\n",
        "print(f\"Logaritmo natural: {logaritmo}\")\n",
        "# Saída: Logaritmo natural: [0.         1.38629436 2.19722458 2.77258872 3.21887582]\n",
        "\n",
        "# Soma de todos os elementos\n",
        "soma_total = np.sum(dados)\n",
        "print(f\"Soma total: {soma_total}\") # Saída: Soma total: 55\n",
        "\n",
        "# Média\n",
        "media = np.mean(dados)\n",
        "print(f\"Média: {media}\") # Saída: Média: 11.0\n",
        "\n",
        "# Desvio padrão\n",
        "desvio_padrao = np.std(dados)\n",
        "print(f\"Desvio padrão: {desvio_padrao:.2f}\") # Saída: Desvio padrão: 8.57\n",
        "\n",
        "# Máximo e Mínimo\n",
        "valor_maximo = np.max(dados)\n",
        "valor_minimo = np.min(dados)\n",
        "print(f\"Valor máximo: {valor_maximo}, Valor mínimo: {valor_minimo}\")\n",
        "# Saída: Valor máximo: 25, Valor mínimo: 1\n",
        "\n",
        "# Transpor uma matriz\n",
        "matriz_original = np.array([[1, 2], [3, 4]])\n",
        "matriz_transposta = matriz_original.T # Ou np.transpose(matriz_original)\n",
        "print(f\"\\nMatriz original:\\n{matriz_original}\")\n",
        "print(f\"Matriz transposta:\\n{matriz_transposta}\")\n",
        "# Saída:\n",
        "# Matriz original:\n",
        "# [[1 2]\n",
        "#  [3 4]]\n",
        "\n",
        "# Matriz transposta:\n",
        "# [[1 3]\n",
        "#  [2 4]]"
      ],
      "metadata": {
        "colab": {
          "base_uri": "https://localhost:8080/"
        },
        "id": "RAgCft8muDSa",
        "outputId": "78813077-3465-4e49-9728-725220e28013"
      },
      "execution_count": 8,
      "outputs": [
        {
          "output_type": "stream",
          "name": "stdout",
          "text": [
            "\n",
            "Raiz quadrada: [1. 2. 3. 4. 5.]\n",
            "Logaritmo natural: [0.         1.38629436 2.19722458 2.77258872 3.21887582]\n",
            "Soma total: 55\n",
            "Média: 11.0\n",
            "Desvio padrão: 8.65\n",
            "Valor máximo: 25, Valor mínimo: 1\n",
            "\n",
            "Matriz original:\n",
            "[[1 2]\n",
            " [3 4]]\n",
            "Matriz transposta:\n",
            "[[1 3]\n",
            " [2 4]]\n"
          ]
        }
      ]
    },
    {
      "cell_type": "markdown",
      "source": [
        "**Exercícios do Capítulo 10**\n",
        "\n",
        "1.\tCrie um array NumPy chamado idades a partir da lista [22, 25, 30, 28, 22, 35].\n",
        "o\tImprima o array e seu dtype.\n",
        "o\tQual é a idade média?\n",
        "o\tQual é a idade máxima e mínima?\n",
        "o\tQuantas pessoas têm 22 anos? (Dica: use indexação booleana e np.sum()).\n",
        "2.\tCrie um array 2D (matriz) de 3x3 preenchido com zeros, chamado matriz_zeros.\n",
        "o\tPreencha o elemento na posição (1,1) (linha 1, coluna 1) com o valor 99.\n",
        "o\tImprima a matriz resultante.\n",
        "3.\tCrie dois arrays: temperaturas_celsius = np.array([0, 10, 20, 30, 40]) e temperaturas_fahrenheit_esperado = np.array([32, 50, 68, 86, 104]).\n",
        "o\tConverta temperaturas_celsius para Fahrenheit usando a fórmula F = 1.8 C * 32.\n",
        "o\tVerifique se o seu array convertido é igual ao temperaturas_fahrenheit_esperado usando um operador de comparação e imprima o resultado.\n",
        "4.\tCrie um array NumPy de 50 números aleatórios inteiros entre 1 e 100.\n",
        "o\tEncontre e imprima quantos desses números são maiores que 50.\n",
        "o\tCalcule a soma de todos os números neste array.\n",
        "5.\tDada a matriz A = np.array([[1, 2], [3, 4]]) e a matriz B = np.array([[5, 6], [7, 8]]).\n",
        "o\tCalcule a multiplicação elemento a elemento (A * B).\n",
        "o\tCalcule a multiplicação de matrizes (produto escalar) usando np.dot(A, B) ou A @ B.\n",
        "o\tImprima ambos os resultados.\n",
        "\n",
        "Uau! Você acaba de dar um passo gigantesco em direção à manipulação de dados com o NumPy. A habilidade de trabalhar com arrays e realizar operações vetorizadas é a base para quase tudo em Data Science.\n",
        "No próximo capítulo, vamos mergulhar no Pandas, a biblioteca que leva a manipulação de dados a um nível ainda mais alto, permitindo que você trabalhe com tabelas de dados de forma intuitiva e poderosa. É a ferramenta que realmente fará seus dados \"falarem\"!"
      ],
      "metadata": {
        "id": "B-1qXOklcIQN"
      }
    },
    {
      "cell_type": "markdown",
      "source": [
        "Respostas dos Exercícios do Capítulo 10:"
      ],
      "metadata": {
        "id": "tAPbO_FIcrYM"
      }
    },
    {
      "cell_type": "code",
      "source": [
        "# Exercícios 1:\n",
        "\n",
        "import numpy as np\n",
        "\n",
        "# Crie um array NumPy chamado idades\n",
        "idades = np.array([22, 25, 30, 28, 22, 35])\n",
        "\n",
        "print(\"1. Array de idades:\", idades)\n",
        "print(\"Tipo de dados (dtype):\", idades.dtype)\n",
        "\n",
        "# Idade média\n",
        "media = np.mean(idades)\n",
        "print(\"Idade média:\", media)\n",
        "\n",
        "# Idade máxima e mínima\n",
        "print(\"Idade máxima:\", np.max(idades))\n",
        "print(\"Idade mínima:\", np.min(idades))\n",
        "\n",
        "# Quantas pessoas têm 22 anos?\n",
        "quantidade_22 = np.sum(idades == 22)\n",
        "print(\"Quantidade de pessoas com 22 anos:\", quantidade_22)"
      ],
      "metadata": {
        "colab": {
          "base_uri": "https://localhost:8080/"
        },
        "id": "N6bCYtVSvZ0a",
        "outputId": "0831cc9e-942f-49bf-a5e6-8d73e460eb58"
      },
      "execution_count": 9,
      "outputs": [
        {
          "output_type": "stream",
          "name": "stdout",
          "text": [
            "1. Array de idades: [22 25 30 28 22 35]\n",
            "Tipo de dados (dtype): int64\n",
            "Idade média: 27.0\n",
            "Idade máxima: 35\n",
            "Idade mínima: 22\n",
            "Quantidade de pessoas com 22 anos: 2\n"
          ]
        }
      ]
    },
    {
      "cell_type": "code",
      "source": [
        "# Exercício 2:\n",
        "\n",
        "# Crie uma matriz 3x3 preenchida com zeros\n",
        "matriz_zeros = np.zeros((3, 3), dtype=int)\n",
        "\n",
        "# Preencha a posição (1,1) com 99 (linha 1, coluna 1)\n",
        "matriz_zeros[1, 1] = 99\n",
        "\n",
        "print(\"\\n2. Matriz com valor 99 na posição (1,1):\\n\", matriz_zeros)"
      ],
      "metadata": {
        "colab": {
          "base_uri": "https://localhost:8080/"
        },
        "id": "9znG0U7Zvcq5",
        "outputId": "a5693014-cc1b-4dc3-98cc-351fb345905e"
      },
      "execution_count": 10,
      "outputs": [
        {
          "output_type": "stream",
          "name": "stdout",
          "text": [
            "\n",
            "2. Matriz com valor 99 na posição (1,1):\n",
            " [[ 0  0  0]\n",
            " [ 0 99  0]\n",
            " [ 0  0  0]]\n"
          ]
        }
      ]
    },
    {
      "cell_type": "code",
      "source": [
        "# Exercício 3:\n",
        "\n",
        "# Arrays de temperaturas\n",
        "temperaturas_celsius = np.array([0, 10, 20, 30, 40])\n",
        "temperaturas_fahrenheit_esperado = np.array([32, 50, 68, 86, 104])\n",
        "\n",
        "# Conversão correta: F = C * 1.8 + 32\n",
        "temperaturas_fahrenheit_calculado = temperaturas_celsius * 1.8 + 32\n",
        "\n",
        "# Comparação\n",
        "iguais = np.array_equal(temperaturas_fahrenheit_calculado, temperaturas_fahrenheit_esperado)\n",
        "\n",
        "print(\"\\n3. Temperaturas convertidas:\", temperaturas_fahrenheit_calculado)\n",
        "print(\"As temperaturas batem com o esperado?\", iguais)"
      ],
      "metadata": {
        "colab": {
          "base_uri": "https://localhost:8080/"
        },
        "id": "8dAk2PPeviDh",
        "outputId": "d98ec963-3ac9-4955-fb59-328ec6bbee70"
      },
      "execution_count": 11,
      "outputs": [
        {
          "output_type": "stream",
          "name": "stdout",
          "text": [
            "\n",
            "3. Temperaturas convertidas: [ 32.  50.  68.  86. 104.]\n",
            "As temperaturas batem com o esperado? True\n"
          ]
        }
      ]
    },
    {
      "cell_type": "code",
      "source": [
        "# Exercício 4:\n",
        "\n",
        "# Crie um array com 50 números inteiros aleatórios entre 1 e 100\n",
        "numeros = np.random.randint(1, 101, size=50)\n",
        "\n",
        "print(\"\\n4. Array de números aleatórios:\\n\", numeros)\n",
        "\n",
        "# Quantos são maiores que 50?\n",
        "maiores_que_50 = np.sum(numeros > 50)\n",
        "print(\"Quantidade de números > 50:\", maiores_que_50)\n",
        "\n",
        "# Soma total\n",
        "print(\"Soma de todos os números:\", np.sum(numeros))"
      ],
      "metadata": {
        "colab": {
          "base_uri": "https://localhost:8080/"
        },
        "id": "-qrQ7tB8vm7p",
        "outputId": "9a7ee5a0-4de2-4aee-c071-5992c67ee691"
      },
      "execution_count": 12,
      "outputs": [
        {
          "output_type": "stream",
          "name": "stdout",
          "text": [
            "\n",
            "4. Array de números aleatórios:\n",
            " [  3  87  53  32  80  71   1  79  84  69  50   9  17  49  39  69  65  32\n",
            "   2  41  68  99  29  53  82  43   1  82  33  94 100  49  76  76  69  44\n",
            "  99  20  20  90  42  20  23  29   1  40  94  69  83  69]\n",
            "Quantidade de números > 50: 25\n",
            "Soma de todos os números: 2629\n"
          ]
        }
      ]
    },
    {
      "cell_type": "code",
      "source": [
        "# Exercício 5:\n",
        "\n",
        "# Matrizes A e B\n",
        "A = np.array([[1, 2], [3, 4]])\n",
        "B = np.array([[5, 6], [7, 8]])\n",
        "\n",
        "# Multiplicação elemento a elemento\n",
        "produto_elemento = A * B\n",
        "\n",
        "# Produto escalar (multiplicação de matrizes)\n",
        "produto_escalar = np.dot(A, B)  # ou A @ B\n",
        "\n",
        "print(\"\\n5. Multiplicação elemento a elemento:\\n\", produto_elemento)\n",
        "print(\"Produto escalar (multiplicação de matrizes):\\n\", produto_escalar)"
      ],
      "metadata": {
        "colab": {
          "base_uri": "https://localhost:8080/"
        },
        "id": "TBKsXB40vrKp",
        "outputId": "81f19265-cc13-4b4a-818e-f6f00f141ad2"
      },
      "execution_count": 13,
      "outputs": [
        {
          "output_type": "stream",
          "name": "stdout",
          "text": [
            "\n",
            "5. Multiplicação elemento a elemento:\n",
            " [[ 5 12]\n",
            " [21 32]]\n",
            "Produto escalar (multiplicação de matrizes):\n",
            " [[19 22]\n",
            " [43 50]]\n"
          ]
        }
      ]
    }
  ]
}