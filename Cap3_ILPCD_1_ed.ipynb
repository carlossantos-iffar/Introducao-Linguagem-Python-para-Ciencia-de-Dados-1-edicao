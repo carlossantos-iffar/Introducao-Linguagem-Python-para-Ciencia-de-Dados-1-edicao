{
  "nbformat": 4,
  "nbformat_minor": 0,
  "metadata": {
    "colab": {
      "provenance": []
    },
    "kernelspec": {
      "name": "python3",
      "display_name": "Python 3"
    },
    "language_info": {
      "name": "python"
    }
  },
  "cells": [
    {
      "cell_type": "markdown",
      "source": [
        "**Capítulo 3 – Estruturas de Controle de Fluxo**"
      ],
      "metadata": {
        "id": "4Tohpu-zV4Fa"
      }
    },
    {
      "cell_type": "markdown",
      "source": [
        "_Este notebook contém todos os códigos de exemplo e soluções para os exercícios do Capítulo 1._"
      ],
      "metadata": {
        "id": "LW6frP1KWroi"
      }
    },
    {
      "cell_type": "markdown",
      "source": [
        "<table align=\"left\">\n",
        "  <td>\n",
        "    <a href=\"https://colab.research.google.com/drive/1iyiXMacitLCZVDrJbHt0SY8xfsuSKo7I\" target=\"_parent\"><img src=\"https://colab.research.google.com/assets/colab-badge.svg\" alt=\"Open In Colab\"/></a>\n",
        "  </td>\n",
        "</table>"
      ],
      "metadata": {
        "id": "yBJquUYkWvIh"
      }
    },
    {
      "cell_type": "markdown",
      "source": [
        "# Configuração"
      ],
      "metadata": {
        "id": "f4U4EAwnXQDZ"
      }
    },
    {
      "cell_type": "markdown",
      "source": [
        "Este projeto requer Python 3.11 ou superior:"
      ],
      "metadata": {
        "id": "0Sl5DlgDXWQB"
      }
    },
    {
      "cell_type": "code",
      "source": [
        "import sys\n",
        "\n",
        "assert sys.version_info >= (3, 11)"
      ],
      "metadata": {
        "id": "3SNbtY_UXdQp"
      },
      "execution_count": 22,
      "outputs": []
    },
    {
      "cell_type": "code",
      "source": [
        "!python --version"
      ],
      "metadata": {
        "colab": {
          "base_uri": "https://localhost:8080/"
        },
        "id": "dT26LEsSZx1-",
        "outputId": "6c44f5f6-9786-4b7b-aa1b-05e953d58aaf"
      },
      "execution_count": 23,
      "outputs": [
        {
          "output_type": "stream",
          "name": "stdout",
          "text": [
            "Python 3.11.13\n"
          ]
        }
      ]
    },
    {
      "cell_type": "markdown",
      "source": [
        "if, elif, else (Condicionais)"
      ],
      "metadata": {
        "id": "h4hvildnFbS6"
      }
    },
    {
      "cell_type": "code",
      "source": [
        "idade = 18\n",
        "\n",
        "if idade >= 18:\n",
        "    print(\"Você é maior de idade.\")\n",
        "else:\n",
        "    print(\"Você é menor de idade.\")\n",
        "\n",
        "# Saída: Você é maior de idade."
      ],
      "metadata": {
        "colab": {
          "base_uri": "https://localhost:8080/"
        },
        "id": "CUuF5ewJFccB",
        "outputId": "46a825f1-5c4d-47f6-eb68-e9b0bab688b8"
      },
      "execution_count": 24,
      "outputs": [
        {
          "output_type": "stream",
          "name": "stdout",
          "text": [
            "Você é maior de idade.\n"
          ]
        }
      ]
    },
    {
      "cell_type": "markdown",
      "source": [
        "Verifique a versão do Python instalada no Colab:"
      ],
      "metadata": {
        "id": "5vQiQqOyZ7cH"
      }
    },
    {
      "cell_type": "code",
      "source": [
        "temperatura = 25\n",
        "if temperatura > 30:\n",
        "    print(\"Está muito quente! Beba bastante água.\")\n",
        "elif temperatura > 20:\n",
        "    print(\"A temperatura está agradável.\")\n",
        "else:\n",
        "    print(\"Está um pouco frio, agasalhe-se.\")\n",
        "\n",
        "# Saída: A temperatura está agradável."
      ],
      "metadata": {
        "colab": {
          "base_uri": "https://localhost:8080/"
        },
        "id": "RU-vjmy9FzgB",
        "outputId": "6edd5187-7886-47e9-dee6-8c332be79ebc"
      },
      "execution_count": 25,
      "outputs": [
        {
          "output_type": "stream",
          "name": "stdout",
          "text": [
            "A temperatura está agradável.\n"
          ]
        }
      ]
    },
    {
      "cell_type": "code",
      "source": [
        "cor_semaforo = \"verde\"\n",
        "\n",
        "if cor_semaforo == \"verde\":\n",
        "    print(\"Pode seguir!\")\n",
        "elif cor_semaforo == \"amarelo\":\n",
        "    print(\"Atenção!\")\n",
        "else: # Implica que a cor é \"vermelho\" ou outra coisa\n",
        "    print(\"Pare!\")\n",
        "\n",
        "# Saída: Pode seguir!"
      ],
      "metadata": {
        "colab": {
          "base_uri": "https://localhost:8080/"
        },
        "id": "e69OTmIzGP_R",
        "outputId": "a149fbb5-1b0c-4ba5-eb97-7d3c3e658a5b"
      },
      "execution_count": 26,
      "outputs": [
        {
          "output_type": "stream",
          "name": "stdout",
          "text": [
            "Pode seguir!\n"
          ]
        }
      ]
    },
    {
      "cell_type": "markdown",
      "source": [
        "Loop for"
      ],
      "metadata": {
        "id": "QHVs6ZOHGyVZ"
      }
    },
    {
      "cell_type": "code",
      "source": [
        "# Iterando sobre uma lista (iremos explorar listas em detalhes no próximo capítulo)\n",
        "frutas = [\"maçã\", \"banana\", \"cereja\"]\n",
        "for fruta in frutas:\n",
        "    print(f\"Eu gosto de {fruta}.\")\n",
        "\n",
        "# Saída:\n",
        "# Eu gosto de maçã.\n",
        "# Eu gosto de banana.\n",
        "# Eu gosto de cereja."
      ],
      "metadata": {
        "colab": {
          "base_uri": "https://localhost:8080/"
        },
        "id": "LHlrcQtQG5Bo",
        "outputId": "08236cc6-bde7-4a7f-9b64-622eba888c95"
      },
      "execution_count": 27,
      "outputs": [
        {
          "output_type": "stream",
          "name": "stdout",
          "text": [
            "Eu gosto de maçã.\n",
            "Eu gosto de banana.\n",
            "Eu gosto de cereja.\n"
          ]
        }
      ]
    },
    {
      "cell_type": "code",
      "source": [
        "# Iterando com range()\n",
        "for i in range(5): # De 0 a 4\n",
        "    print(f\"Contando: {i}\")\n",
        "\n",
        "# Saída:\n",
        "# Contando: 0\n",
        "# Contando: 1\n",
        "# Contando: 2\n",
        "# Contando: 3\n",
        "# Contando: 4"
      ],
      "metadata": {
        "colab": {
          "base_uri": "https://localhost:8080/"
        },
        "id": "dcZZVQpfHTAA",
        "outputId": "55577bb7-c1ea-4e87-ed06-0aa83f6598c3"
      },
      "execution_count": 28,
      "outputs": [
        {
          "output_type": "stream",
          "name": "stdout",
          "text": [
            "Contando: 0\n",
            "Contando: 1\n",
            "Contando: 2\n",
            "Contando: 3\n",
            "Contando: 4\n"
          ]
        }
      ]
    },
    {
      "cell_type": "code",
      "source": [
        "for numero in range(1, 6): # De 1 a 5\n",
        "    print(numero)\n",
        "\n",
        "# Saída:\n",
        "# 1\n",
        "# 2\n",
        "# 3\n",
        "# 4\n",
        "# 5"
      ],
      "metadata": {
        "colab": {
          "base_uri": "https://localhost:8080/"
        },
        "id": "ZTj3PSCUHiAI",
        "outputId": "828bb84d-33f3-4666-9171-4fb01ad54b5e"
      },
      "execution_count": 29,
      "outputs": [
        {
          "output_type": "stream",
          "name": "stdout",
          "text": [
            "1\n",
            "2\n",
            "3\n",
            "4\n",
            "5\n"
          ]
        }
      ]
    },
    {
      "cell_type": "code",
      "source": [
        "for i in range(0, 10, 2): # De 0 a 9, pulando de 2 em 2\n",
        "    print(f\"Número par: {i}\")\n",
        "\n",
        "# Saída:\n",
        "# Número par: 0\n",
        "# Número par: 2\n",
        "# Número par: 4\n",
        "# Número par: 6\n",
        "# Número par: 8"
      ],
      "metadata": {
        "colab": {
          "base_uri": "https://localhost:8080/"
        },
        "id": "cJqOR3W6Hjl4",
        "outputId": "de8c0cb6-a2f5-457c-f076-135499aa8f2d"
      },
      "execution_count": 30,
      "outputs": [
        {
          "output_type": "stream",
          "name": "stdout",
          "text": [
            "Número par: 0\n",
            "Número par: 2\n",
            "Número par: 4\n",
            "Número par: 6\n",
            "Número par: 8\n"
          ]
        }
      ]
    },
    {
      "cell_type": "code",
      "source": [
        "# Iterando sobre uma string\n",
        "minha_palavra = \"Python\"\n",
        "for letra in minha_palavra:\n",
        "    print(letra)\n",
        "\n",
        "# Saída:\n",
        "# P\n",
        "# y\n",
        "# t\n",
        "# h\n",
        "# o\n",
        "# n"
      ],
      "metadata": {
        "colab": {
          "base_uri": "https://localhost:8080/"
        },
        "id": "hmFxaEItHy3X",
        "outputId": "0ca8b88c-2b6b-421f-9d74-80c32bbcf6c4"
      },
      "execution_count": 31,
      "outputs": [
        {
          "output_type": "stream",
          "name": "stdout",
          "text": [
            "P\n",
            "y\n",
            "t\n",
            "h\n",
            "o\n",
            "n\n"
          ]
        }
      ]
    },
    {
      "cell_type": "markdown",
      "source": [
        "Loop while"
      ],
      "metadata": {
        "id": "o6OewAaIH3pw"
      }
    },
    {
      "cell_type": "code",
      "source": [
        "contador = 0\n",
        "while contador < 5:\n",
        "    print(f\"Contador: {contador}\")\n",
        "    contador = contador + 1 # Ou contador += 1 (atalho para incremento)\n",
        "\n",
        "# Saída:\n",
        "# Contador: 0\n",
        "# Contador: 1\n",
        "# Contador: 2\n",
        "# Contador: 3\n",
        "# Contador: 4"
      ],
      "metadata": {
        "colab": {
          "base_uri": "https://localhost:8080/"
        },
        "id": "KjdbQjY9H4pX",
        "outputId": "f7cf3794-7741-4683-a563-00c5c24c9294"
      },
      "execution_count": 32,
      "outputs": [
        {
          "output_type": "stream",
          "name": "stdout",
          "text": [
            "Contador: 0\n",
            "Contador: 1\n",
            "Contador: 2\n",
            "Contador: 3\n",
            "Contador: 4\n"
          ]
        }
      ]
    },
    {
      "cell_type": "code",
      "source": [
        "# Exemplo de loop que espera uma entrada específica\n",
        "senha_correta = \"segredo123\"\n",
        "senha_digitada = \"\"\n",
        "\n",
        "while senha_digitada != senha_correta:\n",
        "    senha_digitada = input(\"Digite a senha: \") # input() lê dados do teclado\n",
        "    if senha_digitada != senha_correta:\n",
        "        print(\"Senha incorreta. Tente novamente.\")\n",
        "\n",
        "print(\"Acesso concedido!\")\n",
        "\n",
        "# Para testar este exemplo, você precisará digitar a senha \"segredo123\""
      ],
      "metadata": {
        "colab": {
          "base_uri": "https://localhost:8080/"
        },
        "id": "P2frwuBMIL-v",
        "outputId": "d73bb919-4d67-4ba5-c45e-7486bfa814f5"
      },
      "execution_count": 33,
      "outputs": [
        {
          "output_type": "stream",
          "name": "stdout",
          "text": [
            "Digite a senha: '1\n",
            "Senha incorreta. Tente novamente.\n",
            "Digite a senha: segredo123\n",
            "Acesso concedido!\n"
          ]
        }
      ]
    },
    {
      "cell_type": "markdown",
      "source": [
        "break e continue"
      ],
      "metadata": {
        "id": "o3EGdtxiIcFw"
      }
    },
    {
      "cell_type": "code",
      "source": [
        "# Usando 'break'\n",
        "for numero in range(1, 10):\n",
        "    if numero == 5:\n",
        "        print(\"Encontrei o 5! Saindo do loop.\")\n",
        "        break\n",
        "    print(f\"Processando número: {numero}\")\n",
        "# Saída:\n",
        "# Processando número: 1\n",
        "# Processando número: 2\n",
        "# Processando número: 3\n",
        "# Processando número: 4\n",
        "# Encontrei o 5! Saindo do loop.\n",
        "\n",
        "print(\"-\" * 20) # Separador"
      ],
      "metadata": {
        "colab": {
          "base_uri": "https://localhost:8080/"
        },
        "id": "4ZIEItIgIc7H",
        "outputId": "e6ede3c6-2a97-4a8d-ccc0-35c4ce9565a9"
      },
      "execution_count": 34,
      "outputs": [
        {
          "output_type": "stream",
          "name": "stdout",
          "text": [
            "Processando número: 1\n",
            "Processando número: 2\n",
            "Processando número: 3\n",
            "Processando número: 4\n",
            "Encontrei o 5! Saindo do loop.\n",
            "--------------------\n"
          ]
        }
      ]
    },
    {
      "cell_type": "code",
      "source": [
        "# Usando 'continue'\n",
        "for numero in range(1, 10):\n",
        "    if numero % 2 == 0: # Se o número for par\n",
        "        print(f\"Pulando o número par: {numero}\")\n",
        "        continue # Pula para a próxima iteração\n",
        "    print(f\"Processando número ímpar: {numero}\")\n",
        "\n",
        "# Saída:\n",
        "# Processando número ímpar: 1\n",
        "# Pulando o número par: 2\n",
        "# Processando número ímpar: 3\n",
        "# Pulando o número par: 4\n",
        "# Processando número ímpar: 5\n",
        "# Pulando o número par: 6\n",
        "# Processando número ímpar: 7\n",
        "# Pulando o número par: 8\n",
        "# Processando número ímpar: 9"
      ],
      "metadata": {
        "colab": {
          "base_uri": "https://localhost:8080/"
        },
        "id": "jCo8-GlfI08P",
        "outputId": "27858280-3e52-44fe-94a3-75ff1bc0073e"
      },
      "execution_count": 35,
      "outputs": [
        {
          "output_type": "stream",
          "name": "stdout",
          "text": [
            "Processando número ímpar: 1\n",
            "Pulando o número par: 2\n",
            "Processando número ímpar: 3\n",
            "Pulando o número par: 4\n",
            "Processando número ímpar: 5\n",
            "Pulando o número par: 6\n",
            "Processando número ímpar: 7\n",
            "Pulando o número par: 8\n",
            "Processando número ímpar: 9\n"
          ]
        }
      ]
    },
    {
      "cell_type": "markdown",
      "source": [
        "**Exercícios do Capítulo 3**\n",
        "\n",
        "1.\tCrie uma variável idade_usuario. Peça ao usuário para digitar sua idade usando a função input() (lembre-se de converter a entrada para int). Use if/elif/else para imprimir:\n",
        "o\t\"Você é um bebê.\" se a idade for de 0 a 2.\n",
        "o\t\"Você é uma criança.\" se a idade for de 3 a 12.\n",
        "o\t\"Você é um adolescente.\" se a idade for de 13 a 17.\n",
        "o\t\"Você é um adulto.\" se a idade for de 18 a 60.\n",
        "o\t\"Você é um idoso.\" se a idade for maior que 60.\n",
        "2.\tUse um loop for para imprimir todos os números de 1 a 100.\n",
        "3.\tModifique o exercício anterior para imprimir apenas os números pares de 1 a 100, usando um if dentro do loop.\n",
        "4.\tCrie um loop while que imprima os números de 10 a 1 em ordem decrescente, e pare quando chegar a 0.\n",
        "5.\tImagine que você tem uma lista de notas: notas = [7.5, 6.0, 8.0, 4.5, 9.0]. Use um loop for para iterar sobre esta lista. Se uma nota for menor que 6.0, imprima \"Reprovado!\" e use continue para pular para a próxima nota. Caso contrário, imprima \"Aprovado com nota [nota]\".\n",
        "\n",
        "Você está fazendo um progresso excelente! As estruturas de controle de fluxo são a espinha dorsal de qualquer programa complexo. No próximo capítulo, vamos mergulhar nas coleções de dados em Python, onde você aprenderá a armazenar e organizar múltiplos valores de forma eficiente."
      ],
      "metadata": {
        "id": "B-1qXOklcIQN"
      }
    },
    {
      "cell_type": "markdown",
      "source": [
        "Respostas dos Exercícios do Capítulo 3:"
      ],
      "metadata": {
        "id": "tAPbO_FIcrYM"
      }
    },
    {
      "cell_type": "code",
      "source": [
        "# Exercício 1:\n",
        "\n",
        "idade_usuario = int(input(\"Digite sua idade: \"))\n",
        "\n",
        "if 0 <= idade_usuario <= 2:\n",
        "    print(\"Você é um bebê.\")\n",
        "elif 3 <= idade_usuario <= 12:\n",
        "    print(\"Você é uma criança.\")\n",
        "elif 13 <= idade_usuario <= 17:\n",
        "    print(\"Você é um adolescente.\")\n",
        "elif 18 <= idade_usuario <= 60:\n",
        "    print(\"Você é um adulto.\")\n",
        "elif idade_usuario > 60:\n",
        "    print(\"Você é um idoso.\")\n",
        "else:\n",
        "    print(\"Idade inválida.\")\n"
      ],
      "metadata": {
        "colab": {
          "base_uri": "https://localhost:8080/"
        },
        "id": "KGmq76FbJhXn",
        "outputId": "b7e581d8-73eb-44a3-ecbe-a85d798a8bf6"
      },
      "execution_count": 36,
      "outputs": [
        {
          "output_type": "stream",
          "name": "stdout",
          "text": [
            "Digite sua idade: 12\n",
            "Você é uma criança.\n"
          ]
        }
      ]
    },
    {
      "cell_type": "code",
      "source": [
        "# Exercício 2:\n",
        "\n",
        "for i in range(1, 101):\n",
        "    print(i)"
      ],
      "metadata": {
        "colab": {
          "base_uri": "https://localhost:8080/"
        },
        "id": "MP0b9oq_JltO",
        "outputId": "e81300d7-b880-4468-b2aa-a47f6356af74"
      },
      "execution_count": 37,
      "outputs": [
        {
          "output_type": "stream",
          "name": "stdout",
          "text": [
            "1\n",
            "2\n",
            "3\n",
            "4\n",
            "5\n",
            "6\n",
            "7\n",
            "8\n",
            "9\n",
            "10\n",
            "11\n",
            "12\n",
            "13\n",
            "14\n",
            "15\n",
            "16\n",
            "17\n",
            "18\n",
            "19\n",
            "20\n",
            "21\n",
            "22\n",
            "23\n",
            "24\n",
            "25\n",
            "26\n",
            "27\n",
            "28\n",
            "29\n",
            "30\n",
            "31\n",
            "32\n",
            "33\n",
            "34\n",
            "35\n",
            "36\n",
            "37\n",
            "38\n",
            "39\n",
            "40\n",
            "41\n",
            "42\n",
            "43\n",
            "44\n",
            "45\n",
            "46\n",
            "47\n",
            "48\n",
            "49\n",
            "50\n",
            "51\n",
            "52\n",
            "53\n",
            "54\n",
            "55\n",
            "56\n",
            "57\n",
            "58\n",
            "59\n",
            "60\n",
            "61\n",
            "62\n",
            "63\n",
            "64\n",
            "65\n",
            "66\n",
            "67\n",
            "68\n",
            "69\n",
            "70\n",
            "71\n",
            "72\n",
            "73\n",
            "74\n",
            "75\n",
            "76\n",
            "77\n",
            "78\n",
            "79\n",
            "80\n",
            "81\n",
            "82\n",
            "83\n",
            "84\n",
            "85\n",
            "86\n",
            "87\n",
            "88\n",
            "89\n",
            "90\n",
            "91\n",
            "92\n",
            "93\n",
            "94\n",
            "95\n",
            "96\n",
            "97\n",
            "98\n",
            "99\n",
            "100\n"
          ]
        }
      ]
    },
    {
      "cell_type": "code",
      "source": [
        "# Exercício 3:\n",
        "\n",
        "for i in range(1, 101):\n",
        "    if i % 2 == 0:\n",
        "        print(i)\n"
      ],
      "metadata": {
        "colab": {
          "base_uri": "https://localhost:8080/"
        },
        "id": "pgSjLJ0mJxXm",
        "outputId": "080deee8-f202-4fe1-b3ad-4e983565a6da"
      },
      "execution_count": 38,
      "outputs": [
        {
          "output_type": "stream",
          "name": "stdout",
          "text": [
            "2\n",
            "4\n",
            "6\n",
            "8\n",
            "10\n",
            "12\n",
            "14\n",
            "16\n",
            "18\n",
            "20\n",
            "22\n",
            "24\n",
            "26\n",
            "28\n",
            "30\n",
            "32\n",
            "34\n",
            "36\n",
            "38\n",
            "40\n",
            "42\n",
            "44\n",
            "46\n",
            "48\n",
            "50\n",
            "52\n",
            "54\n",
            "56\n",
            "58\n",
            "60\n",
            "62\n",
            "64\n",
            "66\n",
            "68\n",
            "70\n",
            "72\n",
            "74\n",
            "76\n",
            "78\n",
            "80\n",
            "82\n",
            "84\n",
            "86\n",
            "88\n",
            "90\n",
            "92\n",
            "94\n",
            "96\n",
            "98\n",
            "100\n"
          ]
        }
      ]
    },
    {
      "cell_type": "code",
      "source": [
        "# Exercício 4:\n",
        "\n",
        "contador = 10\n",
        "while contador >= 1:\n",
        "    print(contador)\n",
        "    contador -= 1\n"
      ],
      "metadata": {
        "colab": {
          "base_uri": "https://localhost:8080/"
        },
        "id": "bmluyKOdJzh-",
        "outputId": "400fd3a8-4e9e-4077-db97-f80a7f931784"
      },
      "execution_count": 39,
      "outputs": [
        {
          "output_type": "stream",
          "name": "stdout",
          "text": [
            "10\n",
            "9\n",
            "8\n",
            "7\n",
            "6\n",
            "5\n",
            "4\n",
            "3\n",
            "2\n",
            "1\n"
          ]
        }
      ]
    },
    {
      "cell_type": "code",
      "source": [
        "# Exercício 5:\n",
        "\n",
        "notas = [7.5, 6.0, 8.0, 4.5, 9.0]\n",
        "\n",
        "for nota in notas:\n",
        "    if nota < 6.0:\n",
        "        print(\"Reprovado!\")\n",
        "        continue\n",
        "    print(f\"Aprovado com nota {nota}\")\n"
      ],
      "metadata": {
        "colab": {
          "base_uri": "https://localhost:8080/"
        },
        "id": "OZA4fZQCJ48e",
        "outputId": "00f6296f-14c7-4a50-b0a9-2dbaaefdeb48"
      },
      "execution_count": 40,
      "outputs": [
        {
          "output_type": "stream",
          "name": "stdout",
          "text": [
            "Aprovado com nota 7.5\n",
            "Aprovado com nota 6.0\n",
            "Aprovado com nota 8.0\n",
            "Reprovado!\n",
            "Aprovado com nota 9.0\n"
          ]
        }
      ]
    }
  ]
}